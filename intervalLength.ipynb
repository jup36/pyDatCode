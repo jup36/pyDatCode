{
 "cells": [
  {
   "cell_type": "code",
   "execution_count": null,
   "id": "7e54d69a-8b13-4365-89d8-502edb1419d8",
   "metadata": {},
   "outputs": [],
   "source": [
    "# Enter your code here. Read input from STDIN. Print output to STDOUT\n",
    "import numpy as np\n",
    "\n",
    "x = input()\n",
    "xx = np.array(str.split(x))\n",
    "lo = int(xx[0])\n",
    "up = int(xx[1])\n",
    "rest = xx[2:]\n",
    "rest = list(map(int,rest))\n",
    "#collectArr = np.array([])\n",
    "collectArr = []\n",
    "count = 0\n",
    "for i in range(lo,up+1):\n",
    "    for j in range(lo,up+1):\n",
    "        if j >= i:\n",
    "           arr = list(range(i,j+1))  \n",
    "           #print(arr) \n",
    "           #print(np.intersect1d(arr,rest))\n",
    "           if len(np.intersect1d(arr,rest))==0:\n",
    "              collectArr += [(max(arr)-min(arr)+1)]\n",
    "                            \n",
    "print(max(collectArr))"
   ]
  },
  {
   "cell_type": "code",
   "execution_count": null,
   "id": "c6741e6f-1813-423c-833e-5d148700621d",
   "metadata": {},
   "outputs": [],
   "source": []
  }
 ],
 "metadata": {
  "kernelspec": {
   "display_name": "Python 3",
   "language": "python",
   "name": "python3"
  },
  "language_info": {
   "codemirror_mode": {
    "name": "ipython",
    "version": 3
   },
   "file_extension": ".py",
   "mimetype": "text/x-python",
   "name": "python",
   "nbconvert_exporter": "python",
   "pygments_lexer": "ipython3",
   "version": "3.8.8"
  }
 },
 "nbformat": 4,
 "nbformat_minor": 5
}
