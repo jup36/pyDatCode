{
 "cells": [
  {
   "cell_type": "code",
   "execution_count": 327,
   "id": "e086935c-48f4-4575-b87b-f3510ea0041a",
   "metadata": {},
   "outputs": [],
   "source": [
    "        height = [0,1,0,2,1,0,1,3,2,1,2,1]\n",
    "\n",
    "        stack = []\n",
    "        volume = 0\n",
    "        \n",
    "        stack_list = []\n",
    "        top_list = []\n",
    "        distance_list = []\n",
    "        waters_list = []\n",
    "        \n",
    "        for i in range(len(height)):\n",
    "            \n",
    "            while stack and height[i] > height[stack[-1]]: \n",
    "                top = stack.pop()\n",
    "                \n",
    "                if not len(stack): \n",
    "                    break\n",
    "                \n",
    "                distance = i - stack[-1] - 1\n",
    "                waters = min(height[i], height[stack[-1]])-height[top]\n",
    "                volume += distance * waters\n",
    "                \n",
    "            stack.append(i)"
   ]
  },
  {
   "cell_type": "code",
   "execution_count": null,
   "id": "a06b9a4c-de3e-4fc7-8b56-0806d677e15d",
   "metadata": {},
   "outputs": [],
   "source": []
  }
 ],
 "metadata": {
  "kernelspec": {
   "display_name": "Python 3",
   "language": "python",
   "name": "python3"
  },
  "language_info": {
   "codemirror_mode": {
    "name": "ipython",
    "version": 3
   },
   "file_extension": ".py",
   "mimetype": "text/x-python",
   "name": "python",
   "nbconvert_exporter": "python",
   "pygments_lexer": "ipython3",
   "version": "3.9.4"
  }
 },
 "nbformat": 4,
 "nbformat_minor": 5
}
