{
 "cells": [
  {
   "cell_type": "code",
   "execution_count": 4,
   "id": "449d3cae-79fd-4da2-b6ae-085b112bcfaa",
   "metadata": {},
   "outputs": [
    {
     "name": "stdin",
     "output_type": "stream",
     "text": [
      " 31\n"
     ]
    },
    {
     "name": "stdout",
     "output_type": "stream",
     "text": [
      "0\n"
     ]
    }
   ],
   "source": [
    "x = input()\n",
    "total = 0\n",
    "for i in x:\n",
    "    if (int(i)==1) or (int(i)==2) or (int(i)==3) or (int(i)==5) or (int(i)==7):\n",
    "        total = total + 0\n",
    "    elif (int(i)==0) or (int(i)==4) or (int(i)==6) or (int(i)==9):\n",
    "        total = total + 1\n",
    "    else:\n",
    "        total = total + 2\n",
    "print(total)\n",
    "    "
   ]
  },
  {
   "cell_type": "code",
   "execution_count": null,
   "id": "42da3510-4035-428c-969a-e349bcecd545",
   "metadata": {},
   "outputs": [],
   "source": []
  }
 ],
 "metadata": {
  "kernelspec": {
   "display_name": "Python 3",
   "language": "python",
   "name": "python3"
  },
  "language_info": {
   "codemirror_mode": {
    "name": "ipython",
    "version": 3
   },
   "file_extension": ".py",
   "mimetype": "text/x-python",
   "name": "python",
   "nbconvert_exporter": "python",
   "pygments_lexer": "ipython3",
   "version": "3.8.8"
  }
 },
 "nbformat": 4,
 "nbformat_minor": 5
}
