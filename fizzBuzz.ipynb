{
 "cells": [
  {
   "cell_type": "code",
   "execution_count": 1,
   "id": "74a84ee0-9904-452c-85df-4d9772e896c7",
   "metadata": {},
   "outputs": [
    {
     "name": "stdout",
     "output_type": "stream",
     "text": [
      "1\n",
      "2\n",
      "Fizz\n",
      "4\n",
      "Buzz\n",
      "Fizz\n",
      "7\n",
      "8\n",
      "Fizz\n",
      "Buzz\n",
      "None\n"
     ]
    }
   ],
   "source": [
    "def fizzBuzz(n):\n",
    "    # Write your code here\n",
    "    for fzbz in range(1,n+1):\n",
    "        if fzbz % 3 == 0 and fzbz % 5 == 0: \n",
    "            print(\"FizzBuzz\")\n",
    "        elif fzbz % 5 == 0: \n",
    "            print(\"Buzz\")\n",
    "        elif fzbz % 3 == 0:\n",
    "            print(\"Fizz\")\n",
    "        else:\n",
    "            print(fzbz)\n",
    "             \n",
    "print(fizzBuzz(10))\n",
    "#if __name__ == '__main__':"
   ]
  },
  {
   "cell_type": "code",
   "execution_count": 2,
   "id": "c4be1e58-e80f-43c9-996f-cb535bee2b51",
   "metadata": {},
   "outputs": [
    {
     "name": "stdout",
     "output_type": "stream",
     "text": [
      "1\n",
      "2\n",
      "Fizz\n",
      "4\n",
      "Buzz\n",
      "Fizz\n",
      "7\n",
      "8\n",
      "Fizz\n",
      "Buzz\n",
      "None\n"
     ]
    }
   ],
   "source": [
    "print(fizzBuzz(10))"
   ]
  },
  {
   "cell_type": "code",
   "execution_count": null,
   "id": "eadd0275-ca32-4da2-8eb2-1f6dc80b4ddb",
   "metadata": {},
   "outputs": [],
   "source": []
  }
 ],
 "metadata": {
  "kernelspec": {
   "display_name": "Python 3",
   "language": "python",
   "name": "python3"
  },
  "language_info": {
   "codemirror_mode": {
    "name": "ipython",
    "version": 3
   },
   "file_extension": ".py",
   "mimetype": "text/x-python",
   "name": "python",
   "nbconvert_exporter": "python",
   "pygments_lexer": "ipython3",
   "version": "3.8.8"
  }
 },
 "nbformat": 4,
 "nbformat_minor": 5
}
