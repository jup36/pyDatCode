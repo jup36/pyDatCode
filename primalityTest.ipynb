{
 "cells": [
  {
   "cell_type": "code",
   "execution_count": null,
   "id": "5a2914b8-0b60-4b47-9b51-603142b94066",
   "metadata": {},
   "outputs": [],
   "source": [
    "# prime tester\n",
    "import math\n",
    "def isprime(n):\n",
    "    if n <= 1:\n",
    "        return False\n",
    "    elif n ==2:\n",
    "        return True\n",
    "    for x in range(2,int(math.sqrt(n))+1):\n",
    "        if n%x==0:\n",
    "            return False\n",
    "    return True"
   ]
  },
  {
   "cell_type": "code",
   "execution_count": 4,
   "id": "b320b8ae-a9ab-4bcb-a07c-221e72accb00",
   "metadata": {},
   "outputs": [],
   "source": [
    "import math\n",
    "def is_prime(n):\n",
    "    if n % 2 == 0 and n > 2: \n",
    "        return False\n",
    "    return all(n % i for i in range(3, int(math.sqrt(n)) + 1, 2))"
   ]
  }
 ],
 "metadata": {
  "kernelspec": {
   "display_name": "Python 3",
   "language": "python",
   "name": "python3"
  },
  "language_info": {
   "codemirror_mode": {
    "name": "ipython",
    "version": 3
   },
   "file_extension": ".py",
   "mimetype": "text/x-python",
   "name": "python",
   "nbconvert_exporter": "python",
   "pygments_lexer": "ipython3",
   "version": "3.8.10"
  }
 },
 "nbformat": 4,
 "nbformat_minor": 5
}
