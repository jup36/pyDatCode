{
 "cells": [
  {
   "cell_type": "code",
   "execution_count": 2,
   "id": "94f2cb21-d89f-4a96-a808-8eeb7934daf4",
   "metadata": {},
   "outputs": [],
   "source": [
    "# https://github.com/adam-mehdi/EntityEmbeddingsTutorial/blob/main/EntityEmbeddings.ipynb\n",
    "from fastai.tabular.all import *\n",
    "from fastcore.utils import*\n",
    "from sklearn.metrics import roc_auc_score\n",
    "from sklearn.ensemble import RandomForestClassifier"
   ]
  },
  {
   "cell_type": "code",
   "execution_count": 6,
   "id": "fe992aae-9584-46dc-b2a6-0522376ef87b",
   "metadata": {},
   "outputs": [],
   "source": [
    "df_nn = pd.read_csv('/Users/parkj/Documents/pyDat/dataSet/TabularPlaygroundSeries/tabular-playground-series-mar-2021/train.csv', low_memory=False)\n",
    "df_nn_final = df_nn.drop('id', axis=1)"
   ]
  },
  {
   "cell_type": "code",
   "execution_count": 26,
   "id": "6c902d1f-c8d9-454e-989c-cb5924b07334",
   "metadata": {},
   "outputs": [],
   "source": [
    "cont,cat = cont_cat_split(df_nn_final, max_card=9000, dep_var='target')\n",
    "procs_nn = [Categorify, Normalize]\n",
    "splits = RandomSplitter(seed=23)(df_nn_final)\n",
    "device = torch.device('cuda' if torch.cuda.is_available() else 'cpu')\n",
    "to_nn = TabularPandas(df_nn, procs_nn, cat, cont, splits=splits, y_names='target')"
   ]
  },
  {
   "cell_type": "code",
   "execution_count": 23,
   "id": "6c553699-f32b-4634-bb30-b993b0374ea8",
   "metadata": {},
   "outputs": [
    {
     "ename": "TypeError",
     "evalue": "'tuple' object is not callable",
     "output_type": "error",
     "traceback": [
      "\u001b[0;31m---------------------------------------------------------------------------\u001b[0m",
      "\u001b[0;31mTypeError\u001b[0m                                 Traceback (most recent call last)",
      "\u001b[0;32m<ipython-input-23-9df971d54974>\u001b[0m in \u001b[0;36m<module>\u001b[0;34m\u001b[0m\n\u001b[0;32m----> 1\u001b[0;31m \u001b[0msplits\u001b[0m\u001b[0;34m(\u001b[0m\u001b[0mdf_nn_final\u001b[0m\u001b[0;34m)\u001b[0m\u001b[0;34m\u001b[0m\u001b[0;34m\u001b[0m\u001b[0m\n\u001b[0m\u001b[1;32m      2\u001b[0m \u001b[0;34m\u001b[0m\u001b[0m\n",
      "\u001b[0;31mTypeError\u001b[0m: 'tuple' object is not callable"
     ]
    }
   ],
   "source": [
    "\n"
   ]
  },
  {
   "cell_type": "code",
   "execution_count": null,
   "id": "75bad041-d6e3-4098-880a-b2a7b477fe59",
   "metadata": {},
   "outputs": [],
   "source": []
  }
 ],
 "metadata": {
  "kernelspec": {
   "display_name": "Python 3",
   "language": "python",
   "name": "python3"
  },
  "language_info": {
   "codemirror_mode": {
    "name": "ipython",
    "version": 3
   },
   "file_extension": ".py",
   "mimetype": "text/x-python",
   "name": "python",
   "nbconvert_exporter": "python",
   "pygments_lexer": "ipython3",
   "version": "3.8.10"
  }
 },
 "nbformat": 4,
 "nbformat_minor": 5
}
