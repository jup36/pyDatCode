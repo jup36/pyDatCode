{
 "cells": [
  {
   "cell_type": "code",
   "execution_count": 46,
   "id": "a34f7d6b-c0c1-498f-a010-e315f4ad0baa",
   "metadata": {},
   "outputs": [],
   "source": [
    "'''\n",
    "Give an array of integer, and a start point, and an endpoint print out all the broken intervals. \n",
    "e.g. start = 1, end = 100, array = {2,3,4,6,7}, print {5, 8–100}\n",
    "'''\n",
    "import numpy as np\n",
    "start = 1\n",
    "end = 100\n",
    "array = [2,3,4,6,7,10,21,105]\n",
    "array.append(end)\n",
    "broken = []\n",
    "minNext = 0"
   ]
  },
  {
   "cell_type": "code",
   "execution_count": 45,
   "id": "63616a39-790c-4dd0-ae98-3bf980023fa7",
   "metadata": {},
   "outputs": [
    {
     "name": "stdout",
     "output_type": "stream",
     "text": [
      "['5', '8-9', '11-20', '22-100']\n"
     ]
    }
   ],
   "source": [
    "for i in range(start, end):\n",
    "    if minNext < 100 and i > minNext-1:\n",
    "        if i+1 in array:\n",
    "            broken=broken\n",
    "        else:\n",
    "            minNext = min([x for x in array if x > i])\n",
    "            if minNext == end: \n",
    "                broken.append(str(i+1)+'-'+str(end))\n",
    "            elif minNext==i+2:\n",
    "                broken.append(str(i+1))\n",
    "            elif minNext>=i+2:\n",
    "                broken.append(str(i+1)+'-'+str(minNext-1))\n",
    "print(broken)"
   ]
  },
  {
   "cell_type": "code",
   "execution_count": 50,
   "id": "fde11fa6-525d-4067-8a99-bb0c6dcb3b06",
   "metadata": {},
   "outputs": [],
   "source": [
    "# To define a function \n",
    "def brokenIntervals(array,start=1,end=100):\n",
    "    array.append(end)\n",
    "    broken = []\n",
    "    minNext = 0\n",
    "    for i in range(start, end):\n",
    "        if minNext < 100 and i > minNext-1:\n",
    "            if i+1 in array:\n",
    "                broken=broken\n",
    "            else:\n",
    "                minNext = min([x for x in array if x > i])\n",
    "                if minNext == end: \n",
    "                    broken.append(str(i+1)+'-'+str(end))\n",
    "                elif minNext==i+2:\n",
    "                    broken.append(str(i+1))\n",
    "                elif minNext>=i+2:\n",
    "                    broken.append(str(i+1)+'-'+str(minNext-1))\n",
    "    return broken"
   ]
  },
  {
   "cell_type": "code",
   "execution_count": 51,
   "id": "7157ad35-4f79-4f27-ad6c-dfcc1fd6de39",
   "metadata": {},
   "outputs": [
    {
     "data": {
      "text/plain": [
       "['5', '8-9', '11-20', '22-100']"
      ]
     },
     "execution_count": 51,
     "metadata": {},
     "output_type": "execute_result"
    }
   ],
   "source": [
    "brokenIntervals([2,3,4,6,7,10,21,105],start=1,end=100)"
   ]
  },
  {
   "cell_type": "code",
   "execution_count": null,
   "id": "8bd227a6-c2d8-47d3-bb0b-06a2ec87d932",
   "metadata": {},
   "outputs": [],
   "source": []
  }
 ],
 "metadata": {
  "kernelspec": {
   "display_name": "Python 3",
   "language": "python",
   "name": "python3"
  },
  "language_info": {
   "codemirror_mode": {
    "name": "ipython",
    "version": 3
   },
   "file_extension": ".py",
   "mimetype": "text/x-python",
   "name": "python",
   "nbconvert_exporter": "python",
   "pygments_lexer": "ipython3",
   "version": "3.8.5"
  }
 },
 "nbformat": 4,
 "nbformat_minor": 5
}
