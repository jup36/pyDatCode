{
 "cells": [
  {
   "cell_type": "markdown",
   "metadata": {},
   "source": [
    "# The World of TED"
   ]
  },
  {
   "cell_type": "markdown",
   "metadata": {},
   "source": [
    "Founded in 1984 by Richard Saulman as a non profit organisation that aimed at bringing experts from the fields of Technology, Entertainment and Design together, TED Conferences have gone on to become the Mecca of ideas from virtually all walks of life. As of 2015, TED and its sister TEDx chapters have published more than 2000 talks for free consumption by the masses and its speaker list boasts of the likes of Al Gore, Jimmy Wales, Shahrukh Khan and Bill Gates.\n",
    "\n",
    "Ted, which operates under the slogan 'Ideas worth spreading' has managed to achieve an incredible feat of bringing world renowned experts from various walks of life and study and giving them a platform to distill years of their work and research into talks of 18 minutes in length. What's even more incredible is that their invaluable insights is available on the Internet for free.\n",
    "\n",
    "Since the time I begin watching TED Talks in high school, they have never ceased to amaze me. I have learned an incredible amount, about fields I was completely alien to, in the form of poignant stories, breathtaking visuals and subtle humor. So in this notebook, I wanted to attempt at finding insights about the world of TED, its speakers and its viewers and try to answer a few questions that I had always had in the back of my mind."
   ]
  },
  {
   "cell_type": "code",
   "execution_count": 3,
   "metadata": {
    "collapsed": true
   },
   "outputs": [],
   "source": [
    "%matplotlib inline\n",
    "import pandas as pd\n",
    "import numpy as np\n",
    "from scipy import stats\n",
    "import matplotlib.pyplot as plt\n",
    "import seaborn as sns\n",
    "import json\n",
    "from pandas.io.json import json_normalize"
   ]
  },
  {
   "cell_type": "code",
   "execution_count": 112,
   "metadata": {
    "collapsed": true
   },
   "outputs": [],
   "source": [
    "month_order = ['Jan', 'Feb', 'Mar', 'Apr', 'May', 'Jun', 'Jul', 'Aug', 'Sep', 'Oct', 'Nov', 'Dec']"
   ]
  },
  {
   "cell_type": "markdown",
   "metadata": {},
   "source": [
    "The data has been obtained from the TED Dataset offered by Nikolaos Pappas and Andrei Popescu-Belis of Idiap Research Institute, Switzerland under the Creative Commons License. The datasets contain information about TED users and TED Talks uptil September 2012. It was used in the following papers:\n",
    "\n",
    "* Nikolaos Pappas, Andrei Popescu-Belis, \"Combining Semantic Content with User Preferences for TED Lecture Recommendation\", 11th International Workshop on Content Based Multimedia Indexing, Veszprém, Hungary, IEEE, 2013 (http://publications.idiap.ch/downloads/papers/2013/Pappas_CBMI_2013.pdf)\n",
    "* Nikolaos Pappas, Andrei Popescu-Belis, \"Sentiment Analysis of User Comments for One-Class Collaborative Filtering over TED Talks\", 36th ACM SIGIR Conference on Research and Development in Information Retrieval, Dublin, Ireland, ACM, 2013 (http://publications.idiap.ch/downloads/papers/2013/Pappas_SIGIR_2013.pdf)"
   ]
  },
  {
   "cell_type": "markdown",
   "metadata": {},
   "source": [
    "## TED Users\n",
    "\n",
    "We will first look into the data we have about TED Users. This dataset gives us information about all the videos that have been 'favorited' by a particular user in the JSON format.\n",
    "\n",
    "The data is pretty ugly in its current form and therefore, we wrangle it to make it more readable and analysis friendly and load this data into a Pandas dataframe for quick and potent analysis."
   ]
  },
  {
   "cell_type": "code",
   "execution_count": 4,
   "metadata": {
    "collapsed": true
   },
   "outputs": [],
   "source": [
    "user_data = json.load((open('data/users.json')))"
   ]
  },
  {
   "cell_type": "code",
   "execution_count": 5,
   "metadata": {},
   "outputs": [
    {
     "data": {
      "text/html": [
       "<div>\n",
       "<style>\n",
       "    .dataframe thead tr:only-child th {\n",
       "        text-align: right;\n",
       "    }\n",
       "\n",
       "    .dataframe thead th {\n",
       "        text-align: left;\n",
       "    }\n",
       "\n",
       "    .dataframe tbody tr th {\n",
       "        vertical-align: top;\n",
       "    }\n",
       "</style>\n",
       "<table border=\"1\" class=\"dataframe\">\n",
       "  <thead>\n",
       "    <tr style=\"text-align: right;\">\n",
       "      <th></th>\n",
       "      <th>talk</th>\n",
       "      <th>user</th>\n",
       "    </tr>\n",
       "  </thead>\n",
       "  <tbody>\n",
       "    <tr>\n",
       "      <th>0</th>\n",
       "      <td>Graham Hill: Less stuff, more happiness</td>\n",
       "      <td>0</td>\n",
       "    </tr>\n",
       "    <tr>\n",
       "      <th>1</th>\n",
       "      <td>Adam Ostrow: After your final status update</td>\n",
       "      <td>0</td>\n",
       "    </tr>\n",
       "    <tr>\n",
       "      <th>2</th>\n",
       "      <td>Kevin Slavin: How algorithms shape our world</td>\n",
       "      <td>0</td>\n",
       "    </tr>\n",
       "    <tr>\n",
       "      <th>3</th>\n",
       "      <td>Terry Moore: How to tie your shoes</td>\n",
       "      <td>0</td>\n",
       "    </tr>\n",
       "    <tr>\n",
       "      <th>4</th>\n",
       "      <td>Arvind Gupta: Turning trash into toys for lear...</td>\n",
       "      <td>0</td>\n",
       "    </tr>\n",
       "  </tbody>\n",
       "</table>\n",
       "</div>"
      ],
      "text/plain": [
       "                                                talk  user\n",
       "0            Graham Hill: Less stuff, more happiness     0\n",
       "1        Adam Ostrow: After your final status update     0\n",
       "2      Kevin Slavin: How algorithms shape our world      0\n",
       "3                 Terry Moore: How to tie your shoes     0\n",
       "4  Arvind Gupta: Turning trash into toys for lear...     0"
      ]
     },
     "execution_count": 5,
     "metadata": {},
     "output_type": "execute_result"
    }
   ],
   "source": [
    "df = json_normalize(user_data, 'favorites', ['user_id'])\n",
    "df.columns = ['talk', 'user']\n",
    "user_dict = dict(pd.Series(df['user'].drop_duplicates().reset_index()['user']))\n",
    "user_dict = {y:x for x,y in user_dict.items()}\n",
    "df['user'] = df['user'].apply(lambda x: user_dict[x])\n",
    "df.head()"
   ]
  },
  {
   "cell_type": "markdown",
   "metadata": {},
   "source": [
    "We now proceed to answer the following questions:\n",
    "    \n",
    "1. How many users were registered on TED.com in 2012?\n",
    "2. How many times were videos favorited by users?\n",
    "3. How many talks did each user view, on average?"
   ]
  },
  {
   "cell_type": "code",
   "execution_count": 6,
   "metadata": {},
   "outputs": [
    {
     "data": {
      "text/plain": [
       "12403"
      ]
     },
     "execution_count": 6,
     "metadata": {},
     "output_type": "execute_result"
    }
   ],
   "source": [
    "num_users = df['user'].drop_duplicates().count()\n",
    "num_users"
   ]
  },
  {
   "cell_type": "code",
   "execution_count": 7,
   "metadata": {},
   "outputs": [
    {
     "data": {
      "text/plain": [
       "134533"
      ]
     },
     "execution_count": 7,
     "metadata": {},
     "output_type": "execute_result"
    }
   ],
   "source": [
    "num_talks = df.shape[0]\n",
    "num_talks"
   ]
  },
  {
   "cell_type": "code",
   "execution_count": 8,
   "metadata": {},
   "outputs": [
    {
     "data": {
      "text/plain": [
       "10.84681125534145"
      ]
     },
     "execution_count": 8,
     "metadata": {},
     "output_type": "execute_result"
    }
   ],
   "source": [
    "avg_favorites = num_talks/num_users\n",
    "avg_favorites"
   ]
  },
  {
   "cell_type": "markdown",
   "metadata": {},
   "source": [
    "### Observations\n",
    "\n",
    "There were **12,403 registered TED users** in September 2012 and the TED Talks have been favorited **134,533 times.**\n",
    "On average, every registered user has favorited close to **11 videos**. \n",
    "\n",
    "A reasonable conclusion to arrive at would be that the average TED user has watched at least 11 TED Talks on the platform. Since the ratio of number of views to favorites is usually very high, it would be reasonable to assume that the number is much higher than 11 too.\n",
    "\n",
    "Since TED Talks are usually **18 minutes** in length, this also implies that, on average, the registered user has watched at least **3 hours** of video. This indicates a very high engagement and retention level among registered users.\n",
    "\n",
    "We only have data for users that have registered. One of the main incentives for users to register is to keep track of their **favorite videos** and **watch history**. It would be interesting to see if there is a cause-effect relationship here. That is, **only the most active users register since they have an incentive to keep track of their viewership**. It may be the case that the unregistered passive user is in the majority and has viewed a significantly smaller number of talks than the statistics show us."
   ]
  },
  {
   "cell_type": "markdown",
   "metadata": {},
   "source": [
    "### Favorite Talks\n",
    "\n",
    "The next and the last question this dataset is capable of answering is the most popular vidoes among registered users. Let us proceed to answer this with the data on hand."
   ]
  },
  {
   "cell_type": "code",
   "execution_count": 9,
   "metadata": {},
   "outputs": [
    {
     "data": {
      "text/html": [
       "<div>\n",
       "<style>\n",
       "    .dataframe thead tr:only-child th {\n",
       "        text-align: right;\n",
       "    }\n",
       "\n",
       "    .dataframe thead th {\n",
       "        text-align: left;\n",
       "    }\n",
       "\n",
       "    .dataframe tbody tr th {\n",
       "        vertical-align: top;\n",
       "    }\n",
       "</style>\n",
       "<table border=\"1\" class=\"dataframe\">\n",
       "  <thead>\n",
       "    <tr style=\"text-align: right;\">\n",
       "      <th></th>\n",
       "      <th>user</th>\n",
       "    </tr>\n",
       "    <tr>\n",
       "      <th>talk</th>\n",
       "      <th></th>\n",
       "    </tr>\n",
       "  </thead>\n",
       "  <tbody>\n",
       "    <tr>\n",
       "      <th>Ken Robinson says schools kill creativity</th>\n",
       "      <td>2606</td>\n",
       "    </tr>\n",
       "    <tr>\n",
       "      <th>Jill Bolte Taylor's stroke of insight</th>\n",
       "      <td>1304</td>\n",
       "    </tr>\n",
       "    <tr>\n",
       "      <th>Elizabeth Gilbert: Your elusive creative genius</th>\n",
       "      <td>970</td>\n",
       "    </tr>\n",
       "    <tr>\n",
       "      <th>Sir Ken Robinson: Bring on the learning revolution!</th>\n",
       "      <td>935</td>\n",
       "    </tr>\n",
       "    <tr>\n",
       "      <th>Dan Gilbert: The surprising science of happiness</th>\n",
       "      <td>933</td>\n",
       "    </tr>\n",
       "    <tr>\n",
       "      <th>Simon Sinek: How great leaders inspire action</th>\n",
       "      <td>844</td>\n",
       "    </tr>\n",
       "    <tr>\n",
       "      <th>Hans Rosling: Stats that reshape your worldview</th>\n",
       "      <td>830</td>\n",
       "    </tr>\n",
       "    <tr>\n",
       "      <th>Barry Schwartz: The paradox of choice</th>\n",
       "      <td>808</td>\n",
       "    </tr>\n",
       "    <tr>\n",
       "      <th>Brené Brown: The power of vulnerability</th>\n",
       "      <td>764</td>\n",
       "    </tr>\n",
       "    <tr>\n",
       "      <th>Benjamin Zander: The transformative power of classical music</th>\n",
       "      <td>710</td>\n",
       "    </tr>\n",
       "    <tr>\n",
       "      <th>Dan Pink: The puzzle of motivation</th>\n",
       "      <td>710</td>\n",
       "    </tr>\n",
       "    <tr>\n",
       "      <th>Richard St. John's 8 secrets of success</th>\n",
       "      <td>701</td>\n",
       "    </tr>\n",
       "    <tr>\n",
       "      <th>VS Ramachandran: 3 clues to understanding your brain</th>\n",
       "      <td>665</td>\n",
       "    </tr>\n",
       "    <tr>\n",
       "      <th>Malcolm Gladwell: Choice, happiness and spaghetti sauce</th>\n",
       "      <td>643</td>\n",
       "    </tr>\n",
       "    <tr>\n",
       "      <th>Richard Dawkins: Militant atheism</th>\n",
       "      <td>607</td>\n",
       "    </tr>\n",
       "    <tr>\n",
       "      <th>Dan Ariely asks, Are we in control of our own decisions?</th>\n",
       "      <td>605</td>\n",
       "    </tr>\n",
       "    <tr>\n",
       "      <th>Tony Robbins: Why we do what we do</th>\n",
       "      <td>591</td>\n",
       "    </tr>\n",
       "    <tr>\n",
       "      <th>Pranav Mistry: The thrilling potential of SixthSense technology</th>\n",
       "      <td>591</td>\n",
       "    </tr>\n",
       "    <tr>\n",
       "      <th>Barry Schwartz: Our loss of wisdom</th>\n",
       "      <td>573</td>\n",
       "    </tr>\n",
       "    <tr>\n",
       "      <th>Seth Godin: How to get your ideas to spread</th>\n",
       "      <td>492</td>\n",
       "    </tr>\n",
       "    <tr>\n",
       "      <th>Michael Shermer: Why people believe weird things</th>\n",
       "      <td>455</td>\n",
       "    </tr>\n",
       "    <tr>\n",
       "      <th>Pattie Maes and Pranav Mistry demo SixthSense</th>\n",
       "      <td>452</td>\n",
       "    </tr>\n",
       "    <tr>\n",
       "      <th>Derek Sivers: How to start a movement</th>\n",
       "      <td>451</td>\n",
       "    </tr>\n",
       "    <tr>\n",
       "      <th>Hans Rosling: New insights on poverty</th>\n",
       "      <td>444</td>\n",
       "    </tr>\n",
       "    <tr>\n",
       "      <th>Alain de Botton: A kinder, gentler philosophy of success</th>\n",
       "      <td>435</td>\n",
       "    </tr>\n",
       "  </tbody>\n",
       "</table>\n",
       "</div>"
      ],
      "text/plain": [
       "                                                    user\n",
       "talk                                                    \n",
       "Ken Robinson says schools kill creativity           2606\n",
       "Jill Bolte Taylor's stroke of insight               1304\n",
       "Elizabeth Gilbert: Your elusive creative genius      970\n",
       "Sir Ken Robinson: Bring on the learning revolut...   935\n",
       "Dan Gilbert: The surprising science of happiness     933\n",
       "Simon Sinek: How great leaders inspire action        844\n",
       "Hans Rosling: Stats that reshape your worldview      830\n",
       "Barry Schwartz: The paradox of choice                808\n",
       "Brené Brown: The power of vulnerability              764\n",
       "Benjamin Zander: The transformative power of cl...   710\n",
       "Dan Pink: The puzzle of motivation                   710\n",
       "Richard St. John's 8 secrets of success              701\n",
       "VS Ramachandran: 3 clues to understanding your ...   665\n",
       "Malcolm Gladwell: Choice, happiness and spaghet...   643\n",
       "Richard Dawkins: Militant atheism                    607\n",
       "Dan Ariely asks, Are we in control of our own d...   605\n",
       "Tony Robbins: Why we do what we do                   591\n",
       "Pranav Mistry: The thrilling potential of Sixth...   591\n",
       "Barry Schwartz: Our loss of wisdom                   573\n",
       "Seth Godin: How to get your ideas to spread          492\n",
       "Michael Shermer: Why people believe weird things     455\n",
       "Pattie Maes and Pranav Mistry demo SixthSense        452\n",
       "Derek Sivers: How to start a movement                451\n",
       "Hans Rosling: New insights on poverty                444\n",
       "Alain de Botton: A kinder, gentler philosophy o...   435"
      ]
     },
     "execution_count": 9,
     "metadata": {},
     "output_type": "execute_result"
    }
   ],
   "source": [
    "pop_talks = df.groupby('talk').count().sort_values('user', ascending=False)\n",
    "pop_talks.head(25)"
   ]
  },
  {
   "cell_type": "markdown",
   "metadata": {},
   "source": [
    "Listed above are the 25 most popular talks of all time. Sir Ken Robinson's **'Do Schools Kill Creativity?'** tops the list  with 2606 upvotes and Jill Taylor's **Stroke of Insight** comes at a distant second.  Some speakers such as **Ken Robinson, Barry Schwartz and Hans Rosling** appear in this list more than once which indicate the popularity of the speaker as much as the theme and the content.\n",
    "\n",
    "Let us visualise this data in the form of a bar plot of the 10 most popular talks of all time."
   ]
  },
  {
   "cell_type": "code",
   "execution_count": 10,
   "metadata": {},
   "outputs": [
    {
     "data": {
      "text/plain": [
       "<matplotlib.axes._subplots.AxesSubplot at 0x117d99438>"
      ]
     },
     "execution_count": 10,
     "metadata": {},
     "output_type": "execute_result"
    },
    {
     "data": {
      "image/png": "[encoded data removed]",
      "text/plain": [
       "<matplotlib.figure.Figure at 0x117f6e828>"
      ]
     },
     "metadata": {},
     "output_type": "display_data"
    }
   ],
   "source": [
    "top_ten = pop_talks.head(10).reset_index()\n",
    "top_ten['abbr'] = top_ten['talk'].apply(lambda x: x[:3])\n",
    "sns.barplot(x='abbr', y='user', data=top_ten)"
   ]
  },
  {
   "cell_type": "markdown",
   "metadata": {},
   "source": [
    "The visualisation gives us a picture of the **staggering popularity of Ken Robinson's talk**. Although Jill Taylor's talk rakes in only about half the upvotes as Robinson's, it still is significantly more popular than the rest of the top 10. The other talks in the top 10 have comparable number of views."
   ]
  },
  {
   "cell_type": "markdown",
   "metadata": {},
   "source": [
    "## TED Talks\n",
    "\n",
    "With our preliminary analysis on TED User Preferences complete, we now turn our attention to the main dataset: TED Talks. This dataset gives us a plethora of information about all TED talks published until September 2012 including titles, descriptions, transcripts, themes and comments. As before, the data has been presented to us in the JSON format and thus has to be converted into a suitable format for analysis (namely, the Pandas dataframe)."
   ]
  },
  {
   "cell_type": "code",
   "execution_count": 11,
   "metadata": {
    "collapsed": true
   },
   "outputs": [],
   "source": [
    "talk_data = pd.read_json('data/talks.json')\n",
    "talk_data['comments'] = talk_data['comments'].apply(lambda x: len(list(x)))\n",
    "talk_data['id'] = talk_data.index\n",
    "talk_data['description'] = talk_data['description'].apply(lambda x: str(list(x)[0]))\n",
    "talk_data['title'] = talk_data['title'].apply(lambda x: str(list(x)[0]))\n",
    "talk_data['views'] = talk_data['views'].apply(lambda x: int(list(x)[0].replace(',', '')))"
   ]
  },
  {
   "cell_type": "code",
   "execution_count": 12,
   "metadata": {},
   "outputs": [
    {
     "data": {
      "text/html": [
       "<div>\n",
       "<style>\n",
       "    .dataframe thead tr:only-child th {\n",
       "        text-align: right;\n",
       "    }\n",
       "\n",
       "    .dataframe thead th {\n",
       "        text-align: left;\n",
       "    }\n",
       "\n",
       "    .dataframe tbody tr th {\n",
       "        vertical-align: top;\n",
       "    }\n",
       "</style>\n",
       "<table border=\"1\" class=\"dataframe\">\n",
       "  <thead>\n",
       "    <tr style=\"text-align: right;\">\n",
       "      <th></th>\n",
       "      <th>comments</th>\n",
       "      <th>description</th>\n",
       "      <th>film_date</th>\n",
       "      <th>id</th>\n",
       "      <th>publish_date</th>\n",
       "      <th>related_tags</th>\n",
       "      <th>related_themes</th>\n",
       "      <th>related_videos</th>\n",
       "      <th>speaker</th>\n",
       "      <th>ted_event</th>\n",
       "      <th>title</th>\n",
       "      <th>transcript</th>\n",
       "      <th>url</th>\n",
       "      <th>views</th>\n",
       "    </tr>\n",
       "  </thead>\n",
       "  <tbody>\n",
       "    <tr>\n",
       "      <th>0</th>\n",
       "      <td>7</td>\n",
       "      <td>Scott Fraser studies how humans remember crime...</td>\n",
       "      <td>May 2012</td>\n",
       "      <td>0</td>\n",
       "      <td>Sep 2012</td>\n",
       "      <td>[Crime, Global issues, Government, Law, Memory...</td>\n",
       "      <td>[How the Mind Works]</td>\n",
       "      <td>[Bryan Stevenson: We need to talk about an inj...</td>\n",
       "      <td>Scott Fraser</td>\n",
       "      <td>TEDxUSC</td>\n",
       "      <td>Scott Fraser: Why eyewitnesses get it wrong</td>\n",
       "      <td>The murder happened a little over 21 years ago...</td>\n",
       "      <td>http://www.ted.com/talks/scott_fraser_the_prob...</td>\n",
       "      <td>21025</td>\n",
       "    </tr>\n",
       "    <tr>\n",
       "      <th>1</th>\n",
       "      <td>43</td>\n",
       "      <td>Want to navigate the solar system without havi...</td>\n",
       "      <td>Dec 2011</td>\n",
       "      <td>1</td>\n",
       "      <td>Jun 2012</td>\n",
       "      <td>[Demo, Exploration, Science, Software, Space, ...</td>\n",
       "      <td>[Peering into Space]</td>\n",
       "      <td>[Carter Emmart demos a 3D atlas of the universe ]</td>\n",
       "      <td>Jon Nguyen</td>\n",
       "      <td>TEDxSanDiego</td>\n",
       "      <td>Jon Nguyen: Tour the solar system from home</td>\n",
       "      <td>As a kid, I was fascinated with all things air...</td>\n",
       "      <td>http://www.ted.com/talks/jon_nguyen_tour_the_s...</td>\n",
       "      <td>220795</td>\n",
       "    </tr>\n",
       "    <tr>\n",
       "      <th>2</th>\n",
       "      <td>32</td>\n",
       "      <td>During the hot summer months, watching an outd...</td>\n",
       "      <td>Apr 2012</td>\n",
       "      <td>2</td>\n",
       "      <td>Jun 2012</td>\n",
       "      <td>[Entertainment, Environment, Global issues, In...</td>\n",
       "      <td>[Design That Matters, Presentation Innovation,...</td>\n",
       "      <td>[Peter Diamandis: Abundance is our future, Amy...</td>\n",
       "      <td>Wolfgang Kessling</td>\n",
       "      <td>TEDxSummit</td>\n",
       "      <td>Wolfgang Kessling: How to air-condition outdoo...</td>\n",
       "      <td>Good evening. We are in this wonderful open-ai...</td>\n",
       "      <td>http://www.ted.com/talks/wolfgang_kessling_how...</td>\n",
       "      <td>230813</td>\n",
       "    </tr>\n",
       "    <tr>\n",
       "      <th>3</th>\n",
       "      <td>45</td>\n",
       "      <td>Prompted by the Encyclopaedia Britannica endin...</td>\n",
       "      <td>Apr 2012</td>\n",
       "      <td>3</td>\n",
       "      <td>Jun 2012</td>\n",
       "      <td>[Entertainment, Internet, Science, Web, Wikipe...</td>\n",
       "      <td>[Master Storytellers, How We Learn]</td>\n",
       "      <td>[Rives: A story of mixed emoticons, A.J. Jacob...</td>\n",
       "      <td>Rives</td>\n",
       "      <td>TEDxSummit</td>\n",
       "      <td>Rives: Reinventing the encyclopedia game</td>\n",
       "      <td>So, last month, the Encyclopaedia Britannica a...</td>\n",
       "      <td>http://www.ted.com/talks/rives_reinventing_the...</td>\n",
       "      <td>200203</td>\n",
       "    </tr>\n",
       "    <tr>\n",
       "      <th>4</th>\n",
       "      <td>43</td>\n",
       "      <td>Massimo Banzi helped invent the Arduino, a tin...</td>\n",
       "      <td>Jun 2012</td>\n",
       "      <td>4</td>\n",
       "      <td>Jun 2012</td>\n",
       "      <td>[Creativity, Open-source, Robots, Technology]</td>\n",
       "      <td>[Tales of Invention, Art Unusual]</td>\n",
       "      <td>[Kate Hartman: The art of wearable communicati...</td>\n",
       "      <td>Massimo Banzi</td>\n",
       "      <td>TEDGlobal 2012</td>\n",
       "      <td>Massimo Banzi: How Arduino is open-sourcing im...</td>\n",
       "      <td>So a few weeks ago, a friend of mine gave this...</td>\n",
       "      <td>http://www.ted.com/talks/massimo_banzi_how_ard...</td>\n",
       "      <td>358737</td>\n",
       "    </tr>\n",
       "  </tbody>\n",
       "</table>\n",
       "</div>"
      ],
      "text/plain": [
       "   comments                                        description film_date  id  \\\n",
       "0         7  Scott Fraser studies how humans remember crime...  May 2012   0   \n",
       "1        43  Want to navigate the solar system without havi...  Dec 2011   1   \n",
       "2        32  During the hot summer months, watching an outd...  Apr 2012   2   \n",
       "3        45  Prompted by the Encyclopaedia Britannica endin...  Apr 2012   3   \n",
       "4        43  Massimo Banzi helped invent the Arduino, a tin...  Jun 2012   4   \n",
       "\n",
       "  publish_date                                       related_tags  \\\n",
       "0     Sep 2012  [Crime, Global issues, Government, Law, Memory...   \n",
       "1     Jun 2012  [Demo, Exploration, Science, Software, Space, ...   \n",
       "2     Jun 2012  [Entertainment, Environment, Global issues, In...   \n",
       "3     Jun 2012  [Entertainment, Internet, Science, Web, Wikipe...   \n",
       "4     Jun 2012      [Creativity, Open-source, Robots, Technology]   \n",
       "\n",
       "                                      related_themes  \\\n",
       "0                               [How the Mind Works]   \n",
       "1                               [Peering into Space]   \n",
       "2  [Design That Matters, Presentation Innovation,...   \n",
       "3                [Master Storytellers, How We Learn]   \n",
       "4                  [Tales of Invention, Art Unusual]   \n",
       "\n",
       "                                      related_videos            speaker  \\\n",
       "0  [Bryan Stevenson: We need to talk about an inj...       Scott Fraser   \n",
       "1  [Carter Emmart demos a 3D atlas of the universe ]         Jon Nguyen   \n",
       "2  [Peter Diamandis: Abundance is our future, Amy...  Wolfgang Kessling   \n",
       "3  [Rives: A story of mixed emoticons, A.J. Jacob...              Rives   \n",
       "4  [Kate Hartman: The art of wearable communicati...      Massimo Banzi   \n",
       "\n",
       "        ted_event                                              title  \\\n",
       "0         TEDxUSC        Scott Fraser: Why eyewitnesses get it wrong   \n",
       "1    TEDxSanDiego        Jon Nguyen: Tour the solar system from home   \n",
       "2      TEDxSummit  Wolfgang Kessling: How to air-condition outdoo...   \n",
       "3      TEDxSummit           Rives: Reinventing the encyclopedia game   \n",
       "4  TEDGlobal 2012  Massimo Banzi: How Arduino is open-sourcing im...   \n",
       "\n",
       "                                          transcript  \\\n",
       "0  The murder happened a little over 21 years ago...   \n",
       "1  As a kid, I was fascinated with all things air...   \n",
       "2  Good evening. We are in this wonderful open-ai...   \n",
       "3  So, last month, the Encyclopaedia Britannica a...   \n",
       "4  So a few weeks ago, a friend of mine gave this...   \n",
       "\n",
       "                                                 url   views  \n",
       "0  http://www.ted.com/talks/scott_fraser_the_prob...   21025  \n",
       "1  http://www.ted.com/talks/jon_nguyen_tour_the_s...  220795  \n",
       "2  http://www.ted.com/talks/wolfgang_kessling_how...  230813  \n",
       "3  http://www.ted.com/talks/rives_reinventing_the...  200203  \n",
       "4  http://www.ted.com/talks/massimo_banzi_how_ard...  358737  "
      ]
     },
     "execution_count": 12,
     "metadata": {},
     "output_type": "execute_result"
    }
   ],
   "source": [
    "talk_data.head()"
   ]
  },
  {
   "cell_type": "markdown",
   "metadata": {},
   "source": [
    "The Related Tags, Related Themes and Related Videos are in a form that is not suitable for analysis. For the time being, we will leave it as it is and focus on the other features one by one."
   ]
  },
  {
   "cell_type": "markdown",
   "metadata": {},
   "source": [
    "### Comments\n",
    "\n",
    "Although we have full content of all the comments posted on the TED website, we will refrain from performing any textual analysis and instead focus just on the number of comments posted. "
   ]
  },
  {
   "cell_type": "code",
   "execution_count": 13,
   "metadata": {},
   "outputs": [
    {
     "data": {
      "text/plain": [
       "(1203, 14)"
      ]
     },
     "execution_count": 13,
     "metadata": {},
     "output_type": "execute_result"
    }
   ],
   "source": [
    "df2 = talk_data.copy()\n",
    "df2.shape"
   ]
  },
  {
   "cell_type": "code",
   "execution_count": 14,
   "metadata": {},
   "outputs": [
    {
     "data": {
      "text/plain": [
       "count    1203.000000\n",
       "mean       97.685786\n",
       "std       117.367843\n",
       "min         7.000000\n",
       "25%        44.000000\n",
       "50%        70.000000\n",
       "75%       115.500000\n",
       "max      2284.000000\n",
       "Name: comments, dtype: float64"
      ]
     },
     "execution_count": 14,
     "metadata": {},
     "output_type": "execute_result"
    }
   ],
   "source": [
    "df2['comments'].describe()"
   ]
  },
  {
   "cell_type": "markdown",
   "metadata": {},
   "source": [
    "We can summarize the following about comments:\n",
    "\n",
    "* On average, every talk has about **97.6 comments.**\n",
    "* There is a **huge standard deviation** associated with the comments. In fact, it is even larger than the mean suggesting that the measures may be sensitive to outliers.\n",
    "* The minimum number of comments on a talk is **7** and the maximum is **2284**. The **range is 2277.**\n",
    "\n",
    "Let us also plot the distribution of the comments to see what it looks like."
   ]
  },
  {
   "cell_type": "code",
   "execution_count": 15,
   "metadata": {
    "scrolled": true
   },
   "outputs": [
    {
     "data": {
      "text/plain": [
       "<matplotlib.axes._subplots.AxesSubplot at 0x1577189e8>"
      ]
     },
     "execution_count": 15,
     "metadata": {},
     "output_type": "execute_result"
    },
    {
     "data": {
      "image/png": "[encoded data removed]",
      "text/plain": [
       "<matplotlib.figure.Figure at 0x157718208>"
      ]
     },
     "metadata": {},
     "output_type": "display_data"
    }
   ],
   "source": [
    "sns.distplot(df2['comments'])"
   ]
  },
  {
   "cell_type": "code",
   "execution_count": 17,
   "metadata": {},
   "outputs": [
    {
     "data": {
      "text/plain": [
       "<matplotlib.axes._subplots.AxesSubplot at 0x14e7f5b38>"
      ]
     },
     "execution_count": 17,
     "metadata": {},
     "output_type": "execute_result"
    },
    {
     "data": {
      "image/png": "[encoded data removed]",
      "text/plain": [
       "<matplotlib.figure.Figure at 0x151fac748>"
      ]
     },
     "metadata": {},
     "output_type": "display_data"
    }
   ],
   "source": [
    "sns.distplot(df2[df2['comments'] < 500]['comments'])"
   ]
  },
  {
   "cell_type": "markdown",
   "metadata": {},
   "source": [
    "From the plot above, we can see that the bulk of the talks have **fewer than 500 comments**. This clearly suggests that the mean obtained above has been heavily influenced by outliers. This is possible because the number of samples is **only 1203 talks**.\n",
    "\n",
    "Another question that I am interested in is if the number of views is correlated with the number of comments. We should think that this is the case as more popular videos tend to have more comments. Let us find out."
   ]
  },
  {
   "cell_type": "code",
   "execution_count": 19,
   "metadata": {},
   "outputs": [
    {
     "data": {
      "text/plain": [
       "<seaborn.axisgrid.JointGrid at 0x14dff32e8>"
      ]
     },
     "execution_count": 19,
     "metadata": {},
     "output_type": "execute_result"
    },
    {
     "data": {
      "image/png": "[encoded data removed]",
      "text/plain": [
       "<matplotlib.figure.Figure at 0x14dff35c0>"
      ]
     },
     "metadata": {},
     "output_type": "display_data"
    }
   ],
   "source": [
    "sns.jointplot(x='views', y='comments', data=df2)"
   ]
  },
  {
   "cell_type": "code",
   "execution_count": 20,
   "metadata": {},
   "outputs": [
    {
     "data": {
      "text/html": [
       "<div>\n",
       "<style>\n",
       "    .dataframe thead tr:only-child th {\n",
       "        text-align: right;\n",
       "    }\n",
       "\n",
       "    .dataframe thead th {\n",
       "        text-align: left;\n",
       "    }\n",
       "\n",
       "    .dataframe tbody tr th {\n",
       "        vertical-align: top;\n",
       "    }\n",
       "</style>\n",
       "<table border=\"1\" class=\"dataframe\">\n",
       "  <thead>\n",
       "    <tr style=\"text-align: right;\">\n",
       "      <th></th>\n",
       "      <th>views</th>\n",
       "      <th>comments</th>\n",
       "    </tr>\n",
       "  </thead>\n",
       "  <tbody>\n",
       "    <tr>\n",
       "      <th>views</th>\n",
       "      <td>1.000000</td>\n",
       "      <td>0.688491</td>\n",
       "    </tr>\n",
       "    <tr>\n",
       "      <th>comments</th>\n",
       "      <td>0.688491</td>\n",
       "      <td>1.000000</td>\n",
       "    </tr>\n",
       "  </tbody>\n",
       "</table>\n",
       "</div>"
      ],
      "text/plain": [
       "             views  comments\n",
       "views     1.000000  0.688491\n",
       "comments  0.688491  1.000000"
      ]
     },
     "execution_count": 20,
     "metadata": {},
     "output_type": "execute_result"
    }
   ],
   "source": [
    "df2[['views', 'comments']].corr()"
   ]
  },
  {
   "cell_type": "markdown",
   "metadata": {},
   "source": [
    "As the scatterplot and the correlation matrix shows, there is indeed a very strong correlation between these two quantities. Finally, let us check the number of views and comments on the 10 most commented TED Talks of all time."
   ]
  },
  {
   "cell_type": "code",
   "execution_count": 21,
   "metadata": {},
   "outputs": [
    {
     "data": {
      "text/html": [
       "<div>\n",
       "<style>\n",
       "    .dataframe thead tr:only-child th {\n",
       "        text-align: right;\n",
       "    }\n",
       "\n",
       "    .dataframe thead th {\n",
       "        text-align: left;\n",
       "    }\n",
       "\n",
       "    .dataframe tbody tr th {\n",
       "        vertical-align: top;\n",
       "    }\n",
       "</style>\n",
       "<table border=\"1\" class=\"dataframe\">\n",
       "  <thead>\n",
       "    <tr style=\"text-align: right;\">\n",
       "      <th></th>\n",
       "      <th>title</th>\n",
       "      <th>speaker</th>\n",
       "      <th>views</th>\n",
       "      <th>comments</th>\n",
       "    </tr>\n",
       "  </thead>\n",
       "  <tbody>\n",
       "    <tr>\n",
       "      <th>187</th>\n",
       "      <td>Richard Dawkins: Militant atheism</td>\n",
       "      <td>Richard Dawkins</td>\n",
       "      <td>1763738</td>\n",
       "      <td>2284</td>\n",
       "    </tr>\n",
       "    <tr>\n",
       "      <th>37</th>\n",
       "      <td>Ken Robinson says schools kill creativity</td>\n",
       "      <td>Ken Robinson</td>\n",
       "      <td>12056699</td>\n",
       "      <td>1542</td>\n",
       "    </tr>\n",
       "    <tr>\n",
       "      <th>255</th>\n",
       "      <td>Jill Bolte Taylor's stroke of insight</td>\n",
       "      <td>Jill Bolte Taylor</td>\n",
       "      <td>9292536</td>\n",
       "      <td>1394</td>\n",
       "    </tr>\n",
       "    <tr>\n",
       "      <th>401</th>\n",
       "      <td>Elizabeth Gilbert: Your elusive creative genius</td>\n",
       "      <td>Elizabeth Gilbert</td>\n",
       "      <td>4195072</td>\n",
       "      <td>802</td>\n",
       "    </tr>\n",
       "    <tr>\n",
       "      <th>563</th>\n",
       "      <td>Pranav Mistry: The thrilling potential of Sixt...</td>\n",
       "      <td>Pranav Mistry</td>\n",
       "      <td>8838147</td>\n",
       "      <td>717</td>\n",
       "    </tr>\n",
       "    <tr>\n",
       "      <th>655</th>\n",
       "      <td>Sam Harris: Science can answer moral questions</td>\n",
       "      <td>Sam Harris</td>\n",
       "      <td>1137408</td>\n",
       "      <td>671</td>\n",
       "    </tr>\n",
       "    <tr>\n",
       "      <th>662</th>\n",
       "      <td>Michael Specter: The danger of science denial</td>\n",
       "      <td>Michael Specter</td>\n",
       "      <td>748519</td>\n",
       "      <td>553</td>\n",
       "    </tr>\n",
       "    <tr>\n",
       "      <th>809</th>\n",
       "      <td>Brené Brown: The power of vulnerability</td>\n",
       "      <td>Brené Brown</td>\n",
       "      <td>5873180</td>\n",
       "      <td>533</td>\n",
       "    </tr>\n",
       "    <tr>\n",
       "      <th>411</th>\n",
       "      <td>Pattie Maes and Pranav Mistry demo SixthSense</td>\n",
       "      <td>Pattie Maes</td>\n",
       "      <td>6586517</td>\n",
       "      <td>501</td>\n",
       "    </tr>\n",
       "    <tr>\n",
       "      <th>658</th>\n",
       "      <td>Simon Sinek: How great leaders inspire action</td>\n",
       "      <td>Simon Sinek</td>\n",
       "      <td>6782102</td>\n",
       "      <td>501</td>\n",
       "    </tr>\n",
       "  </tbody>\n",
       "</table>\n",
       "</div>"
      ],
      "text/plain": [
       "                                                 title            speaker  \\\n",
       "187                  Richard Dawkins: Militant atheism    Richard Dawkins   \n",
       "37           Ken Robinson says schools kill creativity       Ken Robinson   \n",
       "255              Jill Bolte Taylor's stroke of insight  Jill Bolte Taylor   \n",
       "401    Elizabeth Gilbert: Your elusive creative genius  Elizabeth Gilbert   \n",
       "563  Pranav Mistry: The thrilling potential of Sixt...      Pranav Mistry   \n",
       "655     Sam Harris: Science can answer moral questions         Sam Harris   \n",
       "662      Michael Specter: The danger of science denial    Michael Specter   \n",
       "809            Brené Brown: The power of vulnerability        Brené Brown   \n",
       "411      Pattie Maes and Pranav Mistry demo SixthSense        Pattie Maes   \n",
       "658      Simon Sinek: How great leaders inspire action        Simon Sinek   \n",
       "\n",
       "        views  comments  \n",
       "187   1763738      2284  \n",
       "37   12056699      1542  \n",
       "255   9292536      1394  \n",
       "401   4195072       802  \n",
       "563   8838147       717  \n",
       "655   1137408       671  \n",
       "662    748519       553  \n",
       "809   5873180       533  \n",
       "411   6586517       501  \n",
       "658   6782102       501  "
      ]
     },
     "execution_count": 21,
     "metadata": {},
     "output_type": "execute_result"
    }
   ],
   "source": [
    "df2[['title', 'speaker','views', 'comments']].sort_values('comments', ascending=False).head(10)"
   ]
  },
  {
   "cell_type": "markdown",
   "metadata": {},
   "source": [
    "As can be seen above, Richard Dawkins' talk on **Militant Atheism'** generated the greatest amount of discussion and opinions despite having significantly lesser views than Ken Robinson's talk, which is second in the list. This raises some interesting questions.\n",
    "\n",
    "Which talks tend to attract the largest amount of discussion?\n",
    "\n",
    "To answer this question, we will define a new feature **discussion quotient** which is simply the ratio of the number of comments to the number of views. We will then check which talks have the largest discussion quotient."
   ]
  },
  {
   "cell_type": "code",
   "execution_count": 22,
   "metadata": {
    "collapsed": true
   },
   "outputs": [],
   "source": [
    "df2['dis_quo'] = df2['comments']/df2['views']"
   ]
  },
  {
   "cell_type": "code",
   "execution_count": 23,
   "metadata": {},
   "outputs": [
    {
     "data": {
      "text/html": [
       "<div>\n",
       "<style>\n",
       "    .dataframe thead tr:only-child th {\n",
       "        text-align: right;\n",
       "    }\n",
       "\n",
       "    .dataframe thead th {\n",
       "        text-align: left;\n",
       "    }\n",
       "\n",
       "    .dataframe tbody tr th {\n",
       "        vertical-align: top;\n",
       "    }\n",
       "</style>\n",
       "<table border=\"1\" class=\"dataframe\">\n",
       "  <thead>\n",
       "    <tr style=\"text-align: right;\">\n",
       "      <th></th>\n",
       "      <th>title</th>\n",
       "      <th>speaker</th>\n",
       "      <th>views</th>\n",
       "      <th>comments</th>\n",
       "      <th>dis_quo</th>\n",
       "    </tr>\n",
       "  </thead>\n",
       "  <tbody>\n",
       "    <tr>\n",
       "      <th>115</th>\n",
       "      <td>Tom Honey on God and the tsunami</td>\n",
       "      <td>Tom Honey</td>\n",
       "      <td>235628</td>\n",
       "      <td>321</td>\n",
       "      <td>0.001362</td>\n",
       "    </tr>\n",
       "    <tr>\n",
       "      <th>803</th>\n",
       "      <td>Hanna Rosin: New data on the rise of women</td>\n",
       "      <td>Hanna Rosin</td>\n",
       "      <td>261570</td>\n",
       "      <td>342</td>\n",
       "      <td>0.001307</td>\n",
       "    </tr>\n",
       "    <tr>\n",
       "      <th>187</th>\n",
       "      <td>Richard Dawkins: Militant atheism</td>\n",
       "      <td>Richard Dawkins</td>\n",
       "      <td>1763738</td>\n",
       "      <td>2284</td>\n",
       "      <td>0.001295</td>\n",
       "    </tr>\n",
       "    <tr>\n",
       "      <th>495</th>\n",
       "      <td>Gordon Brown: Wiring a web for global good</td>\n",
       "      <td>Gordon Brown</td>\n",
       "      <td>362719</td>\n",
       "      <td>283</td>\n",
       "      <td>0.000780</td>\n",
       "    </tr>\n",
       "    <tr>\n",
       "      <th>27</th>\n",
       "      <td>Dan Dennett: Responding to Pastor Rick Warren</td>\n",
       "      <td>Dan Dennett</td>\n",
       "      <td>583437</td>\n",
       "      <td>440</td>\n",
       "      <td>0.000754</td>\n",
       "    </tr>\n",
       "    <tr>\n",
       "      <th>557</th>\n",
       "      <td>Mallika Sarabhai: Dance to change the world</td>\n",
       "      <td>Mallika Sarabhai</td>\n",
       "      <td>243307</td>\n",
       "      <td>183</td>\n",
       "      <td>0.000752</td>\n",
       "    </tr>\n",
       "    <tr>\n",
       "      <th>662</th>\n",
       "      <td>Michael Specter: The danger of science denial</td>\n",
       "      <td>Michael Specter</td>\n",
       "      <td>748519</td>\n",
       "      <td>553</td>\n",
       "      <td>0.000739</td>\n",
       "    </tr>\n",
       "    <tr>\n",
       "      <th>278</th>\n",
       "      <td>Billy Graham on technology and faith</td>\n",
       "      <td>Billy Graham</td>\n",
       "      <td>376211</td>\n",
       "      <td>265</td>\n",
       "      <td>0.000704</td>\n",
       "    </tr>\n",
       "    <tr>\n",
       "      <th>680</th>\n",
       "      <td>Rory Sutherland: Sweat the small stuff</td>\n",
       "      <td>Rory Sutherland</td>\n",
       "      <td>462173</td>\n",
       "      <td>325</td>\n",
       "      <td>0.000703</td>\n",
       "    </tr>\n",
       "    <tr>\n",
       "      <th>1199</th>\n",
       "      <td>Candy Chang: Before I die I want to...</td>\n",
       "      <td>Candy Chang</td>\n",
       "      <td>288782</td>\n",
       "      <td>198</td>\n",
       "      <td>0.000686</td>\n",
       "    </tr>\n",
       "  </tbody>\n",
       "</table>\n",
       "</div>"
      ],
      "text/plain": [
       "                                              title           speaker  \\\n",
       "115                Tom Honey on God and the tsunami         Tom Honey   \n",
       "803      Hanna Rosin: New data on the rise of women       Hanna Rosin   \n",
       "187               Richard Dawkins: Militant atheism   Richard Dawkins   \n",
       "495      Gordon Brown: Wiring a web for global good      Gordon Brown   \n",
       "27    Dan Dennett: Responding to Pastor Rick Warren       Dan Dennett   \n",
       "557     Mallika Sarabhai: Dance to change the world  Mallika Sarabhai   \n",
       "662   Michael Specter: The danger of science denial   Michael Specter   \n",
       "278            Billy Graham on technology and faith      Billy Graham   \n",
       "680          Rory Sutherland: Sweat the small stuff   Rory Sutherland   \n",
       "1199         Candy Chang: Before I die I want to...       Candy Chang   \n",
       "\n",
       "        views  comments   dis_quo  \n",
       "115    235628       321  0.001362  \n",
       "803    261570       342  0.001307  \n",
       "187   1763738      2284  0.001295  \n",
       "495    362719       283  0.000780  \n",
       "27     583437       440  0.000754  \n",
       "557    243307       183  0.000752  \n",
       "662    748519       553  0.000739  \n",
       "278    376211       265  0.000704  \n",
       "680    462173       325  0.000703  \n",
       "1199   288782       198  0.000686  "
      ]
     },
     "execution_count": 23,
     "metadata": {},
     "output_type": "execute_result"
    }
   ],
   "source": [
    "df2[['title', 'speaker','views', 'comments', 'dis_quo']].sort_values('dis_quo', ascending=False).head(10)"
   ]
  },
  {
   "cell_type": "markdown",
   "metadata": {},
   "source": [
    "This analysis has actually raised extremely interesting insights. Half of the talks in the top 10 are on the lines of **Faith and Religion**. I suspect science and religion is still a very hotly debated topic even in the 21st century. We shall come back to this hypothesis in a later section."
   ]
  },
  {
   "cell_type": "markdown",
   "metadata": {},
   "source": [
    "### Analysing TED Talks by the month and the year\n",
    "\n",
    "TED (especially TEDx) Talks tend to occur all throughout the year. Is there a hot month as far as TED is concerned? In other words, how are the talks distributed throughout the months since its inception? Let us find out."
   ]
  },
  {
   "cell_type": "code",
   "execution_count": 24,
   "metadata": {
    "collapsed": true
   },
   "outputs": [],
   "source": [
    "df2['month'] = df2['film_date'].apply(lambda x: x.split()[0])\n",
    "\n",
    "month_df = pd.DataFrame(df2['month'].value_counts()).reset_index()\n",
    "month_df.columns = ['month', 'talks']\n",
    "month_df = month_df.drop(11)"
   ]
  },
  {
   "cell_type": "code",
   "execution_count": 114,
   "metadata": {},
   "outputs": [
    {
     "data": {
      "text/plain": [
       "<matplotlib.axes._subplots.AxesSubplot at 0x155420898>"
      ]
     },
     "execution_count": 114,
     "metadata": {},
     "output_type": "execute_result"
    },
    {
     "data": {
      "image/png": "[encoded data removed]",
      "text/plain": [
       "<matplotlib.figure.Figure at 0x155fdb940>"
      ]
     },
     "metadata": {},
     "output_type": "display_data"
    }
   ],
   "source": [
    "sns.barplot(x='month', y='talks', data=month_df, order=month_order)"
   ]
  },
  {
   "cell_type": "markdown",
   "metadata": {},
   "source": [
    "**February** is clearly the most popular month for TED Conferences whereas **August** is the least popular. February's popularity is largely due to the fact that the official TED Conferences are held in February. Let us check the distribution for TEDx talks only."
   ]
  },
  {
   "cell_type": "code",
   "execution_count": 26,
   "metadata": {
    "collapsed": true
   },
   "outputs": [],
   "source": [
    "df_x = df2[df2['ted_event'].str.contains('TEDx')]\n",
    "x_month_df = pd.DataFrame(df_x['month'].value_counts().reset_index())\n",
    "x_month_df.columns = ['month', 'talks']"
   ]
  },
  {
   "cell_type": "code",
   "execution_count": 113,
   "metadata": {},
   "outputs": [
    {
     "data": {
      "text/plain": [
       "<matplotlib.axes._subplots.AxesSubplot at 0x156801438>"
      ]
     },
     "execution_count": 113,
     "metadata": {},
     "output_type": "execute_result"
    },
    {
     "data": {
      "image/png": "[encoded data removed]",
      "text/plain": [
       "<matplotlib.figure.Figure at 0x15693e4a8>"
      ]
     },
     "metadata": {},
     "output_type": "display_data"
    }
   ],
   "source": [
    "sns.barplot(x='month', y='talks', data=x_month_df, order=month_order)"
   ]
  },
  {
   "cell_type": "markdown",
   "metadata": {},
   "source": [
    "As far as TEDx talks are concerned, November is the most popular month. However, we cannot take this result at face value as very few of the TEDx talks are actually uploaded to the TED website and therefore, it is entirely possible that the sample in our dataset is not at all representative of all TEDx talks. A slightly more accurate statement would be that **the most popular TEDx talks take place the most in November and April.**\n",
    "\n",
    "Let us now visualize the number of TED talks through the years and check if our hunch that they have grown significantly is indeed true."
   ]
  },
  {
   "cell_type": "code",
   "execution_count": 28,
   "metadata": {
    "collapsed": true
   },
   "outputs": [],
   "source": [
    "df2['year'] = df2['film_date'].apply(lambda x: x.split()[1] if len(x.split()) > 1 else np.nan)\n",
    "year_df = pd.DataFrame(df2['year'].value_counts().reset_index())\n",
    "year_df.columns = ['year', 'talks']"
   ]
  },
  {
   "cell_type": "code",
   "execution_count": 29,
   "metadata": {},
   "outputs": [
    {
     "data": {
      "text/plain": [
       "<matplotlib.axes._subplots.AxesSubplot at 0x14f64be80>"
      ]
     },
     "execution_count": 29,
     "metadata": {},
     "output_type": "execute_result"
    },
    {
     "data": {
      "image/png": "[encoded data removed]",
      "text/plain": [
       "<matplotlib.figure.Figure at 0x14f26df60>"
      ]
     },
     "metadata": {},
     "output_type": "display_data"
    }
   ],
   "source": [
    "plt.figure(figsize=(15,5))\n",
    "sns.pointplot(x='year', y='talks', data=year_df)"
   ]
  },
  {
   "cell_type": "markdown",
   "metadata": {},
   "source": [
    "As can be seen above, the number of talks have gradually increased from close to **0 in 1984 to almost 250 in 2010.** This clearly suggests an upward trend and the rise in popularity of such talks. (Note that the smaller numbers in 2012 is partially due to the fact that this data was scraped in September 2012 and a considerable chunk of the talks that took place that year hadn't been uploaded or taken place at that time).\n",
    "\n",
    "Finally, to put it all together, let us construct a heat map that shows us the number of talks by month and year. This will give us a good summary of the distribution of talks."
   ]
  },
  {
   "cell_type": "code",
   "execution_count": 79,
   "metadata": {
    "collapsed": true
   },
   "outputs": [],
   "source": [
    "months = {'Jan': 1, 'Feb': 2, 'Mar': 3, 'Apr': 4, 'May': 5, 'Jun': 6, 'Jul': 7, 'Aug': 8, 'Sep': 9, 'Oct': 10, 'Nov': 11, 'Dec': 12}"
   ]
  },
  {
   "cell_type": "code",
   "execution_count": 122,
   "metadata": {},
   "outputs": [
    {
     "data": {
      "text/html": [
       "<div>\n",
       "<style>\n",
       "    .dataframe thead tr:only-child th {\n",
       "        text-align: right;\n",
       "    }\n",
       "\n",
       "    .dataframe thead th {\n",
       "        text-align: left;\n",
       "    }\n",
       "\n",
       "    .dataframe tbody tr th {\n",
       "        vertical-align: top;\n",
       "    }\n",
       "</style>\n",
       "<table border=\"1\" class=\"dataframe\">\n",
       "  <thead>\n",
       "    <tr style=\"text-align: right;\">\n",
       "      <th>year</th>\n",
       "      <th>2006</th>\n",
       "      <th>2007</th>\n",
       "      <th>2008</th>\n",
       "      <th>2009</th>\n",
       "      <th>2010</th>\n",
       "      <th>2011</th>\n",
       "      <th>2012</th>\n",
       "    </tr>\n",
       "    <tr>\n",
       "      <th>month_num</th>\n",
       "      <th></th>\n",
       "      <th></th>\n",
       "      <th></th>\n",
       "      <th></th>\n",
       "      <th></th>\n",
       "      <th></th>\n",
       "      <th></th>\n",
       "    </tr>\n",
       "  </thead>\n",
       "  <tbody>\n",
       "    <tr>\n",
       "      <th>1</th>\n",
       "      <td>0.0</td>\n",
       "      <td>71.0</td>\n",
       "      <td>88.0</td>\n",
       "      <td>113.0</td>\n",
       "      <td>87.0</td>\n",
       "      <td>112.0</td>\n",
       "      <td>70.0</td>\n",
       "    </tr>\n",
       "    <tr>\n",
       "      <th>2</th>\n",
       "      <td>0.0</td>\n",
       "      <td>41.0</td>\n",
       "      <td>90.0</td>\n",
       "      <td>113.0</td>\n",
       "      <td>91.0</td>\n",
       "      <td>74.0</td>\n",
       "      <td>97.0</td>\n",
       "    </tr>\n",
       "    <tr>\n",
       "      <th>3</th>\n",
       "      <td>0.0</td>\n",
       "      <td>0.0</td>\n",
       "      <td>74.0</td>\n",
       "      <td>140.0</td>\n",
       "      <td>117.0</td>\n",
       "      <td>77.0</td>\n",
       "      <td>80.0</td>\n",
       "    </tr>\n",
       "    <tr>\n",
       "      <th>4</th>\n",
       "      <td>0.0</td>\n",
       "      <td>296.0</td>\n",
       "      <td>87.0</td>\n",
       "      <td>137.0</td>\n",
       "      <td>112.0</td>\n",
       "      <td>102.0</td>\n",
       "      <td>75.0</td>\n",
       "    </tr>\n",
       "    <tr>\n",
       "      <th>5</th>\n",
       "      <td>0.0</td>\n",
       "      <td>91.0</td>\n",
       "      <td>91.0</td>\n",
       "      <td>124.0</td>\n",
       "      <td>103.0</td>\n",
       "      <td>108.0</td>\n",
       "      <td>95.0</td>\n",
       "    </tr>\n",
       "    <tr>\n",
       "      <th>6</th>\n",
       "      <td>49.0</td>\n",
       "      <td>54.0</td>\n",
       "      <td>96.0</td>\n",
       "      <td>112.0</td>\n",
       "      <td>130.0</td>\n",
       "      <td>113.0</td>\n",
       "      <td>116.0</td>\n",
       "    </tr>\n",
       "    <tr>\n",
       "      <th>7</th>\n",
       "      <td>60.0</td>\n",
       "      <td>79.0</td>\n",
       "      <td>142.0</td>\n",
       "      <td>85.0</td>\n",
       "      <td>103.0</td>\n",
       "      <td>86.0</td>\n",
       "      <td>125.0</td>\n",
       "    </tr>\n",
       "    <tr>\n",
       "      <th>8</th>\n",
       "      <td>79.0</td>\n",
       "      <td>53.0</td>\n",
       "      <td>59.0</td>\n",
       "      <td>62.0</td>\n",
       "      <td>67.0</td>\n",
       "      <td>79.0</td>\n",
       "      <td>67.0</td>\n",
       "    </tr>\n",
       "    <tr>\n",
       "      <th>9</th>\n",
       "      <td>68.0</td>\n",
       "      <td>55.0</td>\n",
       "      <td>129.0</td>\n",
       "      <td>119.0</td>\n",
       "      <td>123.0</td>\n",
       "      <td>94.0</td>\n",
       "      <td>40.0</td>\n",
       "    </tr>\n",
       "    <tr>\n",
       "      <th>10</th>\n",
       "      <td>113.0</td>\n",
       "      <td>64.0</td>\n",
       "      <td>147.0</td>\n",
       "      <td>136.0</td>\n",
       "      <td>103.0</td>\n",
       "      <td>99.0</td>\n",
       "      <td>0.0</td>\n",
       "    </tr>\n",
       "    <tr>\n",
       "      <th>11</th>\n",
       "      <td>28.0</td>\n",
       "      <td>52.0</td>\n",
       "      <td>99.0</td>\n",
       "      <td>79.0</td>\n",
       "      <td>106.0</td>\n",
       "      <td>84.0</td>\n",
       "      <td>0.0</td>\n",
       "    </tr>\n",
       "    <tr>\n",
       "      <th>12</th>\n",
       "      <td>36.0</td>\n",
       "      <td>40.0</td>\n",
       "      <td>96.0</td>\n",
       "      <td>107.0</td>\n",
       "      <td>77.0</td>\n",
       "      <td>80.0</td>\n",
       "      <td>0.0</td>\n",
       "    </tr>\n",
       "  </tbody>\n",
       "</table>\n",
       "</div>"
      ],
      "text/plain": [
       "year        2006   2007   2008   2009   2010   2011   2012\n",
       "month_num                                                 \n",
       "1            0.0   71.0   88.0  113.0   87.0  112.0   70.0\n",
       "2            0.0   41.0   90.0  113.0   91.0   74.0   97.0\n",
       "3            0.0    0.0   74.0  140.0  117.0   77.0   80.0\n",
       "4            0.0  296.0   87.0  137.0  112.0  102.0   75.0\n",
       "5            0.0   91.0   91.0  124.0  103.0  108.0   95.0\n",
       "6           49.0   54.0   96.0  112.0  130.0  113.0  116.0\n",
       "7           60.0   79.0  142.0   85.0  103.0   86.0  125.0\n",
       "8           79.0   53.0   59.0   62.0   67.0   79.0   67.0\n",
       "9           68.0   55.0  129.0  119.0  123.0   94.0   40.0\n",
       "10         113.0   64.0  147.0  136.0  103.0   99.0    0.0\n",
       "11          28.0   52.0   99.0   79.0  106.0   84.0    0.0\n",
       "12          36.0   40.0   96.0  107.0   77.0   80.0    0.0"
      ]
     },
     "execution_count": 122,
     "metadata": {},
     "output_type": "execute_result"
    }
   ],
   "source": [
    "hmap_df = pd.pivot_table(theme_df[['publish_date', 'theme']], index=['publish_date'], aggfunc='count').reset_index()\n",
    "hmap_df['month_num'] = hmap_df['publish_date'].apply(lambda x: months[x.split()[0]])\n",
    "hmap_df['year'] = hmap_df['publish_date'].apply(lambda x: x.split()[1])\n",
    "hmap_df = hmap_df.sort_values(['year', 'month_num'])\n",
    "hmap_df = hmap_df[['month_num', 'year', 'theme']]\n",
    "hmap_df = hmap_df.pivot('month_num', 'year', 'theme')\n",
    "hmap_df = hmap_df.fillna(0)\n",
    "hmap_df"
   ]
  },
  {
   "cell_type": "code",
   "execution_count": 123,
   "metadata": {
    "scrolled": true
   },
   "outputs": [
    {
     "data": {
      "text/plain": [
       "<matplotlib.axes._subplots.AxesSubplot at 0x153d5a8d0>"
      ]
     },
     "execution_count": 123,
     "metadata": {},
     "output_type": "execute_result"
    },
    {
     "data": {
      "image/png": "[encoded data removed]",
      "text/plain": [
       "<matplotlib.figure.Figure at 0x151752940>"
      ]
     },
     "metadata": {},
     "output_type": "display_data"
    }
   ],
   "source": [
    "f, ax = plt.subplots(figsize=(9, 5))\n",
    "sns.heatmap(hmap_df, annot=True, linewidths=.5, ax=ax, fmt='n', yticklabels=month_order)"
   ]
  },
  {
   "cell_type": "markdown",
   "metadata": {},
   "source": [
    "### Speakers\n",
    "\n",
    "In this section, we will attempt at finding the most frequent TED Speakers. We will deal with the popularity of TED Speakers while dealing with views."
   ]
  },
  {
   "cell_type": "code",
   "execution_count": 30,
   "metadata": {},
   "outputs": [
    {
     "data": {
      "text/html": [
       "<div>\n",
       "<style>\n",
       "    .dataframe thead tr:only-child th {\n",
       "        text-align: right;\n",
       "    }\n",
       "\n",
       "    .dataframe thead th {\n",
       "        text-align: left;\n",
       "    }\n",
       "\n",
       "    .dataframe tbody tr th {\n",
       "        vertical-align: top;\n",
       "    }\n",
       "</style>\n",
       "<table border=\"1\" class=\"dataframe\">\n",
       "  <thead>\n",
       "    <tr style=\"text-align: right;\">\n",
       "      <th></th>\n",
       "      <th>speaker</th>\n",
       "      <th>appearances</th>\n",
       "    </tr>\n",
       "  </thead>\n",
       "  <tbody>\n",
       "    <tr>\n",
       "      <th>374</th>\n",
       "      <td>Hans Rosling</td>\n",
       "      <td>9</td>\n",
       "    </tr>\n",
       "    <tr>\n",
       "      <th>5</th>\n",
       "      <td>Rives</td>\n",
       "      <td>5</td>\n",
       "    </tr>\n",
       "    <tr>\n",
       "      <th>411</th>\n",
       "      <td>Jacqueline Novogratz</td>\n",
       "      <td>5</td>\n",
       "    </tr>\n",
       "    <tr>\n",
       "      <th>208</th>\n",
       "      <td>Dan Dennett</td>\n",
       "      <td>4</td>\n",
       "    </tr>\n",
       "    <tr>\n",
       "      <th>190</th>\n",
       "      <td>Clay Shirky</td>\n",
       "      <td>4</td>\n",
       "    </tr>\n",
       "    <tr>\n",
       "      <th>516</th>\n",
       "      <td>Juan Enriquez</td>\n",
       "      <td>4</td>\n",
       "    </tr>\n",
       "    <tr>\n",
       "      <th>499</th>\n",
       "      <td>Jonathan Drori</td>\n",
       "      <td>4</td>\n",
       "    </tr>\n",
       "    <tr>\n",
       "      <th>903</th>\n",
       "      <td>Stefan Sagmeister</td>\n",
       "      <td>4</td>\n",
       "    </tr>\n",
       "    <tr>\n",
       "      <th>328</th>\n",
       "      <td>Eve Ensler</td>\n",
       "      <td>4</td>\n",
       "    </tr>\n",
       "    <tr>\n",
       "      <th>605</th>\n",
       "      <td>Marco Tempest</td>\n",
       "      <td>4</td>\n",
       "    </tr>\n",
       "  </tbody>\n",
       "</table>\n",
       "</div>"
      ],
      "text/plain": [
       "                  speaker  appearances\n",
       "374          Hans Rosling            9\n",
       "5                   Rives            5\n",
       "411  Jacqueline Novogratz            5\n",
       "208           Dan Dennett            4\n",
       "190           Clay Shirky            4\n",
       "516         Juan Enriquez            4\n",
       "499        Jonathan Drori            4\n",
       "903     Stefan Sagmeister            4\n",
       "328            Eve Ensler            4\n",
       "605         Marco Tempest            4"
      ]
     },
     "execution_count": 30,
     "metadata": {},
     "output_type": "execute_result"
    }
   ],
   "source": [
    "speaker_df = df2.groupby('speaker').count().reset_index()[['speaker', 'comments']]\n",
    "speaker_df.columns = ['speaker', 'appearances']\n",
    "speaker_df = speaker_df.sort_values('appearances', ascending=False)\n",
    "speaker_df.head(10)"
   ]
  },
  {
   "cell_type": "markdown",
   "metadata": {},
   "source": [
    "**Hans Rosling**, the Swiss Health Professor is clearly the most popular TED Speaker, with more than **9 appearances** on the TED Forum. **Rives** and **Jacqueline Novogratz** come at a distant second with **5 appearances** each."
   ]
  },
  {
   "cell_type": "markdown",
   "metadata": {},
   "source": [
    "### TED Events\n",
    "\n",
    "Which TED Events tend to hold the most number of TED.com upload worthy events? We will try to answer that question in this section."
   ]
  },
  {
   "cell_type": "code",
   "execution_count": 31,
   "metadata": {},
   "outputs": [
    {
     "data": {
      "text/html": [
       "<div>\n",
       "<style>\n",
       "    .dataframe thead tr:only-child th {\n",
       "        text-align: right;\n",
       "    }\n",
       "\n",
       "    .dataframe thead th {\n",
       "        text-align: left;\n",
       "    }\n",
       "\n",
       "    .dataframe tbody tr th {\n",
       "        vertical-align: top;\n",
       "    }\n",
       "</style>\n",
       "<table border=\"1\" class=\"dataframe\">\n",
       "  <thead>\n",
       "    <tr style=\"text-align: right;\">\n",
       "      <th></th>\n",
       "      <th>event</th>\n",
       "      <th>talks</th>\n",
       "    </tr>\n",
       "  </thead>\n",
       "  <tbody>\n",
       "    <tr>\n",
       "      <th>27</th>\n",
       "      <td>TED2009</td>\n",
       "      <td>80</td>\n",
       "    </tr>\n",
       "    <tr>\n",
       "      <th>29</th>\n",
       "      <td>TED2011</td>\n",
       "      <td>69</td>\n",
       "    </tr>\n",
       "    <tr>\n",
       "      <th>28</th>\n",
       "      <td>TED2010</td>\n",
       "      <td>68</td>\n",
       "    </tr>\n",
       "    <tr>\n",
       "      <th>25</th>\n",
       "      <td>TED2007</td>\n",
       "      <td>68</td>\n",
       "    </tr>\n",
       "    <tr>\n",
       "      <th>40</th>\n",
       "      <td>TEDGlobal 2011</td>\n",
       "      <td>67</td>\n",
       "    </tr>\n",
       "    <tr>\n",
       "      <th>38</th>\n",
       "      <td>TEDGlobal 2009</td>\n",
       "      <td>62</td>\n",
       "    </tr>\n",
       "    <tr>\n",
       "      <th>30</th>\n",
       "      <td>TED2012</td>\n",
       "      <td>60</td>\n",
       "    </tr>\n",
       "    <tr>\n",
       "      <th>26</th>\n",
       "      <td>TED2008</td>\n",
       "      <td>55</td>\n",
       "    </tr>\n",
       "    <tr>\n",
       "      <th>39</th>\n",
       "      <td>TEDGlobal 2010</td>\n",
       "      <td>54</td>\n",
       "    </tr>\n",
       "    <tr>\n",
       "      <th>24</th>\n",
       "      <td>TED2006</td>\n",
       "      <td>42</td>\n",
       "    </tr>\n",
       "  </tbody>\n",
       "</table>\n",
       "</div>"
      ],
      "text/plain": [
       "             event  talks\n",
       "27         TED2009     80\n",
       "29         TED2011     69\n",
       "28         TED2010     68\n",
       "25         TED2007     68\n",
       "40  TEDGlobal 2011     67\n",
       "38  TEDGlobal 2009     62\n",
       "30         TED2012     60\n",
       "26         TED2008     55\n",
       "39  TEDGlobal 2010     54\n",
       "24         TED2006     42"
      ]
     },
     "execution_count": 31,
     "metadata": {},
     "output_type": "execute_result"
    }
   ],
   "source": [
    "events_df = df2[['id', 'ted_event']].groupby('ted_event').count().reset_index()\n",
    "events_df.columns = ['event', 'talks']\n",
    "events_df = events_df.sort_values('talks', ascending=False)\n",
    "events_df.head(10)"
   ]
  },
  {
   "cell_type": "markdown",
   "metadata": {},
   "source": [
    "As expected, the official TED events held the major share of TED Talks published on the TED.com platform. There isn't too much insight to be gained from this. "
   ]
  },
  {
   "cell_type": "markdown",
   "metadata": {},
   "source": [
    "### Talk Lengths\n",
    "\n",
    "Are the number of words in your speech correlated to the popularity of your talk (the number of views gained). Let us try to answer this question in this section. \n",
    "\n",
    "To do this, we require the word count of the transcript. We will obtain this in an extremely naive way by splitting the transcript string into a list and then counting the number of elements in that list. For our use case, this method should suffice."
   ]
  },
  {
   "cell_type": "code",
   "execution_count": 32,
   "metadata": {},
   "outputs": [
    {
     "data": {
      "text/plain": [
       "count    1203.000000\n",
       "mean     2235.369077\n",
       "std      1080.984956\n",
       "min         3.000000\n",
       "25%      1328.500000\n",
       "50%      2378.000000\n",
       "75%      3003.000000\n",
       "max      6501.000000\n",
       "Name: wc, dtype: float64"
      ]
     },
     "execution_count": 32,
     "metadata": {},
     "output_type": "execute_result"
    }
   ],
   "source": [
    "df2['wc'] = df2['transcript'].apply(lambda x: len(x.split()))\n",
    "df2['wc'].describe()"
   ]
  },
  {
   "cell_type": "markdown",
   "metadata": {},
   "source": [
    "We can see that the average TED Talk has around **2200 words** and there is a significantly large standard deviation of a **1000 words**. The shortest talk on record is just 3 words long. Let us look further into this anomaly as talks are never this short. The longest talk is more than **6500 words** in length."
   ]
  },
  {
   "cell_type": "code",
   "execution_count": 33,
   "metadata": {},
   "outputs": [
    {
     "data": {
      "text/html": [
       "<div>\n",
       "<style>\n",
       "    .dataframe thead tr:only-child th {\n",
       "        text-align: right;\n",
       "    }\n",
       "\n",
       "    .dataframe thead th {\n",
       "        text-align: left;\n",
       "    }\n",
       "\n",
       "    .dataframe tbody tr th {\n",
       "        vertical-align: top;\n",
       "    }\n",
       "</style>\n",
       "<table border=\"1\" class=\"dataframe\">\n",
       "  <thead>\n",
       "    <tr style=\"text-align: right;\">\n",
       "      <th></th>\n",
       "      <th>comments</th>\n",
       "      <th>description</th>\n",
       "      <th>film_date</th>\n",
       "      <th>id</th>\n",
       "      <th>publish_date</th>\n",
       "      <th>related_tags</th>\n",
       "      <th>related_themes</th>\n",
       "      <th>related_videos</th>\n",
       "      <th>speaker</th>\n",
       "      <th>ted_event</th>\n",
       "      <th>title</th>\n",
       "      <th>transcript</th>\n",
       "      <th>url</th>\n",
       "      <th>views</th>\n",
       "      <th>dis_quo</th>\n",
       "      <th>month</th>\n",
       "      <th>year</th>\n",
       "      <th>wc</th>\n",
       "    </tr>\n",
       "  </thead>\n",
       "  <tbody>\n",
       "    <tr>\n",
       "      <th>156</th>\n",
       "      <td>78</td>\n",
       "      <td>Kenichi Ebina moves his body in a manner that ...</td>\n",
       "      <td>Mar 2007</td>\n",
       "      <td>156</td>\n",
       "      <td>Oct 2007</td>\n",
       "      <td>[Arts, Culture, Dance, Entertainment, Short talk]</td>\n",
       "      <td>[Spectacular Performance, The Creative Spark, ...</td>\n",
       "      <td>[Michael Moschen juggles rhythm and motion, Ne...</td>\n",
       "      <td>Kenichi Ebina</td>\n",
       "      <td>TED2007</td>\n",
       "      <td>Kenichi Ebina's magic moves</td>\n",
       "      <td>(Applause) (Music) (Applause)</td>\n",
       "      <td>http://www.ted.com/talks/kenichi_ebina_s_magic...</td>\n",
       "      <td>769665</td>\n",
       "      <td>0.000101</td>\n",
       "      <td>Mar</td>\n",
       "      <td>2007</td>\n",
       "      <td>3</td>\n",
       "    </tr>\n",
       "  </tbody>\n",
       "</table>\n",
       "</div>"
      ],
      "text/plain": [
       "     comments                                        description film_date  \\\n",
       "156        78  Kenichi Ebina moves his body in a manner that ...  Mar 2007   \n",
       "\n",
       "      id publish_date                                       related_tags  \\\n",
       "156  156     Oct 2007  [Arts, Culture, Dance, Entertainment, Short talk]   \n",
       "\n",
       "                                        related_themes  \\\n",
       "156  [Spectacular Performance, The Creative Spark, ...   \n",
       "\n",
       "                                        related_videos        speaker  \\\n",
       "156  [Michael Moschen juggles rhythm and motion, Ne...  Kenichi Ebina   \n",
       "\n",
       "    ted_event                        title                     transcript  \\\n",
       "156   TED2007  Kenichi Ebina's magic moves  (Applause) (Music) (Applause)   \n",
       "\n",
       "                                                   url   views   dis_quo  \\\n",
       "156  http://www.ted.com/talks/kenichi_ebina_s_magic...  769665  0.000101   \n",
       "\n",
       "    month  year  wc  \n",
       "156   Mar  2007   3  "
      ]
     },
     "execution_count": 33,
     "metadata": {},
     "output_type": "execute_result"
    }
   ],
   "source": [
    "df2[df2['wc'] == 3]"
   ]
  },
  {
   "cell_type": "markdown",
   "metadata": {},
   "source": [
    "As can be seen above, this person does not actually speak in the entire duration of his presentation. So, the shortest TED Talk is actually **0 words long!**.\n",
    "\n",
    "Let us now plot the distribution of word counts versus views and check if there is a statistically significant correlation."
   ]
  },
  {
   "cell_type": "code",
   "execution_count": 34,
   "metadata": {},
   "outputs": [
    {
     "data": {
      "text/plain": [
       "<matplotlib.text.Text at 0x14fb4e908>"
      ]
     },
     "execution_count": 34,
     "metadata": {},
     "output_type": "execute_result"
    },
    {
     "data": {
      "image/png": "[encoded data removed]",
      "text/plain": [
       "<matplotlib.figure.Figure at 0x14f966358>"
      ]
     },
     "metadata": {},
     "output_type": "display_data"
    }
   ],
   "source": [
    "sns.jointplot(x='wc', y='views', data=df2)\n",
    "plt.xlabel('Word Count')\n",
    "plt.ylabel('Views')"
   ]
  },
  {
   "cell_type": "code",
   "execution_count": 35,
   "metadata": {},
   "outputs": [
    {
     "data": {
      "text/html": [
       "<div>\n",
       "<style>\n",
       "    .dataframe thead tr:only-child th {\n",
       "        text-align: right;\n",
       "    }\n",
       "\n",
       "    .dataframe thead th {\n",
       "        text-align: left;\n",
       "    }\n",
       "\n",
       "    .dataframe tbody tr th {\n",
       "        vertical-align: top;\n",
       "    }\n",
       "</style>\n",
       "<table border=\"1\" class=\"dataframe\">\n",
       "  <thead>\n",
       "    <tr style=\"text-align: right;\">\n",
       "      <th></th>\n",
       "      <th>views</th>\n",
       "      <th>wc</th>\n",
       "    </tr>\n",
       "  </thead>\n",
       "  <tbody>\n",
       "    <tr>\n",
       "      <th>views</th>\n",
       "      <td>1.000000</td>\n",
       "      <td>0.049944</td>\n",
       "    </tr>\n",
       "    <tr>\n",
       "      <th>wc</th>\n",
       "      <td>0.049944</td>\n",
       "      <td>1.000000</td>\n",
       "    </tr>\n",
       "  </tbody>\n",
       "</table>\n",
       "</div>"
      ],
      "text/plain": [
       "          views        wc\n",
       "views  1.000000  0.049944\n",
       "wc     0.049944  1.000000"
      ]
     },
     "execution_count": 35,
     "metadata": {},
     "output_type": "execute_result"
    }
   ],
   "source": [
    "df2[['views', 'wc']].corr()"
   ]
  },
  {
   "cell_type": "markdown",
   "metadata": {},
   "source": [
    "There seems to be almost no correlation between these two quantities. This strongly suggests that **there is no tangible correlation between the length and the popularity of a TED Talk**."
   ]
  },
  {
   "cell_type": "markdown",
   "metadata": {},
   "source": [
    "### Views and Popularity\n",
    "\n",
    "With the TED User dataset, we had already discovered the most favorited TED Talks. In this section, we will try to do a vert similar thing albeit using the number of views as the metric. We will then try to see if the most favorited talks are also the most watched."
   ]
  },
  {
   "cell_type": "code",
   "execution_count": 36,
   "metadata": {},
   "outputs": [
    {
     "data": {
      "text/html": [
       "<div>\n",
       "<style>\n",
       "    .dataframe thead tr:only-child th {\n",
       "        text-align: right;\n",
       "    }\n",
       "\n",
       "    .dataframe thead th {\n",
       "        text-align: left;\n",
       "    }\n",
       "\n",
       "    .dataframe tbody tr th {\n",
       "        vertical-align: top;\n",
       "    }\n",
       "</style>\n",
       "<table border=\"1\" class=\"dataframe\">\n",
       "  <thead>\n",
       "    <tr style=\"text-align: right;\">\n",
       "      <th></th>\n",
       "      <th>title</th>\n",
       "      <th>views</th>\n",
       "    </tr>\n",
       "  </thead>\n",
       "  <tbody>\n",
       "    <tr>\n",
       "      <th>37</th>\n",
       "      <td>Ken Robinson says schools kill creativity</td>\n",
       "      <td>12056699</td>\n",
       "    </tr>\n",
       "    <tr>\n",
       "      <th>255</th>\n",
       "      <td>Jill Bolte Taylor's stroke of insight</td>\n",
       "      <td>9292536</td>\n",
       "    </tr>\n",
       "    <tr>\n",
       "      <th>563</th>\n",
       "      <td>Pranav Mistry: The thrilling potential of Sixt...</td>\n",
       "      <td>8838147</td>\n",
       "    </tr>\n",
       "    <tr>\n",
       "      <th>192</th>\n",
       "      <td>David Gallo: Underwater astonishments</td>\n",
       "      <td>7646653</td>\n",
       "    </tr>\n",
       "    <tr>\n",
       "      <th>658</th>\n",
       "      <td>Simon Sinek: How great leaders inspire action</td>\n",
       "      <td>6782102</td>\n",
       "    </tr>\n",
       "    <tr>\n",
       "      <th>411</th>\n",
       "      <td>Pattie Maes and Pranav Mistry demo SixthSense</td>\n",
       "      <td>6586517</td>\n",
       "    </tr>\n",
       "    <tr>\n",
       "      <th>809</th>\n",
       "      <td>Brené Brown: The power of vulnerability</td>\n",
       "      <td>5873180</td>\n",
       "    </tr>\n",
       "    <tr>\n",
       "      <th>182</th>\n",
       "      <td>Arthur Benjamin does \"Mathemagic\"</td>\n",
       "      <td>4443141</td>\n",
       "    </tr>\n",
       "    <tr>\n",
       "      <th>21</th>\n",
       "      <td>Hans Rosling: Stats that reshape your worldview</td>\n",
       "      <td>4430288</td>\n",
       "    </tr>\n",
       "    <tr>\n",
       "      <th>401</th>\n",
       "      <td>Elizabeth Gilbert: Your elusive creative genius</td>\n",
       "      <td>4195072</td>\n",
       "    </tr>\n",
       "    <tr>\n",
       "      <th>507</th>\n",
       "      <td>Dan Pink: The puzzle of motivation</td>\n",
       "      <td>3997492</td>\n",
       "    </tr>\n",
       "    <tr>\n",
       "      <th>44</th>\n",
       "      <td>Dan Gilbert: The surprising science of happiness</td>\n",
       "      <td>3917002</td>\n",
       "    </tr>\n",
       "    <tr>\n",
       "      <th>999</th>\n",
       "      <td>Bunker Roy: Learning from a barefoot movement</td>\n",
       "      <td>3909312</td>\n",
       "    </tr>\n",
       "    <tr>\n",
       "      <th>273</th>\n",
       "      <td>Keith Barry: Brain magic</td>\n",
       "      <td>3804968</td>\n",
       "    </tr>\n",
       "    <tr>\n",
       "      <th>61</th>\n",
       "      <td>Richard St. John's 8 secrets of success</td>\n",
       "      <td>3320447</td>\n",
       "    </tr>\n",
       "    <tr>\n",
       "      <th>536</th>\n",
       "      <td>Chimamanda Adichie: The danger of a single story</td>\n",
       "      <td>3241879</td>\n",
       "    </tr>\n",
       "    <tr>\n",
       "      <th>676</th>\n",
       "      <td>Sir Ken Robinson: Bring on the learning revolu...</td>\n",
       "      <td>3155037</td>\n",
       "    </tr>\n",
       "    <tr>\n",
       "      <th>119</th>\n",
       "      <td>Blaise Aguera y Arcas demos Photosynth</td>\n",
       "      <td>3102074</td>\n",
       "    </tr>\n",
       "    <tr>\n",
       "      <th>221</th>\n",
       "      <td>Johnny Lee demos Wii Remote hacks</td>\n",
       "      <td>3068051</td>\n",
       "    </tr>\n",
       "    <tr>\n",
       "      <th>959</th>\n",
       "      <td>Marco Tempest: The magic of truth and lies (an...</td>\n",
       "      <td>2947475</td>\n",
       "    </tr>\n",
       "    <tr>\n",
       "      <th>257</th>\n",
       "      <td>Benjamin Zander: The transformative power of c...</td>\n",
       "      <td>2897054</td>\n",
       "    </tr>\n",
       "    <tr>\n",
       "      <th>452</th>\n",
       "      <td>Mary Roach: 10 things you didn't know about or...</td>\n",
       "      <td>2855779</td>\n",
       "    </tr>\n",
       "    <tr>\n",
       "      <th>1084</th>\n",
       "      <td>Susan Cain: The power of introverts</td>\n",
       "      <td>2839814</td>\n",
       "    </tr>\n",
       "    <tr>\n",
       "      <th>878</th>\n",
       "      <td>Ric Elias: 3 things I learned while my plane c...</td>\n",
       "      <td>2815259</td>\n",
       "    </tr>\n",
       "    <tr>\n",
       "      <th>935</th>\n",
       "      <td>Matt Cutts: Try something new for 30 days</td>\n",
       "      <td>2806969</td>\n",
       "    </tr>\n",
       "  </tbody>\n",
       "</table>\n",
       "</div>"
      ],
      "text/plain": [
       "                                                  title     views\n",
       "37            Ken Robinson says schools kill creativity  12056699\n",
       "255               Jill Bolte Taylor's stroke of insight   9292536\n",
       "563   Pranav Mistry: The thrilling potential of Sixt...   8838147\n",
       "192               David Gallo: Underwater astonishments   7646653\n",
       "658       Simon Sinek: How great leaders inspire action   6782102\n",
       "411       Pattie Maes and Pranav Mistry demo SixthSense   6586517\n",
       "809             Brené Brown: The power of vulnerability   5873180\n",
       "182                   Arthur Benjamin does \"Mathemagic\"   4443141\n",
       "21      Hans Rosling: Stats that reshape your worldview   4430288\n",
       "401     Elizabeth Gilbert: Your elusive creative genius   4195072\n",
       "507                  Dan Pink: The puzzle of motivation   3997492\n",
       "44     Dan Gilbert: The surprising science of happiness   3917002\n",
       "999       Bunker Roy: Learning from a barefoot movement   3909312\n",
       "273                            Keith Barry: Brain magic   3804968\n",
       "61              Richard St. John's 8 secrets of success   3320447\n",
       "536    Chimamanda Adichie: The danger of a single story   3241879\n",
       "676   Sir Ken Robinson: Bring on the learning revolu...   3155037\n",
       "119              Blaise Aguera y Arcas demos Photosynth   3102074\n",
       "221                   Johnny Lee demos Wii Remote hacks   3068051\n",
       "959   Marco Tempest: The magic of truth and lies (an...   2947475\n",
       "257   Benjamin Zander: The transformative power of c...   2897054\n",
       "452   Mary Roach: 10 things you didn't know about or...   2855779\n",
       "1084                Susan Cain: The power of introverts   2839814\n",
       "878   Ric Elias: 3 things I learned while my plane c...   2815259\n",
       "935           Matt Cutts: Try something new for 30 days   2806969"
      ]
     },
     "execution_count": 36,
     "metadata": {},
     "output_type": "execute_result"
    }
   ],
   "source": [
    "pop = df2[['title', 'views']].sort_values('views', ascending=False).head(25)\n",
    "pop"
   ]
  },
  {
   "cell_type": "markdown",
   "metadata": {},
   "source": [
    "Comparing these talks with the most favorited ones, we find out that there is a significant overlap which confirms our hunch. We also notice that the most watched video is also the most favorited video of all time. Take a bow, Ken Robinson!"
   ]
  },
  {
   "cell_type": "markdown",
   "metadata": {},
   "source": [
    "### Themes\n",
    "\n",
    "The final question that we will try to answer in this notebook before concluding is finding out the most popular themes in the TED conferences. Although TED started out as a conference about technology, entertainment and design, it has since diversified into virtually every field of study and walk of life. It will be interesting to see if this conference with Silicon Valley origins has a bias towards certain topics.\n",
    "\n",
    "To answer this question, we need to wrangle our data in a way that it is suitable for analysis. More specifically, we need to split the related_tags list into separate rows."
   ]
  },
  {
   "cell_type": "code",
   "execution_count": 37,
   "metadata": {
    "collapsed": true
   },
   "outputs": [],
   "source": [
    "s = df2.apply(lambda x: pd.Series(x['related_tags']),axis=1).stack().reset_index(level=1, drop=True)\n",
    "s.name = 'theme'"
   ]
  },
  {
   "cell_type": "code",
   "execution_count": 38,
   "metadata": {},
   "outputs": [
    {
     "data": {
      "text/html": [
       "<div>\n",
       "<style>\n",
       "    .dataframe thead tr:only-child th {\n",
       "        text-align: right;\n",
       "    }\n",
       "\n",
       "    .dataframe thead th {\n",
       "        text-align: left;\n",
       "    }\n",
       "\n",
       "    .dataframe tbody tr th {\n",
       "        vertical-align: top;\n",
       "    }\n",
       "</style>\n",
       "<table border=\"1\" class=\"dataframe\">\n",
       "  <thead>\n",
       "    <tr style=\"text-align: right;\">\n",
       "      <th></th>\n",
       "      <th>comments</th>\n",
       "      <th>description</th>\n",
       "      <th>film_date</th>\n",
       "      <th>id</th>\n",
       "      <th>publish_date</th>\n",
       "      <th>related_themes</th>\n",
       "      <th>related_videos</th>\n",
       "      <th>speaker</th>\n",
       "      <th>ted_event</th>\n",
       "      <th>title</th>\n",
       "      <th>transcript</th>\n",
       "      <th>url</th>\n",
       "      <th>views</th>\n",
       "      <th>dis_quo</th>\n",
       "      <th>month</th>\n",
       "      <th>year</th>\n",
       "      <th>wc</th>\n",
       "      <th>theme</th>\n",
       "    </tr>\n",
       "  </thead>\n",
       "  <tbody>\n",
       "    <tr>\n",
       "      <th>0</th>\n",
       "      <td>7</td>\n",
       "      <td>Scott Fraser studies how humans remember crime...</td>\n",
       "      <td>May 2012</td>\n",
       "      <td>0</td>\n",
       "      <td>Sep 2012</td>\n",
       "      <td>[How the Mind Works]</td>\n",
       "      <td>[Bryan Stevenson: We need to talk about an inj...</td>\n",
       "      <td>Scott Fraser</td>\n",
       "      <td>TEDxUSC</td>\n",
       "      <td>Scott Fraser: Why eyewitnesses get it wrong</td>\n",
       "      <td>The murder happened a little over 21 years ago...</td>\n",
       "      <td>http://www.ted.com/talks/scott_fraser_the_prob...</td>\n",
       "      <td>21025</td>\n",
       "      <td>0.000333</td>\n",
       "      <td>May</td>\n",
       "      <td>2012</td>\n",
       "      <td>2824</td>\n",
       "      <td>Crime</td>\n",
       "    </tr>\n",
       "    <tr>\n",
       "      <th>0</th>\n",
       "      <td>7</td>\n",
       "      <td>Scott Fraser studies how humans remember crime...</td>\n",
       "      <td>May 2012</td>\n",
       "      <td>0</td>\n",
       "      <td>Sep 2012</td>\n",
       "      <td>[How the Mind Works]</td>\n",
       "      <td>[Bryan Stevenson: We need to talk about an inj...</td>\n",
       "      <td>Scott Fraser</td>\n",
       "      <td>TEDxUSC</td>\n",
       "      <td>Scott Fraser: Why eyewitnesses get it wrong</td>\n",
       "      <td>The murder happened a little over 21 years ago...</td>\n",
       "      <td>http://www.ted.com/talks/scott_fraser_the_prob...</td>\n",
       "      <td>21025</td>\n",
       "      <td>0.000333</td>\n",
       "      <td>May</td>\n",
       "      <td>2012</td>\n",
       "      <td>2824</td>\n",
       "      <td>Global issues</td>\n",
       "    </tr>\n",
       "    <tr>\n",
       "      <th>0</th>\n",
       "      <td>7</td>\n",
       "      <td>Scott Fraser studies how humans remember crime...</td>\n",
       "      <td>May 2012</td>\n",
       "      <td>0</td>\n",
       "      <td>Sep 2012</td>\n",
       "      <td>[How the Mind Works]</td>\n",
       "      <td>[Bryan Stevenson: We need to talk about an inj...</td>\n",
       "      <td>Scott Fraser</td>\n",
       "      <td>TEDxUSC</td>\n",
       "      <td>Scott Fraser: Why eyewitnesses get it wrong</td>\n",
       "      <td>The murder happened a little over 21 years ago...</td>\n",
       "      <td>http://www.ted.com/talks/scott_fraser_the_prob...</td>\n",
       "      <td>21025</td>\n",
       "      <td>0.000333</td>\n",
       "      <td>May</td>\n",
       "      <td>2012</td>\n",
       "      <td>2824</td>\n",
       "      <td>Government</td>\n",
       "    </tr>\n",
       "    <tr>\n",
       "      <th>0</th>\n",
       "      <td>7</td>\n",
       "      <td>Scott Fraser studies how humans remember crime...</td>\n",
       "      <td>May 2012</td>\n",
       "      <td>0</td>\n",
       "      <td>Sep 2012</td>\n",
       "      <td>[How the Mind Works]</td>\n",
       "      <td>[Bryan Stevenson: We need to talk about an inj...</td>\n",
       "      <td>Scott Fraser</td>\n",
       "      <td>TEDxUSC</td>\n",
       "      <td>Scott Fraser: Why eyewitnesses get it wrong</td>\n",
       "      <td>The murder happened a little over 21 years ago...</td>\n",
       "      <td>http://www.ted.com/talks/scott_fraser_the_prob...</td>\n",
       "      <td>21025</td>\n",
       "      <td>0.000333</td>\n",
       "      <td>May</td>\n",
       "      <td>2012</td>\n",
       "      <td>2824</td>\n",
       "      <td>Law</td>\n",
       "    </tr>\n",
       "    <tr>\n",
       "      <th>0</th>\n",
       "      <td>7</td>\n",
       "      <td>Scott Fraser studies how humans remember crime...</td>\n",
       "      <td>May 2012</td>\n",
       "      <td>0</td>\n",
       "      <td>Sep 2012</td>\n",
       "      <td>[How the Mind Works]</td>\n",
       "      <td>[Bryan Stevenson: We need to talk about an inj...</td>\n",
       "      <td>Scott Fraser</td>\n",
       "      <td>TEDxUSC</td>\n",
       "      <td>Scott Fraser: Why eyewitnesses get it wrong</td>\n",
       "      <td>The murder happened a little over 21 years ago...</td>\n",
       "      <td>http://www.ted.com/talks/scott_fraser_the_prob...</td>\n",
       "      <td>21025</td>\n",
       "      <td>0.000333</td>\n",
       "      <td>May</td>\n",
       "      <td>2012</td>\n",
       "      <td>2824</td>\n",
       "      <td>Memory</td>\n",
       "    </tr>\n",
       "  </tbody>\n",
       "</table>\n",
       "</div>"
      ],
      "text/plain": [
       "   comments                                        description film_date  id  \\\n",
       "0         7  Scott Fraser studies how humans remember crime...  May 2012   0   \n",
       "0         7  Scott Fraser studies how humans remember crime...  May 2012   0   \n",
       "0         7  Scott Fraser studies how humans remember crime...  May 2012   0   \n",
       "0         7  Scott Fraser studies how humans remember crime...  May 2012   0   \n",
       "0         7  Scott Fraser studies how humans remember crime...  May 2012   0   \n",
       "\n",
       "  publish_date        related_themes  \\\n",
       "0     Sep 2012  [How the Mind Works]   \n",
       "0     Sep 2012  [How the Mind Works]   \n",
       "0     Sep 2012  [How the Mind Works]   \n",
       "0     Sep 2012  [How the Mind Works]   \n",
       "0     Sep 2012  [How the Mind Works]   \n",
       "\n",
       "                                      related_videos       speaker ted_event  \\\n",
       "0  [Bryan Stevenson: We need to talk about an inj...  Scott Fraser   TEDxUSC   \n",
       "0  [Bryan Stevenson: We need to talk about an inj...  Scott Fraser   TEDxUSC   \n",
       "0  [Bryan Stevenson: We need to talk about an inj...  Scott Fraser   TEDxUSC   \n",
       "0  [Bryan Stevenson: We need to talk about an inj...  Scott Fraser   TEDxUSC   \n",
       "0  [Bryan Stevenson: We need to talk about an inj...  Scott Fraser   TEDxUSC   \n",
       "\n",
       "                                         title  \\\n",
       "0  Scott Fraser: Why eyewitnesses get it wrong   \n",
       "0  Scott Fraser: Why eyewitnesses get it wrong   \n",
       "0  Scott Fraser: Why eyewitnesses get it wrong   \n",
       "0  Scott Fraser: Why eyewitnesses get it wrong   \n",
       "0  Scott Fraser: Why eyewitnesses get it wrong   \n",
       "\n",
       "                                          transcript  \\\n",
       "0  The murder happened a little over 21 years ago...   \n",
       "0  The murder happened a little over 21 years ago...   \n",
       "0  The murder happened a little over 21 years ago...   \n",
       "0  The murder happened a little over 21 years ago...   \n",
       "0  The murder happened a little over 21 years ago...   \n",
       "\n",
       "                                                 url  views   dis_quo month  \\\n",
       "0  http://www.ted.com/talks/scott_fraser_the_prob...  21025  0.000333   May   \n",
       "0  http://www.ted.com/talks/scott_fraser_the_prob...  21025  0.000333   May   \n",
       "0  http://www.ted.com/talks/scott_fraser_the_prob...  21025  0.000333   May   \n",
       "0  http://www.ted.com/talks/scott_fraser_the_prob...  21025  0.000333   May   \n",
       "0  http://www.ted.com/talks/scott_fraser_the_prob...  21025  0.000333   May   \n",
       "\n",
       "   year    wc          theme  \n",
       "0  2012  2824          Crime  \n",
       "0  2012  2824  Global issues  \n",
       "0  2012  2824     Government  \n",
       "0  2012  2824            Law  \n",
       "0  2012  2824         Memory  "
      ]
     },
     "execution_count": 38,
     "metadata": {},
     "output_type": "execute_result"
    }
   ],
   "source": [
    "theme_df = df2.drop('related_tags', axis=1).join(s)\n",
    "theme_df.head()"
   ]
  },
  {
   "cell_type": "code",
   "execution_count": 39,
   "metadata": {},
   "outputs": [
    {
     "data": {
      "text/html": [
       "<div>\n",
       "<style>\n",
       "    .dataframe thead tr:only-child th {\n",
       "        text-align: right;\n",
       "    }\n",
       "\n",
       "    .dataframe thead th {\n",
       "        text-align: left;\n",
       "    }\n",
       "\n",
       "    .dataframe tbody tr th {\n",
       "        vertical-align: top;\n",
       "    }\n",
       "</style>\n",
       "<table border=\"1\" class=\"dataframe\">\n",
       "  <thead>\n",
       "    <tr style=\"text-align: right;\">\n",
       "      <th></th>\n",
       "      <th>theme</th>\n",
       "      <th>talks</th>\n",
       "    </tr>\n",
       "  </thead>\n",
       "  <tbody>\n",
       "    <tr>\n",
       "      <th>0</th>\n",
       "      <td>Technology</td>\n",
       "      <td>421</td>\n",
       "    </tr>\n",
       "    <tr>\n",
       "      <th>1</th>\n",
       "      <td>Culture</td>\n",
       "      <td>337</td>\n",
       "    </tr>\n",
       "    <tr>\n",
       "      <th>2</th>\n",
       "      <td>Science</td>\n",
       "      <td>323</td>\n",
       "    </tr>\n",
       "    <tr>\n",
       "      <th>3</th>\n",
       "      <td>Global issues</td>\n",
       "      <td>289</td>\n",
       "    </tr>\n",
       "    <tr>\n",
       "      <th>4</th>\n",
       "      <td>Design</td>\n",
       "      <td>265</td>\n",
       "    </tr>\n",
       "    <tr>\n",
       "      <th>5</th>\n",
       "      <td>Entertainment</td>\n",
       "      <td>217</td>\n",
       "    </tr>\n",
       "    <tr>\n",
       "      <th>6</th>\n",
       "      <td>Business</td>\n",
       "      <td>197</td>\n",
       "    </tr>\n",
       "    <tr>\n",
       "      <th>7</th>\n",
       "      <td>Arts</td>\n",
       "      <td>148</td>\n",
       "    </tr>\n",
       "    <tr>\n",
       "      <th>8</th>\n",
       "      <td>Politics</td>\n",
       "      <td>106</td>\n",
       "    </tr>\n",
       "    <tr>\n",
       "      <th>9</th>\n",
       "      <td>Education</td>\n",
       "      <td>103</td>\n",
       "    </tr>\n",
       "  </tbody>\n",
       "</table>\n",
       "</div>"
      ],
      "text/plain": [
       "           theme  talks\n",
       "0     Technology    421\n",
       "1        Culture    337\n",
       "2        Science    323\n",
       "3  Global issues    289\n",
       "4         Design    265\n",
       "5  Entertainment    217\n",
       "6       Business    197\n",
       "7           Arts    148\n",
       "8       Politics    106\n",
       "9      Education    103"
      ]
     },
     "execution_count": 39,
     "metadata": {},
     "output_type": "execute_result"
    }
   ],
   "source": [
    "pop_themes = pd.DataFrame(theme_df['theme'].value_counts()).reset_index()\n",
    "pop_themes.columns = ['theme', 'talks']\n",
    "pop_themes.head(10)"
   ]
  },
  {
   "cell_type": "code",
   "execution_count": 40,
   "metadata": {},
   "outputs": [
    {
     "data": {
      "text/plain": [
       "<matplotlib.axes._subplots.AxesSubplot at 0x15002cb70>"
      ]
     },
     "execution_count": 40,
     "metadata": {},
     "output_type": "execute_result"
    },
    {
     "data": {
      "image/png": "[encoded data removed]",
      "text/plain": [
       "<matplotlib.figure.Figure at 0x1502243c8>"
      ]
     },
     "metadata": {},
     "output_type": "display_data"
    }
   ],
   "source": [
    "plt.figure(figsize=(15,5))\n",
    "sns.barplot(x='theme', y='talks', data=pop_themes.head(10))"
   ]
  },
  {
   "cell_type": "markdown",
   "metadata": {},
   "source": [
    "As may have been expected, **Technology** is the most popular topic for talks. The other two original factions, Design and Entertainment, also make it to the list of top 10 themes. **Culture** and **Science** are the second and the third most popular themes respectively."
   ]
  },
  {
   "cell_type": "markdown",
   "metadata": {},
   "source": [
    "## Conclusions\n",
    "\n",
    "We have gained a lot of insights from the datasets given to us. Let us summarise the most significant results in this section.\n",
    "\n",
    "1. There are around **12,500** registered users on TED.com and they have favorited their talks close to **135,000** times, with each user favoriting close to **11 talks** on average.\n",
    "2. Ken Robinson's **Do Schools Kill Creativity?** is the most favorited talk of all time.\n",
    "3. Every talk has, on average, close to a **100 comments**.\n",
    "4. There is an obvious correlation between the number of comments and the number of views.\n",
    "5. Talks on **Faith and Religion** attract a significant amount of discussion, debates and comments. Richard Dawkins' talk on **Militant Atheism** is the most commented on talk of all time, despite having only a tenth of the views of Ken Robinson's talk.\n",
    "6. **February** is the most popular month for TED Talks. **November** is the most popular month for great TEDx talks.\n",
    "7. The number of TED Talks have gradually increased since its inception to about **250 talks** being uploaded from the year 2010\n",
    "8. **Hans Rosling** is the most popular TED Speaker, with over **9 appearances**.\n",
    "9. The longest TED Talk was about **6500 words** long. The shortest TED Talk **did not have any words** at all!\n",
    "10. There is **no correlation** between the length and popularity of a TED Talk.\n",
    "11. **Ken Robinson's** talk is the most viewed talk of all time too.\n",
    "12. **Technology** is the most popular theme of TED Talks, followed by **Culture** and **Science**"
   ]
  },
  {
   "cell_type": "code",
   "execution_count": null,
   "metadata": {
    "collapsed": true
   },
   "outputs": [],
   "source": []
  }
 ],
 "metadata": {
  "kernelspec": {
   "display_name": "Python 3",
   "language": "python",
   "name": "python3"
  },
  "language_info": {
   "codemirror_mode": {
    "name": "ipython",
    "version": 3
   },
   "file_extension": ".py",
   "mimetype": "text/x-python",
   "name": "python",
   "nbconvert_exporter": "python",
   "pygments_lexer": "ipython3",
   "version": "3.6.0"
  }
 },
 "nbformat": 4,
 "nbformat_minor": 2
}
