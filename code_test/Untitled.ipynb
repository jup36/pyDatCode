{
 "cells": [
  {
   "cell_type": "code",
   "execution_count": null,
   "id": "530ca1b9-af67-41be-9661-b5688d2ad332",
   "metadata": {},
   "outputs": [],
   "source": [
    "class Solution(object):\n",
    "   def longestPalindrome(self, s):\n",
    "      dp = [[False for i in range(len(s))] for i in range(len(s))]\n",
    "      for i in range(len(s)):\n",
    "         dp[i][i] = True\n",
    "      max_length = 1\n",
    "      start = 0\n",
    "      for l in range(2,len(s)+1):\n",
    "         for i in range(len(s)-l+1):\n",
    "            end = i+l\n",
    "            if l==2:\n",
    "               if s[i] == s[end-1]:\n",
    "                  dp[i][end-1]=True\n",
    "                  max_length = l\n",
    "                  start = i\n",
    "            else:\n",
    "               if s[i] == s[end-1] and dp[i+1][end-2]:\n",
    "                  dp[i][end-1]=True\n",
    "                  max_length = l\n",
    "                  start = i\n",
    "      return s[start:start+max_length]\n",
    "ob1 = Solution()\n",
    "print(ob1.longestPalindrome(\"ABBABBC\"))"
   ]
  }
 ],
 "metadata": {
  "kernelspec": {
   "display_name": "Python 3",
   "language": "python",
   "name": "python3"
  },
  "language_info": {
   "codemirror_mode": {
    "name": "ipython",
    "version": 3
   },
   "file_extension": ".py",
   "mimetype": "text/x-python",
   "name": "python",
   "nbconvert_exporter": "python",
   "pygments_lexer": "ipython3",
   "version": "3.9.4"
  }
 },
 "nbformat": 4,
 "nbformat_minor": 5
}
