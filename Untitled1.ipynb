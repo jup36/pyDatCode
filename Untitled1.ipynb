{
 "cells": [
  {
   "cell_type": "code",
   "execution_count": 6,
   "id": "8eed505e-4af4-40f2-93e7-a77b580fac94",
   "metadata": {},
   "outputs": [],
   "source": [
    "def raise_val(n):\n",
    "    \"\"\"Return the inner function\"\"\"\n",
    "    def inner(x):\n",
    "        \"\"\"Raise x to the power of n\"\"\"\n",
    "        raised = x ** n \n",
    "        return raised\n",
    "    return inner"
   ]
  },
  {
   "cell_type": "code",
   "execution_count": null,
   "id": "5c466b6c-8aee-4e9a-bcc6-a597e39c31d6",
   "metadata": {},
   "outputs": [],
   "source": []
  }
 ],
 "metadata": {
  "kernelspec": {
   "display_name": "Python 3",
   "language": "python",
   "name": "python3"
  },
  "language_info": {
   "codemirror_mode": {
    "name": "ipython",
    "version": 3
   },
   "file_extension": ".py",
   "mimetype": "text/x-python",
   "name": "python",
   "nbconvert_exporter": "python",
   "pygments_lexer": "ipython3",
   "version": "3.9.4"
  }
 },
 "nbformat": 4,
 "nbformat_minor": 5
}
