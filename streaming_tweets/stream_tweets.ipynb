{
 "cells": [
  {
   "cell_type": "markdown",
   "id": "8ee28f44-ed21-4b97-91e2-57b5ec0f22a8",
   "metadata": {},
   "source": [
    "### Streaming with tweepy"
   ]
  },
  {
   "cell_type": "markdown",
   "id": "28c0ab82-d475-472a-bc05-7144e083c700",
   "metadata": {},
   "source": [
    "#### Import tweepy perform authentication"
   ]
  },
  {
   "cell_type": "code",
   "execution_count": 12,
   "id": "c3c735a8-b37a-4176-9ad3-082e19deedb6",
   "metadata": {},
   "outputs": [],
   "source": [
    "# Import package (https://docs.tweepy.org/en/stable/streaming_how_to.html#streaming-with-tweepy)\n",
    "import tweepy, json\n",
    "\n",
    "# Store OAuth authentication credentials in relevant variables\n",
    "access_token = \"1292818428395433987-XRtpCn7RqYQu4CQZajTjPwvgAuVlpn\" \n",
    "access_token_secret = \"bGVnhpatrtafyB9v61f39lBAb6R4hi8h2TZTYt0PivCUg\" \n",
    "consumer_key = \"r3pKB1OegbCMiQY5bWuwArgdD\" # API key\n",
    "consumer_secret = \"7EhqsT1HNmJkr6sR3QectHKIGtWOEASqH0lnVxqO2daOSvuwrW\" # API secret key\n",
    "\n",
    "# Pass OAuth details to tweepy's OAuth handler\n",
    "auth = tweepy.OAuthHandler(consumer_key, consumer_secret)\n",
    "auth.set_access_token(access_token, access_token_secret)"
   ]
  },
  {
   "cell_type": "markdown",
   "id": "7c847753-89e4-4f09-86bb-a37c3dd5316b",
   "metadata": {},
   "source": [
    "#### Create class MyStreamListener inheriting from StreamListener and overriding on_status"
   ]
  },
  {
   "cell_type": "code",
   "execution_count": 9,
   "id": "708d9f44-b84e-45ce-8301-0f647795368d",
   "metadata": {},
   "outputs": [],
   "source": [
    "class MyStreamListener (tweepy.StreamListener):\n",
    "    def __init__(self, api = None):\n",
    "        super(MyStreamListener, self).__init__() # super() enables access to methods in a superclass from the subclass\n",
    "        self.num_tweets = 0\n",
    "        self.file_name = \"tweets.txt\"\n",
    "        #self.file = open(\"tweets.txt\", \"w\")\n",
    "\n",
    "    def on_status(self, status):\n",
    "        # The on_data method of Tweepy’s StreamListener conveniently passes data from statuses to the on_status method\n",
    "        tweet = status._json\n",
    "        with open(self.file_name, 'a') as file: # open mode 'a' to open the file to append\n",
    "            file.write(json.dumps(tweet) + '\\n')\n",
    "        self.num_tweets += 1\n",
    "        if self.num_tweets < 100:\n",
    "            return True\n",
    "        else:\n",
    "            return False"
   ]
  },
  {
   "cell_type": "markdown",
   "id": "48f1c3be-bf5a-4af2-946c-2eff9a70e976",
   "metadata": {},
   "source": [
    "#### Start a stream"
   ]
  },
  {
   "cell_type": "code",
   "execution_count": 13,
   "id": "b56042ef-53df-441e-9f97-75194da61d98",
   "metadata": {},
   "outputs": [],
   "source": [
    "# Initialize Stream listener\n",
    "l = MyStreamListener()\n",
    "\n",
    "# Create your Stream object with authentication\n",
    "stream = tweepy.Stream(auth, l)\n",
    "\n",
    "# Filter Twitter Streams to capture data by the keywords:\n",
    "stream.filter(track = ['COVID-19'])"
   ]
  },
  {
   "cell_type": "markdown",
   "id": "1fd0a498-4eac-452e-9292-c2a525528cf0",
   "metadata": {},
   "source": [
    "#### Load and explore streamed tweets"
   ]
  },
  {
   "cell_type": "code",
   "execution_count": null,
   "id": "6c4b01e7-5a10-4cca-bc96-22fcd854ceba",
   "metadata": {},
   "outputs": [],
   "source": [
    "# String of path to file: tweets_data_path\n",
    "tweets_data_path = 'tweets.txt' # modify the path\n",
    "\n",
    "# Initialize empty list to store tweets: tweets_data\n",
    "tweets_data = []\n",
    "\n",
    "# Open connection to file\n",
    "tweets_file = open(tweets_data_path, \"r\")\n",
    "\n",
    "# Read in tweets and store in list: tweets_data\n",
    "for line in tweets_file:\n",
    "    tweet = json.loads(line)\n",
    "    tweets_data.append(tweet)"
   ]
  },
  {
   "cell_type": "markdown",
   "id": "574e83d8-8f42-4e37-a3cc-b4c2d799b58c",
   "metadata": {},
   "source": [
    "#### Twitter data to dataframe"
   ]
  },
  {
   "cell_type": "code",
   "execution_count": null,
   "id": "efb1efbd-b541-47ac-a5f9-962f6d416b44",
   "metadata": {},
   "outputs": [],
   "source": [
    "# Import package\n",
    "import pandas as pd\n",
    "\n",
    "# Build DataFrame of tweet texts and languages\n",
    "df = pd.DataFrame(tweets_data, columns=['text', 'lang'])\n",
    "\n",
    "# Print head of DataFrame\n",
    "print(df.head())"
   ]
  },
  {
   "cell_type": "markdown",
   "id": "69e48b35-7179-45d0-8727-e9d035c14a6b",
   "metadata": {},
   "source": [
    "#### Word count analysis: function *word_in_text*"
   ]
  },
  {
   "cell_type": "code",
   "execution_count": null,
   "id": "1534416b-9233-45c3-aeea-6b4ca27a107c",
   "metadata": {},
   "outputs": [],
   "source": [
    "import re\n",
    "\n",
    "def word_in_text(word, text):\n",
    "    word = word.lower()\n",
    "    text = text.lower()\n",
    "    match = re.search(word, text)\n",
    "\n",
    "    if match:\n",
    "        return True\n",
    "    return False"
   ]
  },
  {
   "cell_type": "markdown",
   "id": "98702003-bf0d-4afd-a135-d1b793c52f4d",
   "metadata": {},
   "source": [
    "#### Word count analysis: execute counting"
   ]
  },
  {
   "cell_type": "code",
   "execution_count": 7,
   "id": "8ff42f9d-d093-4c3f-bf38-768aafb86a00",
   "metadata": {},
   "outputs": [
    {
     "ename": "NameError",
     "evalue": "name 'df' is not defined",
     "output_type": "error",
     "traceback": [
      "\u001b[0;31m---------------------------------------------------------------------------\u001b[0m",
      "\u001b[0;31mNameError\u001b[0m                                 Traceback (most recent call last)",
      "\u001b[0;32m<ipython-input-7-5e50e431bd70>\u001b[0m in \u001b[0;36m<module>\u001b[0;34m\u001b[0m\n\u001b[1;32m      4\u001b[0m \u001b[0;31m# Iterate through df, counting the number of tweets in which\u001b[0m\u001b[0;34m\u001b[0m\u001b[0;34m\u001b[0m\u001b[0;34m\u001b[0m\u001b[0m\n\u001b[1;32m      5\u001b[0m \u001b[0;31m# each candidate is mentioned\u001b[0m\u001b[0;34m\u001b[0m\u001b[0;34m\u001b[0m\u001b[0;34m\u001b[0m\u001b[0m\n\u001b[0;32m----> 6\u001b[0;31m \u001b[0;32mfor\u001b[0m \u001b[0mindex\u001b[0m\u001b[0;34m,\u001b[0m \u001b[0mrow\u001b[0m \u001b[0;32min\u001b[0m \u001b[0mdf\u001b[0m\u001b[0;34m.\u001b[0m\u001b[0miterrows\u001b[0m\u001b[0;34m(\u001b[0m\u001b[0;34m)\u001b[0m\u001b[0;34m:\u001b[0m\u001b[0;34m\u001b[0m\u001b[0;34m\u001b[0m\u001b[0m\n\u001b[0m\u001b[1;32m      7\u001b[0m     \u001b[0mword1\u001b[0m \u001b[0;34m+=\u001b[0m \u001b[0mword_in_text\u001b[0m\u001b[0;34m(\u001b[0m\u001b[0mword1\u001b[0m\u001b[0;34m,\u001b[0m \u001b[0mrow\u001b[0m\u001b[0;34m[\u001b[0m\u001b[0;34m'text'\u001b[0m\u001b[0;34m]\u001b[0m\u001b[0;34m)\u001b[0m\u001b[0;34m\u001b[0m\u001b[0;34m\u001b[0m\u001b[0m\n\u001b[1;32m      8\u001b[0m     \u001b[0mword2\u001b[0m \u001b[0;34m+=\u001b[0m \u001b[0mword_in_text\u001b[0m\u001b[0;34m(\u001b[0m\u001b[0mword2\u001b[0m\u001b[0;34m,\u001b[0m \u001b[0mrow\u001b[0m\u001b[0;34m[\u001b[0m\u001b[0;34m'text'\u001b[0m\u001b[0;34m]\u001b[0m\u001b[0;34m)\u001b[0m\u001b[0;34m\u001b[0m\u001b[0;34m\u001b[0m\u001b[0m\n",
      "\u001b[0;31mNameError\u001b[0m: name 'df' is not defined"
     ]
    }
   ],
   "source": [
    "# Initialize list to store tweet counts\n",
    "[word1, word2, word3, word4] = [0, 0, 0, 0]\n",
    "\n",
    "# Iterate through df, counting the number of tweets in which\n",
    "# each candidate is mentioned\n",
    "for index, row in df.iterrows():\n",
    "    word1 += word_in_text(word1, row['text'])\n",
    "    word2 += word_in_text(word2, row['text'])\n",
    "    word3 += word_in_text(word3, row['text'])\n",
    "    word4 += word_in_text(word4, row['text'])"
   ]
  },
  {
   "cell_type": "code",
   "execution_count": null,
   "id": "0ddd7beb-0c1b-42e7-893e-40e70cf02cb9",
   "metadata": {},
   "outputs": [],
   "source": []
  }
 ],
 "metadata": {
  "kernelspec": {
   "display_name": "Python 3",
   "language": "python",
   "name": "python3"
  },
  "language_info": {
   "codemirror_mode": {
    "name": "ipython",
    "version": 3
   },
   "file_extension": ".py",
   "mimetype": "text/x-python",
   "name": "python",
   "nbconvert_exporter": "python",
   "pygments_lexer": "ipython3",
   "version": "3.8.10"
  }
 },
 "nbformat": 4,
 "nbformat_minor": 5
}
