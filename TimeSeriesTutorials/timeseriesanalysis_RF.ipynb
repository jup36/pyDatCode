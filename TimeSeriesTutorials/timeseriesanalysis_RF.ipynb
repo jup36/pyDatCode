{
 "cells": [
  {
   "cell_type": "markdown",
   "id": "86b44d64-5d4a-4b40-957d-6ba1bd3fdeae",
   "metadata": {},
   "source": [
    "# 1 Time Series Forecasting with Random Forest Regression"
   ]
  },
  {
   "cell_type": "markdown",
   "id": "5c8c5412-4bba-4c62-bfdf-893b1f41a0dc",
   "metadata": {},
   "source": [
    "## 1.1 Contents<a id='1.1_Contents'></a>\n",
    "* [1 Time Series Forecasting with Random Forest Regression](#1_Time_Series_Forecasting_with_Random_Forest_Regression)\n",
    "  * [1.1 Contents](#1.1_Contents)\n",
    "  * [1.2 Overview](#1.2_Overview)\n",
    "  * [1.3 Imports](#1.3_Imports)\n",
    "  * [1.4 Functions](#1.4_Functions)\n",
    "     * [1.4.1 Functions: series_to_supervised](#1.4.1_Functions:_series_to_superviesed)\n",
    "     * [1.4.2 Functions: walk_forward_validation](#1.4.2_Functions:_walk_forward_validation)\n",
    "     * [1.4.3 Functions: random_forest_forecast](#1.4.3_Functions:_random_forest_forecast)\n",
    "     * [1.4.4 Functions: train_test_split](#1.4.4_Functions:_train_test_split)\n",
    "     * [1.4.5 Functions: create_lagged_df](#1.4.5_Functions:_create_lagged_df)\n",
    "  * [1.5 Load Data](#1.5_Load_Data)\n",
    "  * [1.6 Organize Features and Targets with Lagging](#1.6_Organize_Features_and_Targets_with_Lagging) \n",
    "  * [1.7 Fit and Evaluate the Model](#1.7_Fit_and_Evaluate_the_Model)"
   ]
  },
  {
   "cell_type": "markdown",
   "id": "ae381678-0bc1-43b0-870a-1930e606a449",
   "metadata": {},
   "source": [
    "## 1.2 Overview<a id='1.2_Overview'></a>"
   ]
  },
  {
   "cell_type": "markdown",
   "id": "b8dadb46-2379-4769-99f1-1e6d66506d92",
   "metadata": {},
   "source": [
    "Add overview here!"
   ]
  },
  {
   "cell_type": "markdown",
   "id": "1f8b82f8-4337-43a2-9bc2-ce0df91b491f",
   "metadata": {},
   "source": [
    "## 1.3 Imports<a id='1.3_Imports'></a>"
   ]
  },
  {
   "cell_type": "code",
   "execution_count": 116,
   "id": "6f0fb281-f561-474c-b3d0-3497895ae009",
   "metadata": {},
   "outputs": [],
   "source": [
    "from collections import defaultdict\n",
    "from pathlib import Path\n",
    "import numpy as np\n",
    "import pandas as pd\n",
    "import seaborn as sns\n",
    "import matplotlib.pyplot as plt\n",
    "from matplotlib import cm\n",
    "import pickle\n",
    "from pathlib import Path\n",
    "from deepdiff import DeepDiff\n",
    "from pandas.tseries.holiday import USFederalHolidayCalendar as holidayCalendar\n",
    "from sklearn.metrics import mean_absolute_error\n",
    "from sklearn.ensemble import RandomForestRegressor\n",
    "%matplotlib inline"
   ]
  },
  {
   "cell_type": "markdown",
   "id": "3ace1963-4f39-48d5-8097-2c5ef27365e5",
   "metadata": {},
   "source": [
    "## 1.4 Functions<a id='1.4_Functions'></a>"
   ]
  },
  {
   "cell_type": "markdown",
   "id": "95bb3e2d-5574-4a52-9d69-2d7bc3a1189f",
   "metadata": {},
   "source": [
    "### 1.4.1 Functions: series_to_supervised<a id='1.4.1_Functions:_series_to_superviesed'></a>"
   ]
  },
  {
   "cell_type": "code",
   "execution_count": 117,
   "id": "92114e8b-20b0-4d90-a667-72ded17e9329",
   "metadata": {},
   "outputs": [],
   "source": [
    "# transform a time series dataset into a supervised learning dataset\n",
    "def series_to_supervised(data, n_in=1, n_out=1, dropnan=True):\n",
    "\t#n_vars = 1 if type(data) is list else data.shape[1]\n",
    "\tdf1 = pd.DataFrame(data)\n",
    "\tcols = list()\n",
    "\t# input sequence (t-n, ... t-1)\n",
    "\tfor i in range(n_in, 0, -1):\n",
    "\t\tcols.append(df1.shift(i))\n",
    "\t# forecast sequence (t, t+1, ... t+n)\n",
    "\tfor i in range(0, n_out):\n",
    "\t\tcols.append(df1.shift(-i))\n",
    "\t# put it all together\n",
    "\tagg = pd.concat(cols, axis=1)\n",
    "\t# drop rows with NaN values\n",
    "\tif dropnan:\n",
    "\t\tagg.dropna(inplace=True)\n",
    "\treturn agg.values"
   ]
  },
  {
   "cell_type": "markdown",
   "id": "c61ae6cd-86a4-4c06-9e49-71a79253207a",
   "metadata": {},
   "source": [
    "### 1.4.2 Functions: walk_forward_validation<a id='1.4.2_Functions:_walk_forward_validation'></a>"
   ]
  },
  {
   "cell_type": "code",
   "execution_count": 118,
   "id": "0859c7ae-1ab6-4d2e-ba16-61f5ed81b48c",
   "metadata": {},
   "outputs": [],
   "source": [
    "def walk_forward_validation(data, n_test, n_out=1):\n",
    "    predictions = list()\n",
    "\t# split dataset\n",
    "    train, test = train_test_split(data, n_test) # np arrays\n",
    "\t# seed history with training dataset\n",
    "    history = [x for x in train] # array to list (why list? Easier to append?)\n",
    "\t# step over each time-step in the test set\n",
    "    for i in range(len(test)):\n",
    "\t\t# split test row into input and output columns\n",
    "        testX, testy = test[i, :-n_out], test[i, -n_out:]\n",
    "\t\t# fit model on history and make a prediction\n",
    "        yhat, modelRF = random_forest_forecast(history, testX, n_out)\n",
    "\t\t# store forecast in list of predictions\n",
    "        predictions.append(yhat)\n",
    "\t\t# add actual observation to history for the next loop\n",
    "        history.append(test[i])\n",
    "\t\t# summarize progress\n",
    "        print('>expected=%.1f, predicted=%.1f' % (np.mean(testy), np.mean(yhat)))\t\n",
    "    # estimate prediction error\n",
    "    error = mean_absolute_error(test[:, -n_out:], predictions)\n",
    "    return error, test[:, -n_out:], predictions, modelRF"
   ]
  },
  {
   "cell_type": "markdown",
   "id": "77f53113-99d2-4d32-9433-abf9aeb7aca4",
   "metadata": {},
   "source": [
    "### 1.4.3 Functions: random_forest_forecast<a id='1.4.3_Functions:_random_forest_forecast'></a>"
   ]
  },
  {
   "cell_type": "code",
   "execution_count": 119,
   "id": "ab0f6c53-6c02-4547-8635-a31f9e461929",
   "metadata": {},
   "outputs": [],
   "source": [
    "# fit an random forest model and make a one step prediction\n",
    "def random_forest_forecast(train, testX, n_out=1):\n",
    "\t# transform list into array\n",
    "\ttrain = np.asarray(train)\n",
    "\t# split into input and output columns\n",
    "\ttrainX, trainy = train[:, :-n_out], train[:, -n_out:]\n",
    "\t# fit model\n",
    "\tmodel = RandomForestRegressor(n_estimators=1000)\n",
    "\tmodel.fit(trainX, trainy)\n",
    "\t# make a one-step prediction\n",
    "\tyhat = model.predict([testX])\n",
    "\treturn yhat[0], model"
   ]
  },
  {
   "cell_type": "markdown",
   "id": "0f915140-aba7-47aa-8624-a7a5b611f43a",
   "metadata": {},
   "source": [
    "### 1.4.4 Functions: train_test_split<a id='1.4.4_Functions:_train_test_split'></a>"
   ]
  },
  {
   "cell_type": "code",
   "execution_count": 120,
   "id": "72f8b716-a6d5-4e79-a423-afd0b75bffb6",
   "metadata": {},
   "outputs": [],
   "source": [
    "def train_test_split(data, n_test):\n",
    "    return data[:-n_test,:], data[-n_test:,:]"
   ]
  },
  {
   "cell_type": "markdown",
   "id": "c52f0cf5-7ca3-4500-8c1d-040f6223f022",
   "metadata": {},
   "source": [
    "### 1.4.5 Functions: create_lagged_df<a id='1.4.5_Functions:_create_lagged_df'></a>"
   ]
  },
  {
   "cell_type": "code",
   "execution_count": 122,
   "id": "e74ac416-b504-4c70-8e64-ad47e5cb7d47",
   "metadata": {},
   "outputs": [],
   "source": [
    "def create_lagged_df(dataframeToLag, n_in=1, n_out=1, dropnan=False):\n",
    "    dataframeToLag = pd.DataFrame(dataframeToLag)\n",
    "    df_lagged = pd.DataFrame()\n",
    "    df_lagged['date'] = dataframeToLag.index\n",
    "    for col in dataframeToLag.columns:\n",
    "        lag_arr = series_to_supervised(dataframeToLag[col], n_in, n_out, dropnan=False)\n",
    "        lag_columns = [(col+'_'+str(lag)) for lag in range(n_in,-n_out,-1)]\n",
    "        for lag in range(0,n_in+n_out):\n",
    "            df_lagged[lag_columns[lag]]=lag_arr[:,lag]\n",
    "    df_lagged.set_index('date', inplace=True)\n",
    "    return df_lagged"
   ]
  },
  {
   "cell_type": "markdown",
   "id": "ef808a86-4f33-4479-8029-95b1e8f604c1",
   "metadata": {},
   "source": [
    "## 1.5 Load Data<a id='1.5_Load_Data'></a>"
   ]
  },
  {
   "cell_type": "code",
   "execution_count": 138,
   "id": "fad3e685-244d-4b55-87cd-f478b1ec712f",
   "metadata": {},
   "outputs": [],
   "source": [
    "# load the saved dictionary from pickle file\n",
    "filePath_pickle = Path('/Users/parkj/Documents/pyDat/dataSet/covid_countryData.pickle')\n",
    "pickle_in = open(filePath_pickle, 'rb')\n",
    "country_dict = pickle.load(pickle_in)\n",
    "df = country_dict['United States']"
   ]
  },
  {
   "cell_type": "markdown",
   "id": "a908efd4-51d5-4982-af4b-c37852bcf863",
   "metadata": {},
   "source": [
    "## 1.6 Organize Features and Targets with Lagging<a id='1.6_Organize_Features_and_Targets_with_Lagging'></a>"
   ]
  },
  {
   "cell_type": "code",
   "execution_count": null,
   "id": "7b04f051-12fc-4a8b-883c-c10fbb83c890",
   "metadata": {},
   "outputs": [],
   "source": [
    "# time series features \n",
    "features_lag = ['rtrc', 'grph', 'prks', 'tran', 'work', 'resi', 'vac']\n",
    "# create a dataframe with lagged features (mobility and vaccination data) \n",
    "df_feat_lag = create_lagged_df(df.loc[:,features_lag], n_in=7, n_out=0, dropnan=False)\n",
    "# create a dataframe with lagged target (case)\n",
    "df_targ_lag = create_lagged_df(df.case_mil_percMax, n_in=7, n_out=2, dropnan=False)\n",
    "# join the feature and target data frames \n",
    "df_feat_targ = df_feat_lag.join(df_targ_lag, on='date', how='left')\n",
    "# drop NaNs\n",
    "df_feat_targ.dropna(inplace=True)"
   ]
  },
  {
   "cell_type": "markdown",
   "id": "8b8af4ca-ef79-4338-9ddd-7bb524f60c15",
   "metadata": {},
   "source": [
    "## 1.7 Fit and Evaluate the Model<a id='1.7_Fit_and_Evaluate_the_Model'></a>"
   ]
  },
  {
   "cell_type": "code",
   "execution_count": 175,
   "id": "21ea000e-7bcd-43e5-9f9c-74597af518e0",
   "metadata": {},
   "outputs": [
    {
     "name": "stdout",
     "output_type": "stream",
     "text": [
      ">expected=6.0, predicted=7.4\n",
      ">expected=6.0, predicted=7.1\n",
      ">expected=5.1, predicted=6.5\n",
      ">expected=3.2, predicted=7.1\n",
      ">expected=3.5, predicted=6.6\n",
      ">expected=4.7, predicted=5.2\n",
      ">expected=5.3, predicted=6.0\n",
      ">expected=5.5, predicted=5.5\n",
      ">expected=6.5, predicted=6.0\n",
      ">expected=5.5, predicted=4.8\n"
     ]
    },
    {
     "data": {
      "image/png": "[encoded data removed]",
      "text/plain": [
       "<Figure size 432x288 with 1 Axes>"
      ]
     },
     "metadata": {
      "needs_background": "light"
     },
     "output_type": "display_data"
    }
   ],
   "source": [
    "# evaluate\n",
    "error, y, yhat, modelRF = walk_forward_validation(data, n_test=10, n_out=2) # n_test = 100\n",
    "# plot expected vs predicted\n",
    "plt.plot(y, label='Expected')\n",
    "plt.plot(yhat, label='Predicted')\n",
    "plt.legend()\n",
    "plt.show()"
   ]
  },
  {
   "cell_type": "code",
   "execution_count": null,
   "id": "d2b7d727-809e-481d-b05f-e0882b4e2f2e",
   "metadata": {},
   "outputs": [],
   "source": []
  }
 ],
 "metadata": {
  "kernelspec": {
   "display_name": "Python 3",
   "language": "python",
   "name": "python3"
  },
  "language_info": {
   "codemirror_mode": {
    "name": "ipython",
    "version": 3
   },
   "file_extension": ".py",
   "mimetype": "text/x-python",
   "name": "python",
   "nbconvert_exporter": "python",
   "pygments_lexer": "ipython3",
   "version": "3.8.10"
  }
 },
 "nbformat": 4,
 "nbformat_minor": 5
}
