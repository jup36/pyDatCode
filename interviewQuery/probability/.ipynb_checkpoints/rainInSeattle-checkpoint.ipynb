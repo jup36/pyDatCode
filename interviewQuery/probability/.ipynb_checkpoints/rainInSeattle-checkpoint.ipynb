{
 "cells": [
  {
   "cell_type": "code",
   "execution_count": 6,
   "id": "c7214089-5de2-4376-847f-038098d1979d",
   "metadata": {},
   "outputs": [
    {
     "name": "stdout",
     "output_type": "stream",
     "text": [
      "0.8888888888888888\n",
      "0.8888888888888888\n"
     ]
    }
   ],
   "source": [
    "'''\n",
    "You are about to get on a plane to Seattle. \n",
    "You want to know if you should bring an umbrella. \n",
    "You call 3 random friends of yours who live there and ask each independently if it's raining. \n",
    "Each of your friends has a 2/3 chance of telling you the truth and a 1/3 chance of messing with you by lying. \n",
    "All 3 friends tell you that \"Yes\" it is raining.\n",
    "\n",
    "What is the probability that it's actually raining in Seattle?\n",
    "'''\n",
    "# Approach 1: solve using the Bayes theorem: pRainGivenRRR = (pRRRGivenRain*pRain)/pRRR\n",
    "pRain = 0.5 # not given, make assumption\n",
    "# likelihood\n",
    "pRRRGivenRain = (2/3)**3\n",
    "# marginal likelihood (pRRR)\n",
    "pTTTgivenRain = (2/3)**3*pRain # p(friends all true when raining)\n",
    "pLLLgivenNotRain = (1/3)**3*(1-pRain) # p(frineds all lying when not raining)\n",
    "pRRR = pTTTgivenRain+pLLLgivenNotRain\n",
    "# pRRRGivenRain = pTTTGivenRain + pLLLGivenRain\n",
    "print((pRRRGivenRain*pRain)/pRRR)\n",
    "\n",
    "# Approach 2: solve using the consensus probatility \n",
    "# P(consensus) = P( all lies) + P(all truth)\n",
    "# P(all truth)/ P(consensus) \n",
    "pConsensus = (2/3)**3+(1/3)**3\n",
    "print((2/3)**3/pConsensus) "
   ]
  },
  {
   "cell_type": "code",
   "execution_count": 5,
   "id": "f0b5c57d-98f5-45e7-83d7-2f7cacef5954",
   "metadata": {},
   "outputs": [
    {
     "data": {
      "text/plain": [
       "0.33333333333333326"
      ]
     },
     "execution_count": 5,
     "metadata": {},
     "output_type": "execute_result"
    }
   ],
   "source": [
    "pConsensus"
   ]
  },
  {
   "cell_type": "code",
   "execution_count": null,
   "id": "b35162f1-c546-4890-91fa-8630d6bf4d56",
   "metadata": {},
   "outputs": [],
   "source": []
  }
 ],
 "metadata": {
  "kernelspec": {
   "display_name": "Python 3",
   "language": "python",
   "name": "python3"
  },
  "language_info": {
   "codemirror_mode": {
    "name": "ipython",
    "version": 3
   },
   "file_extension": ".py",
   "mimetype": "text/x-python",
   "name": "python",
   "nbconvert_exporter": "python",
   "pygments_lexer": "ipython3",
   "version": "3.8.5"
  }
 },
 "nbformat": 4,
 "nbformat_minor": 5
}
