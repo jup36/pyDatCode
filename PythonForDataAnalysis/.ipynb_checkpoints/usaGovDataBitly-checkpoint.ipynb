{
 "cells": [
  {
   "cell_type": "code",
   "execution_count": 2,
   "id": "0fdc8656-1d14-4f32-96b4-689c22f86b0d",
   "metadata": {},
   "outputs": [
    {
     "data": {
      "text/plain": [
       "'{ \"a\": \"Mozilla\\\\/5.0 (Windows NT 6.1; WOW64) AppleWebKit\\\\/535.11 (KHTML, like Gecko) Chrome\\\\/17.0.963.78 Safari\\\\/535.11\", \"c\": \"US\", \"nk\": 1, \"tz\": \"America\\\\/New_York\", \"gr\": \"MA\", \"g\": \"A6qOVH\", \"h\": \"wfLQtf\", \"l\": \"orofrog\", \"al\": \"en-US,en;q=0.8\", \"hh\": \"1.usa.gov\", \"r\": \"http:\\\\/\\\\/www.facebook.com\\\\/l\\\\/7AQEFzjSi\\\\/1.usa.gov\\\\/wfLQtf\", \"u\": \"http:\\\\/\\\\/www.ncbi.nlm.nih.gov\\\\/pubmed\\\\/22415991\", \"t\": 1331923247, \"hc\": 1331822918, \"cy\": \"Danvers\", \"ll\": [ 42.576698, -70.954903 ] }\\n'"
      ]
     },
     "execution_count": 2,
     "metadata": {},
     "output_type": "execute_result"
    }
   ],
   "source": [
    "path = '/Users/parkj/Documents/pyDat/dataSet/usagov_bitly/usagov_bitly_data2012-03-16-1331923249'\n",
    "open(path).readline()"
   ]
  },
  {
   "cell_type": "code",
   "execution_count": 3,
   "id": "9be40c4f-1816-49d5-b3d8-dc0d25228857",
   "metadata": {},
   "outputs": [],
   "source": [
    "import json\n",
    "path = '/Users/parkj/Documents/pyDat/dataSet/usagov_bitly/usagov_bitly_data2012-03-16-1331923249'\n",
    "records = [json.loads(line) for line in open(path,'rb')] # records is a list of dictionaries\n",
    "#records1 = [line for line in open(path,'rb')] # records is a list of dictionaries\n",
    "# len(records)\n",
    "# records[0]\n",
    "# records[0][\"tz\"]"
   ]
  },
  {
   "cell_type": "code",
   "execution_count": 4,
   "id": "5a32177f-5197-462b-bf2f-fbe6208fe360",
   "metadata": {},
   "outputs": [
    {
     "name": "stdout",
     "output_type": "stream",
     "text": [
      "{'a': 'Mozilla/5.0 (Windows NT 6.1; WOW64) AppleWebKit/535.11 (KHTML, like Gecko) Chrome/17.0.963.78 Safari/535.11', 'c': 'US', 'nk': 1, 'tz': 'America/New_York', 'gr': 'MA', 'g': 'A6qOVH', 'h': 'wfLQtf', 'l': 'orofrog', 'al': 'en-US,en;q=0.8', 'hh': '1.usa.gov', 'r': 'http://www.facebook.com/l/7AQEFzjSi/1.usa.gov/wfLQtf', 'u': 'http://www.ncbi.nlm.nih.gov/pubmed/22415991', 't': 1331923247, 'hc': 1331822918, 'cy': 'Danvers', 'll': [42.576698, -70.954903]}\n"
     ]
    }
   ],
   "source": [
    "print(records[0]) "
   ]
  },
  {
   "cell_type": "code",
   "execution_count": 5,
   "id": "5d2b5670-740b-4671-a2fb-071eed07c415",
   "metadata": {},
   "outputs": [],
   "source": [
    "time_zones = [rec['tz'] for rec in records if 'tz' in rec] # records is a list of dictionaries"
   ]
  },
  {
   "cell_type": "code",
   "execution_count": 6,
   "id": "de363d22-138c-474d-a160-e43c19040f50",
   "metadata": {},
   "outputs": [],
   "source": [
    "# count time-zone appearances using the dictionary with iteration through the list\n",
    "def get_counts(sequence):\n",
    "    counts = {} # initialize dictionary\n",
    "    for x in sequence: # in the dict counts 'x (time zone)' is the key\n",
    "        if x in counts:\n",
    "            counts[x] += 1 # for each key 'x' add up the value (the count)\n",
    "        else:\n",
    "            counts[x] = 1  # at first encounter set to 1\n",
    "    return counts"
   ]
  },
  {
   "cell_type": "code",
   "execution_count": 7,
   "id": "8371d445-7785-4647-a906-6c01abd6fa79",
   "metadata": {},
   "outputs": [],
   "source": [
    "# count time-zones a bit simpler \n",
    "from collections import defaultdict\n",
    "\n",
    "def get_counts2(sequence):\n",
    "    counts = defaultdict(int) # values will initialize to 0\n",
    "    for x in sequence: # in the dict counts 'x (time zone)' is the key\n",
    "        counts[x] += 1 # for each key 'x' update the value (the count)\n",
    "    return counts"
   ]
  },
  {
   "cell_type": "code",
   "execution_count": 8,
   "id": "9313a571-76e1-484a-a44d-35421da73700",
   "metadata": {},
   "outputs": [],
   "source": [
    "# top ten time zones\n",
    "def top_counts(count_dict, n=10):\n",
    "    value_key_pairs = [(count,tz) for tz, count in count_dict.items()] # store each pair as a tuple\n",
    "    value_key_pairs.sort()\n",
    "    return value_key_pairs[-n:]"
   ]
  },
  {
   "cell_type": "code",
   "execution_count": 9,
   "id": "e88b9413-d2b2-478f-9bf5-fa6ba0861eef",
   "metadata": {},
   "outputs": [],
   "source": [
    "# top ten time zones\n",
    "count_tz = get_counts2(time_zones)\n",
    "top10Tz = top_counts(count_tz) # a list of tuples\n",
    "#top10Tz[0]"
   ]
  },
  {
   "cell_type": "code",
   "execution_count": 10,
   "id": "f9ed9b2e-5e7f-4f5a-afef-bcd863685250",
   "metadata": {},
   "outputs": [
    {
     "data": {
      "text/plain": [
       "[('America/New_York', 1251),\n",
       " ('', 521),\n",
       " ('America/Chicago', 400),\n",
       " ('America/Los_Angeles', 382),\n",
       " ('America/Denver', 191),\n",
       " ('Europe/London', 74),\n",
       " ('Asia/Tokyo', 37),\n",
       " ('Pacific/Honolulu', 36),\n",
       " ('Europe/Madrid', 35),\n",
       " ('America/Sao_Paulo', 33)]"
      ]
     },
     "execution_count": 10,
     "metadata": {},
     "output_type": "execute_result"
    }
   ],
   "source": [
    "# Simpler version of top ten time zones\n",
    "from collections import Counter\n",
    "counts = Counter(time_zones)\n",
    "counts.most_common(10)"
   ]
  },
  {
   "cell_type": "code",
   "execution_count": 17,
   "id": "eb2d8638-40aa-45ab-b973-31e404656f0d",
   "metadata": {},
   "outputs": [],
   "source": [
    "# Counting time zones with pandas\n",
    "from pandas import DataFrame, Series\n",
    "import pandas as pd\n",
    "frame = DataFrame(records) # convert to pandas data frame\n",
    "tz_counts = frame['tz'].value_counts()"
   ]
  },
  {
   "cell_type": "code",
   "execution_count": 30,
   "id": "7879d09c-fb11-4463-94be-50943e6a0c4f",
   "metadata": {},
   "outputs": [
    {
     "data": {
      "text/plain": [
       "America/New_York       1251\n",
       "Unknown                 521\n",
       "America/Chicago         400\n",
       "America/Los_Angeles     382\n",
       "America/Denver          191\n",
       "Missing                 120\n",
       "Europe/London            74\n",
       "Asia/Tokyo               37\n",
       "Pacific/Honolulu         36\n",
       "Europe/Madrid            35\n",
       "Name: tz, dtype: int64"
      ]
     },
     "execution_count": 30,
     "metadata": {},
     "output_type": "execute_result"
    }
   ],
   "source": [
    "# Preprocessing for plotting\n",
    "clean_tz = frame['tz'].fillna('Missing') # convert N.A. to 'Missing'\n",
    "clean_tz[clean_tz == ''] = 'Unknown'  # convert empty values to 'Unknown'\n",
    "tz_counts = clean_tz.value_counts()\n",
    "tz_counts[:10]"
   ]
  },
  {
   "cell_type": "code",
   "execution_count": 31,
   "id": "bd154aff-ecc3-4632-90a1-a109439cfac7",
   "metadata": {},
   "outputs": [
    {
     "data": {
      "text/plain": [
       "<AxesSubplot:>"
      ]
     },
     "execution_count": 31,
     "metadata": {},
     "output_type": "execute_result"
    },
    {
     "data": {
      "image/png": "[encoded data removed]",
      "text/plain": [
       "<Figure size 432x288 with 1 Axes>"
      ]
     },
     "metadata": {
      "needs_background": "light"
     },
     "output_type": "display_data"
    }
   ],
   "source": [
    "# Make a horizontal barplot\n",
    "tz_counts[:10].plot(kind='barh', rot=0) # plot the top 10 time zones"
   ]
  },
  {
   "cell_type": "code",
   "execution_count": 61,
   "id": "cb63ace0-3878-4e84-b01d-bc4d012ee17c",
   "metadata": {},
   "outputs": [],
   "source": [
    "# Parse browser information 1\n",
    "import numpy as np\n",
    "frame['a'][:5]\n",
    "browser = Series([x.split()[0] for x in frame.a.dropna()]) # get browser info \n",
    "cframe = frame[frame.a.notnull()] # exclude data points without an agent info\n",
    "os = np.where(cframe['a'].str.contains('Windows'), 'Windows', 'Not Windows') # Where True, yield x, otherwise yield y."
   ]
  },
  {
   "cell_type": "code",
   "execution_count": 125,
   "id": "a927dc41-82a5-47be-b24d-96cc88dde937",
   "metadata": {},
   "outputs": [
    {
     "data": {
      "text/plain": [
       "<pandas.core.groupby.generic.DataFrameGroupBy object at 0x121aee1f0>"
      ]
     },
     "execution_count": 125,
     "metadata": {},
     "output_type": "execute_result"
    }
   ],
   "source": [
    "# Parse browser information 2\n",
    "by_tz_os = cframe.groupby(['tz', os])"
   ]
  },
  {
   "cell_type": "code",
   "execution_count": 141,
   "id": "04946011-d9c8-471e-94fd-31a2574a09c5",
   "metadata": {},
   "outputs": [],
   "source": [
    "# Browser info of top 10 time zones\n",
    "agg_counts = by_tz_os.size().unstack().fillna(0)\n",
    "# Use to sort in ascending order\n",
    "indexer = agg_counts.sum(1).argsort() # agg_counts.sum(1).sort_values()\n",
    "count_subset = agg_counts.take(indexer)[-10:]"
   ]
  },
  {
   "cell_type": "code",
   "execution_count": 142,
   "id": "6c0d54ac-ac87-40f0-b568-a179b8af989e",
   "metadata": {},
   "outputs": [
    {
     "data": {
      "text/html": [
       "<div>\n",
       "<style scoped>\n",
       "    .dataframe tbody tr th:only-of-type {\n",
       "        vertical-align: middle;\n",
       "    }\n",
       "\n",
       "    .dataframe tbody tr th {\n",
       "        vertical-align: top;\n",
       "    }\n",
       "\n",
       "    .dataframe thead th {\n",
       "        text-align: right;\n",
       "    }\n",
       "</style>\n",
       "<table border=\"1\" class=\"dataframe\">\n",
       "  <thead>\n",
       "    <tr style=\"text-align: right;\">\n",
       "      <th></th>\n",
       "      <th>Not Windows</th>\n",
       "      <th>Windows</th>\n",
       "    </tr>\n",
       "    <tr>\n",
       "      <th>tz</th>\n",
       "      <th></th>\n",
       "      <th></th>\n",
       "    </tr>\n",
       "  </thead>\n",
       "  <tbody>\n",
       "    <tr>\n",
       "      <th>America/Sao_Paulo</th>\n",
       "      <td>13.0</td>\n",
       "      <td>20.0</td>\n",
       "    </tr>\n",
       "    <tr>\n",
       "      <th>Europe/Madrid</th>\n",
       "      <td>16.0</td>\n",
       "      <td>19.0</td>\n",
       "    </tr>\n",
       "    <tr>\n",
       "      <th>Pacific/Honolulu</th>\n",
       "      <td>0.0</td>\n",
       "      <td>36.0</td>\n",
       "    </tr>\n",
       "    <tr>\n",
       "      <th>Asia/Tokyo</th>\n",
       "      <td>2.0</td>\n",
       "      <td>35.0</td>\n",
       "    </tr>\n",
       "    <tr>\n",
       "      <th>Europe/London</th>\n",
       "      <td>43.0</td>\n",
       "      <td>31.0</td>\n",
       "    </tr>\n",
       "    <tr>\n",
       "      <th>America/Denver</th>\n",
       "      <td>132.0</td>\n",
       "      <td>59.0</td>\n",
       "    </tr>\n",
       "    <tr>\n",
       "      <th>America/Los_Angeles</th>\n",
       "      <td>130.0</td>\n",
       "      <td>252.0</td>\n",
       "    </tr>\n",
       "    <tr>\n",
       "      <th>America/Chicago</th>\n",
       "      <td>115.0</td>\n",
       "      <td>285.0</td>\n",
       "    </tr>\n",
       "    <tr>\n",
       "      <th></th>\n",
       "      <td>245.0</td>\n",
       "      <td>276.0</td>\n",
       "    </tr>\n",
       "    <tr>\n",
       "      <th>America/New_York</th>\n",
       "      <td>339.0</td>\n",
       "      <td>912.0</td>\n",
       "    </tr>\n",
       "  </tbody>\n",
       "</table>\n",
       "</div>"
      ],
      "text/plain": [
       "                     Not Windows  Windows\n",
       "tz                                       \n",
       "America/Sao_Paulo           13.0     20.0\n",
       "Europe/Madrid               16.0     19.0\n",
       "Pacific/Honolulu             0.0     36.0\n",
       "Asia/Tokyo                   2.0     35.0\n",
       "Europe/London               43.0     31.0\n",
       "America/Denver             132.0     59.0\n",
       "America/Los_Angeles        130.0    252.0\n",
       "America/Chicago            115.0    285.0\n",
       "                           245.0    276.0\n",
       "America/New_York           339.0    912.0"
      ]
     },
     "execution_count": 142,
     "metadata": {},
     "output_type": "execute_result"
    }
   ],
   "source": []
  },
  {
   "cell_type": "code",
   "execution_count": 108,
   "id": "cf1ea82f-ed27-45c1-ba3c-ea324bed004b",
   "metadata": {},
   "outputs": [
    {
     "data": {
      "text/plain": [
       "tz\n",
       "                       24\n",
       "Africa/Cairo           20\n",
       "Africa/Casablanca      21\n",
       "Africa/Ceuta           92\n",
       "Africa/Johannesburg    87\n",
       "                       ..\n",
       "Europe/Paris           19\n",
       "Europe/Prague          64\n",
       "Europe/Riga            32\n",
       "Europe/Rome            85\n",
       "Europe/Skopje          67\n",
       "Length: 87, dtype: int64"
      ]
     },
     "execution_count": 108,
     "metadata": {},
     "output_type": "execute_result"
    }
   ],
   "source": []
  },
  {
   "cell_type": "code",
   "execution_count": 95,
   "id": "320ecf2b-f592-4055-aeda-7c04dd6e6f44",
   "metadata": {},
   "outputs": [
    {
     "name": "stdout",
     "output_type": "stream",
     "text": [
      "Coca Cola    34\n",
      "Sprite        5\n",
      "Coke         13\n",
      "Fanta        32\n",
      "Dew           4\n",
      "ThumbsUp     15\n",
      "dtype: int64\n",
      "Coca Cola    4\n",
      "Sprite       1\n",
      "Coke         2\n",
      "Fanta        5\n",
      "Dew          3\n",
      "ThumbsUp     0\n",
      "dtype: int64\n",
      "Dew           4\n",
      "Sprite        5\n",
      "Coke         13\n",
      "ThumbsUp     15\n",
      "Fanta        32\n",
      "Coca Cola    34\n",
      "dtype: int64\n"
     ]
    }
   ],
   "source": [
    "# Create the series\n",
    "sr = pd.Series([34, 5, 13, 32, 4, 15])\n",
    "# Create the index\n",
    "index_ = ['Coca Cola', 'Sprite', 'Coke', 'Fanta', 'Dew', 'ThumbsUp']\n",
    "# set the index \n",
    "sr.index = index_\n",
    "print(sr)\n",
    "result = sr.argsort()\n",
    "print(result)\n",
    "print(sr[result])"
   ]
  },
  {
   "cell_type": "code",
   "execution_count": 99,
   "id": "10e7e1b8-b2fd-485a-8244-a01c5e40dbd2",
   "metadata": {},
   "outputs": [
    {
     "data": {
      "text/plain": [
       "Coca Cola    34\n",
       "Sprite        5\n",
       "Coke         13\n",
       "Fanta        32\n",
       "Dew           4\n",
       "ThumbsUp     15\n",
       "dtype: int64"
      ]
     },
     "execution_count": 99,
     "metadata": {},
     "output_type": "execute_result"
    }
   ],
   "source": [
    "sr"
   ]
  },
  {
   "cell_type": "code",
   "execution_count": null,
   "id": "72d64ccc-da9a-40df-ad00-47e4625006ef",
   "metadata": {},
   "outputs": [],
   "source": []
  }
 ],
 "metadata": {
  "kernelspec": {
   "display_name": "Python 3",
   "language": "python",
   "name": "python3"
  },
  "language_info": {
   "codemirror_mode": {
    "name": "ipython",
    "version": 3
   },
   "file_extension": ".py",
   "mimetype": "text/x-python",
   "name": "python",
   "nbconvert_exporter": "python",
   "pygments_lexer": "ipython3",
   "version": "3.8.5"
  }
 },
 "nbformat": 4,
 "nbformat_minor": 5
}
