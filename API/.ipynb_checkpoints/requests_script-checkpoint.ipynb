{
 "cells": [
  {
   "cell_type": "code",
   "execution_count": 1,
   "id": "8749ce06-01d8-4b9d-96d5-823cf4d07448",
   "metadata": {},
   "outputs": [
    {
     "name": "stdout",
     "output_type": "stream",
     "text": [
      "<Response [200]>\n"
     ]
    }
   ],
   "source": [
    "import requests\n",
    "res = requests.get('https://scotch.io')\n",
    "print(res)"
   ]
  },
  {
   "cell_type": "code",
   "execution_count": 4,
   "id": "dc87f725-0554-475c-a198-599fa84e8061",
   "metadata": {},
   "outputs": [
    {
     "name": "stdout",
     "output_type": "stream",
     "text": [
      "Response OK\n"
     ]
    }
   ],
   "source": [
    "if res:\n",
    "    print('Response OK')\n",
    "else:\n",
    "    print('Response Failed')"
   ]
  },
  {
   "cell_type": "code",
   "execution_count": null,
   "id": "fbe9e72f-0256-4902-8932-2f0fc652c721",
   "metadata": {},
   "outputs": [],
   "source": []
  }
 ],
 "metadata": {
  "kernelspec": {
   "display_name": "Python 3.8 (XPython)",
   "language": "python",
   "name": "xpython"
  },
  "language_info": {
   "file_extension": ".py",
   "mimetype": "text/x-python",
   "name": "python",
   "version": "3.8.10"
  }
 },
 "nbformat": 4,
 "nbformat_minor": 5
}
