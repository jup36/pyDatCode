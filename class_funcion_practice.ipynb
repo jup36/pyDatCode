{
 "cells": [
  {
   "cell_type": "code",
   "execution_count": 1,
   "id": "8805acf0-0764-4b3b-9864-c9e31f933950",
   "metadata": {},
   "outputs": [],
   "source": [
    "class Dog:\n",
    "    kind = 'canine'    \n",
    "    def __init__(self,name):\n",
    "        self.name = name"
   ]
  },
  {
   "cell_type": "code",
   "execution_count": 78,
   "id": "434b9348-dfdc-4adf-9d5b-371894ffd055",
   "metadata": {},
   "outputs": [],
   "source": [
    "class Dog:\n",
    "    def __init__(self, name):\n",
    "        self.name = name\n",
    "        self.tricks = [] # creates a new empty list for each dog\n",
    "    def add_trick(self, trick):\n",
    "        self.tricks.append(trick)"
   ]
  },
  {
   "cell_type": "code",
   "execution_count": 44,
   "id": "13d2aa6c-eea7-4661-a604-bf5be6a5bf4a",
   "metadata": {},
   "outputs": [
    {
     "data": {
      "text/plain": [
       "'bts'"
      ]
     },
     "execution_count": 44,
     "metadata": {},
     "output_type": "execute_result"
    }
   ],
   "source": [
    "class Dog: \n",
    "    def __init__(self, name):\n",
    "        self.name = name\n",
    "    def bark(self):\n",
    "        return \"bark bark bark bark bark...\"\n",
    "d = Dog('bts')\n",
    "d.bark()\n",
    "d.name"
   ]
  },
  {
   "cell_type": "code",
   "execution_count": 64,
   "id": "14d11f03-7371-4659-8b05-4ab6d2b18313",
   "metadata": {},
   "outputs": [],
   "source": [
    "def f1(self, x, y):\n",
    "    return min(x, x+y)"
   ]
  },
  {
   "cell_type": "code",
   "execution_count": 65,
   "id": "046cc105-0464-4ec1-bf9b-668859fb0532",
   "metadata": {},
   "outputs": [],
   "source": [
    "class C:\n",
    "    f = f1\n",
    "    def g(self):\n",
    "        return 'hello world'\n",
    "    h = g"
   ]
  },
  {
   "cell_type": "code",
   "execution_count": 62,
   "id": "b35e5c89-140c-4fa5-944f-ccbacf21d026",
   "metadata": {},
   "outputs": [
    {
     "data": {
      "text/plain": [
       "'hello world'"
      ]
     },
     "execution_count": 62,
     "metadata": {},
     "output_type": "execute_result"
    }
   ],
   "source": [
    "C.h('what')"
   ]
  },
  {
   "cell_type": "code",
   "execution_count": 66,
   "id": "395dc685-b53d-4ff8-aa41-7de8154cf728",
   "metadata": {},
   "outputs": [
    {
     "data": {
      "text/plain": [
       "0"
      ]
     },
     "execution_count": 66,
     "metadata": {},
     "output_type": "execute_result"
    }
   ],
   "source": [
    "C.f('min', 1, -1)"
   ]
  },
  {
   "cell_type": "code",
   "execution_count": 68,
   "id": "98157b8a-0246-46b5-b923-d6c2a9db4499",
   "metadata": {},
   "outputs": [
    {
     "name": "stdout",
     "output_type": "stream",
     "text": [
      "158\n"
     ]
    }
   ],
   "source": [
    "def add_many(*args):\n",
    "    s = 0 \n",
    "    for n in args:\n",
    "        s += n\n",
    "    print(s)\n",
    "add_many(100, 50, 8)"
   ]
  },
  {
   "cell_type": "code",
   "execution_count": 73,
   "id": "36a23b4d-be4a-4b83-ab73-35b5ce87d49c",
   "metadata": {},
   "outputs": [],
   "source": [
    "def kwargdict(**kargs):\n",
    "    for k, v in kargs.items():\n",
    "        print(k + \": \" + v)"
   ]
  },
  {
   "cell_type": "code",
   "execution_count": 75,
   "id": "35978908-d545-4ace-825d-cc9425f5e1c5",
   "metadata": {},
   "outputs": [
    {
     "name": "stdout",
     "output_type": "stream",
     "text": [
      "name: Junchol\n",
      "age: 39\n",
      "occupation: NaN\n"
     ]
    }
   ],
   "source": [
    "kwargdict(name='Junchol', age='39', occupation='NaN')"
   ]
  },
  {
   "cell_type": "code",
   "execution_count": 9,
   "id": "180e9f02-5041-4ce4-aa8b-6c0c1c6e3e27",
   "metadata": {},
   "outputs": [],
   "source": [
    "df = pd.DataFrame(np.random.randn(5,3), index=[\"a\", \"c\", \"e\", \"f\", \"h\"], columns=[\"one\", \"two\", \"three\"])"
   ]
  },
  {
   "cell_type": "code",
   "execution_count": 19,
   "id": "c2ea77bc-02ae-4941-8cbe-d8a9d17cf9e0",
   "metadata": {},
   "outputs": [],
   "source": [
    "df[\"four\"] = \"bar\""
   ]
  },
  {
   "cell_type": "code",
   "execution_count": 21,
   "id": "b59ed67c-5b03-475f-91f3-188780c7ad48",
   "metadata": {},
   "outputs": [],
   "source": [
    "df[\"five\"] = df[\"one\"] > 0"
   ]
  },
  {
   "cell_type": "code",
   "execution_count": 24,
   "id": "9915a7b6-5ef8-4959-8d54-a40f296dcd66",
   "metadata": {},
   "outputs": [],
   "source": [
    "df2 = df.reindex([\"a\", \"b\", \"c\", \"d\", \"e\", \"f\", \"g\", \"h\"])"
   ]
  },
  {
   "cell_type": "code",
   "execution_count": 8,
   "id": "1df0d399-bef0-44f6-9601-e2b1b352c2f0",
   "metadata": {},
   "outputs": [],
   "source": [
    "import pandas as pd\n",
    "import numpy as np\n",
    "keys=['a','b','c','d','e']\n",
    "A=pd.DataFrame(np.random.randn(10, 5),columns=['a', 'b', 'c', 'd', 'e'])\n",
    "\n",
    "DICT_MAP={}\n",
    "for key in keys:\n",
    "    DICT_MAP[key]=pd.Series(A[key])"
   ]
  },
  {
   "cell_type": "code",
   "execution_count": 18,
   "id": "6b6b5787-7932-4be7-9fb3-4e07e29c90d0",
   "metadata": {},
   "outputs": [],
   "source": [
    "from pathlib import Path\n",
    "from pathlib import PurePath"
   ]
  },
  {
   "cell_type": "code",
   "execution_count": 11,
   "id": "082ab484-cb28-47d4-a6ac-9bb977f751a7",
   "metadata": {},
   "outputs": [],
   "source": [
    "p = Path('.')"
   ]
  },
  {
   "cell_type": "code",
   "execution_count": 12,
   "id": "a2ef104f-6750-41e3-92ab-f7689bb0fa06",
   "metadata": {},
   "outputs": [
    {
     "data": {
      "text/plain": [
       "PosixPath('.')"
      ]
     },
     "execution_count": 12,
     "metadata": {},
     "output_type": "execute_result"
    }
   ],
   "source": [
    "p"
   ]
  },
  {
   "cell_type": "code",
   "execution_count": 13,
   "id": "a733449b-3368-4d91-b436-79f9b97912c3",
   "metadata": {},
   "outputs": [
    {
     "data": {
      "text/plain": [
       "[PosixPath('covid19'),\n",
       " PosixPath('TimeSeriesCourse'),\n",
       " PosixPath('interviewQuery'),\n",
       " PosixPath('__pycache__'),\n",
       " PosixPath('PythonForDataAnalysis'),\n",
       " PosixPath('KagglePractice'),\n",
       " PosixPath('.ipynb_checkpoints'),\n",
       " PosixPath('.git')]"
      ]
     },
     "execution_count": 13,
     "metadata": {},
     "output_type": "execute_result"
    }
   ],
   "source": [
    "[x for x in p.iterdir() if x.is_dir()]"
   ]
  },
  {
   "cell_type": "code",
   "execution_count": 27,
   "id": "1c54cbc8-23ff-4d4d-869d-5facad3fe9cd",
   "metadata": {},
   "outputs": [
    {
     "data": {
      "text/plain": [
       "PurePosixPath('fibo.py')"
      ]
     },
     "execution_count": 27,
     "metadata": {},
     "output_type": "execute_result"
    }
   ],
   "source": [
    "PurePath('fibo.py')"
   ]
  },
  {
   "cell_type": "code",
   "execution_count": 1,
   "id": "37ff2025-4e01-4c99-b41a-2317c834d8da",
   "metadata": {},
   "outputs": [],
   "source": [
    "# import packages\n",
    "import pandas as pd\n",
    "import numpy as np\n",
    "import pickle\n",
    "import os\n",
    "from deepdiff import DeepDiff\n",
    "\n",
    "# create dictionary of dataframes\n",
    "nrows, ncols, ndataframes = 1_000, 50, 100\n",
    "my_dict = {k:v for (k,v) in [[f'df_{n}', pd.DataFrame(np.random.rand(nrows, ncols))] for n in range(ndataframes)]}"
   ]
  },
  {
   "cell_type": "code",
   "execution_count": null,
   "id": "ef827dce-2d10-4a2a-b52e-a843e1d84574",
   "metadata": {},
   "outputs": [],
   "source": [
    "# save dictionary as pickle file\n",
    "pickle_out = open('my_dict.pickle', 'wb')\n",
    "pickle.dump(my_dict, pickle_out)\n",
    "pickle_out.close()\n",
    "\n",
    "# create new dictionary from pickle file\n",
    "pickle_in = open('my_dict.pickle', 'rb')\n",
    "new_dict = pickle.load(pickle_in)\n",
    "#diff = DeepDiff(my_dict, new_dict) # note that '==' does not work to compare the two dictionaries here! Use DeepDiff instead\n",
    "#diff\n",
    "\n",
    "# print file size\n",
    "print('File size pickle file is', round(os.path.getsize('my_dict.pickle') / (1024**2), 1), 'MB')\n",
    "\n",
    "# sample\n",
    "new_dict['df_10'].iloc[:5, :5]"
   ]
  },
  {
   "cell_type": "code",
   "execution_count": null,
   "id": "1d2c26f1-dada-408c-b51c-5b1dbe132b62",
   "metadata": {},
   "outputs": [],
   "source": []
  }
 ],
 "metadata": {
  "kernelspec": {
   "display_name": "Python 3",
   "language": "python",
   "name": "python3"
  },
  "language_info": {
   "codemirror_mode": {
    "name": "ipython",
    "version": 3
   },
   "file_extension": ".py",
   "mimetype": "text/x-python",
   "name": "python",
   "nbconvert_exporter": "python",
   "pygments_lexer": "ipython3",
   "version": "3.8.10"
  }
 },
 "nbformat": 4,
 "nbformat_minor": 5
}
