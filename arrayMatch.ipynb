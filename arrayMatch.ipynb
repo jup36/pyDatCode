{
 "cells": [
  {
   "cell_type": "code",
   "execution_count": 1,
   "id": "c3c1bd86-ba28-43d4-854b-4201d9059819",
   "metadata": {},
   "outputs": [
    {
     "name": "stdin",
     "output_type": "stream",
     "text": [
      " 3 4 15 7 8 9\n",
      " 4 4 3 8 7 9\n"
     ]
    },
    {
     "name": "stdout",
     "output_type": "stream",
     "text": [
      "2\n"
     ]
    }
   ],
   "source": [
    "    import numpy as np\n",
    "    x = input()\n",
    "    y = input()\n",
    "    xx = np.array(str.split(x))\n",
    "    yy = np.array(str.split(y))\n",
    "    n = min(len(xx), len(yy))\n",
    "    out_idx = np.flatnonzero(xx[:n] == yy[:n])\n",
    "    out_val = xx[out_idx]\n",
    "    print(len(np.unique(out_val)))"
   ]
  },
  {
   "cell_type": "code",
   "execution_count": null,
   "id": "88643ea4-d9c3-41f3-8298-13410658eab8",
   "metadata": {},
   "outputs": [],
   "source": []
  }
 ],
 "metadata": {
  "kernelspec": {
   "display_name": "Python 3",
   "language": "python",
   "name": "python3"
  },
  "language_info": {
   "codemirror_mode": {
    "name": "ipython",
    "version": 3
   },
   "file_extension": ".py",
   "mimetype": "text/x-python",
   "name": "python",
   "nbconvert_exporter": "python",
   "pygments_lexer": "ipython3",
   "version": "3.8.8"
  }
 },
 "nbformat": 4,
 "nbformat_minor": 5
}
