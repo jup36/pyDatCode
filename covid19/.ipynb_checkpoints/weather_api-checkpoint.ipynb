{
 "cells": [
  {
   "cell_type": "code",
   "execution_count": 6,
   "id": "278d6b35-ac0d-4a22-8c4a-0d4aa36482b2",
   "metadata": {},
   "outputs": [],
   "source": [
    "from wwo_hist import retrieve_hist_data\n",
    "import os"
   ]
  },
  {
   "cell_type": "code",
   "execution_count": 3,
   "id": "cd416257-c749-4726-913d-ef8468756b44",
   "metadata": {},
   "outputs": [
    {
     "ename": "SyntaxError",
     "evalue": "non-default argument follows default argument (<ipython-input-3-f2ba50f774c3>, line 1)",
     "output_type": "error",
     "traceback": [
      "\u001b[0;36m  File \u001b[0;32m\"<ipython-input-3-f2ba50f774c3>\"\u001b[0;36m, line \u001b[0;32m1\u001b[0m\n\u001b[0;31m    def retrieve_weather(frequency=24, start_date, end_date, location_list)\u001b[0m\n\u001b[0m                                                   ^\u001b[0m\n\u001b[0;31mSyntaxError\u001b[0m\u001b[0;31m:\u001b[0m non-default argument follows default argument\n"
     ]
    }
   ],
   "source": [
    "def retrieve_weather(location_list, start_date, end_date, frequency=24):\n",
    "    os.chdir('/Users/parkj/Documents/pyDat/dataSet/weather')\n",
    "    api_key = 'eeb17eb9993a4b48af7192328212209' # note that this key expires on 11/21/21\n",
    "    hist_weather_data = retrieve_hist_data(api_key, \n",
    "                                           location_list, \n",
    "                                           start_date,\n",
    "                                           end_date,\n",
    "                                           frequency, \n",
    "                                           location_label = False, \n",
    "                                           export_csv = True,\n",
    "                                           store_df = True)                                \n",
    "    return hist_weather_data"
   ]
  },
  {
   "cell_type": "code",
   "execution_count": null,
   "id": "cfd78a18-3e9d-4db6-9479-044b06ff48da",
   "metadata": {},
   "outputs": [],
   "source": []
  }
 ],
 "metadata": {
  "kernelspec": {
   "display_name": "Python 3",
   "language": "python",
   "name": "python3"
  },
  "language_info": {
   "codemirror_mode": {
    "name": "ipython",
    "version": 3
   },
   "file_extension": ".py",
   "mimetype": "text/x-python",
   "name": "python",
   "nbconvert_exporter": "python",
   "pygments_lexer": "ipython3",
   "version": "3.9.6"
  }
 },
 "nbformat": 4,
 "nbformat_minor": 5
}
