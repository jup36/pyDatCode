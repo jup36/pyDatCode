{
 "cells": [
  {
   "cell_type": "markdown",
   "id": "3b46e110-952d-4d0f-915f-f89cd51eadc5",
   "metadata": {},
   "source": [
    "# 1 Time Series 7-Day Forecasting with multi-layer perceptron<a id='1_time_series_7-day_forecasting_with_mlp'></a>"
   ]
  },
  {
   "cell_type": "markdown",
   "id": "98193852-5de8-4969-9063-43fff59372ce",
   "metadata": {},
   "source": [
    "## 1.1 Contents<a id='1.1_contents'></a>\n",
    "* [1 Covid-19 Data Collection and Wrangling](#1_data_collection_wrangling)\n",
    "  * [1.1 Contents](#1.1_contents)  \n",
    "  * [1.2 Imports](#1.2_imports)\n",
    "  * [1.3 Functions](#1.3_functions)\n",
    "      * [1.3.1 Function: ](#1.3.1_)"
   ]
  },
  {
   "cell_type": "code",
   "execution_count": null,
   "id": "3d8e919e-7f9d-4b3d-9c26-e468d0581e90",
   "metadata": {},
   "outputs": [],
   "source": []
  }
 ],
 "metadata": {
  "kernelspec": {
   "display_name": "Python 3",
   "language": "python",
   "name": "python3"
  },
  "language_info": {
   "codemirror_mode": {
    "name": "ipython",
    "version": 3
   },
   "file_extension": ".py",
   "mimetype": "text/x-python",
   "name": "python",
   "nbconvert_exporter": "python",
   "pygments_lexer": "ipython3",
   "version": "3.9.6"
  }
 },
 "nbformat": 4,
 "nbformat_minor": 5
}
