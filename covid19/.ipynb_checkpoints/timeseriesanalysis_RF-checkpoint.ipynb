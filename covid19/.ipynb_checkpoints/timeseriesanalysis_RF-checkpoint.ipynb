{
 "cells": [
  {
   "cell_type": "markdown",
   "id": "86b44d64-5d4a-4b40-957d-6ba1bd3fdeae",
   "metadata": {},
   "source": [
    "# 1 Time Series Forecasting with Random Forest Regression"
   ]
  },
  {
   "cell_type": "markdown",
   "id": "5c8c5412-4bba-4c62-bfdf-893b1f41a0dc",
   "metadata": {},
   "source": [
    "## 1.1 Contents<a id='1.1_Contents'></a>\n",
    "* [1 Time Series Forecasting with Random Forest Regression](#1_Time_Series_Forecasting_with_Random_Forest_Regression)\n",
    "  * [1.1 Contents](#1.1_Contents)\n",
    "  * [1.2 Overview](#1.2_Overview)\n",
    "  * [1.3 Imports](#1.3_Imports)\n",
    "  * [1.4 Functions](#1.4_Functions)\n",
    "     * [1.4.1 Functions: series_to_supervised](#1.4.1_Functions:_series_to_superviesed)\n",
    "     * [1.4.2 Functions: walk_forward_validation](#1.4.2_Functions:_walk_forward_validation)\n",
    "     * [1.4.3 Functions: random_forest_forecast](#1.4.3_Functions:_random_forest_forecast)\n",
    "     * [1.4.4 Functions: train_test_split](#1.4.4_Functions:_train_test_split)\n",
    "     * [1.4.5 Functions: create_lagged_df](#1.4.5_Functions:_create_lagged_df)\n",
    "  * [1.5 Load Data](#1.5_Load_Data)\n",
    "  * [1.6 Organize Features and Targets with Lagging](#1.6_Organize_Features_and_Targets_with_Lagging) \n",
    "  * [1.7 Fit and Evaluate the Model](#1.7_Fit_and_Evaluate_the_Model)\n",
    "  * [1.8 Visualize Model Performance](#1.8_Visualize_Model_Performance)\n",
    "  * [1.9 Save the Model](#1.9_Save_the_Model)"
   ]
  },
  {
   "cell_type": "markdown",
   "id": "ae381678-0bc1-43b0-870a-1930e606a449",
   "metadata": {},
   "source": [
    "## 1.2 Overview<a id='1.2_Overview'></a>"
   ]
  },
  {
   "cell_type": "markdown",
   "id": "b8dadb46-2379-4769-99f1-1e6d66506d92",
   "metadata": {},
   "source": [
    "Add overview here!"
   ]
  },
  {
   "cell_type": "markdown",
   "id": "1f8b82f8-4337-43a2-9bc2-ce0df91b491f",
   "metadata": {},
   "source": [
    "## 1.3 Imports<a id='1.3_Imports'></a>"
   ]
  },
  {
   "cell_type": "code",
   "execution_count": 10,
   "id": "6f0fb281-f561-474c-b3d0-3497895ae009",
   "metadata": {},
   "outputs": [],
   "source": [
    "from collections import defaultdict\n",
    "from pathlib import Path\n",
    "import os\n",
    "import numpy as np\n",
    "import pandas as pd\n",
    "import seaborn as sns\n",
    "import matplotlib.pyplot as plt\n",
    "import pickle\n",
    "import graphviz\n",
    "from pathlib import Path\n",
    "from deepdiff import DeepDiff\n",
    "from pandas.tseries.holiday import USFederalHolidayCalendar as holidayCalendar\n",
    "from sklearn.metrics import mean_absolute_error\n",
    "from sklearn.ensemble import RandomForestRegressor\n",
    "from sklearn.tree import export_graphviz\n",
    "%matplotlib inline\n",
    "\n",
    "# Set Matplotlib defaults\n",
    "plt.style.use(\"seaborn-whitegrid\")\n",
    "plt.rc(\"figure\", autolayout=True, figsize=(11, 5))\n",
    "plt.rc(\n",
    "    \"axes\",\n",
    "    labelweight=\"bold\",\n",
    "    labelsize=\"large\",\n",
    "    titleweight=\"bold\",\n",
    "    titlesize=14,\n",
    "    titlepad=10,\n",
    ")\n",
    "plot_params = dict(\n",
    "    color=\"0.75\",\n",
    "    style=\".-\",\n",
    "    markeredgecolor=\"0.25\",\n",
    "    markerfacecolor=\"0.25\",\n",
    ")"
   ]
  },
  {
   "cell_type": "markdown",
   "id": "3ace1963-4f39-48d5-8097-2c5ef27365e5",
   "metadata": {},
   "source": [
    "## 1.4 Functions<a id='1.4_Functions'></a>"
   ]
  },
  {
   "cell_type": "markdown",
   "id": "95bb3e2d-5574-4a52-9d69-2d7bc3a1189f",
   "metadata": {},
   "source": [
    "### 1.4.1 Functions: series_to_supervised<a id='1.4.1_Functions:_series_to_superviesed'></a>"
   ]
  },
  {
   "cell_type": "code",
   "execution_count": 117,
   "id": "92114e8b-20b0-4d90-a667-72ded17e9329",
   "metadata": {},
   "outputs": [],
   "source": [
    "# transform a time series dataset into a supervised learning dataset\n",
    "def series_to_supervised(data, n_in=1, n_out=1, dropnan=True):\n",
    "\t#n_vars = 1 if type(data) is list else data.shape[1]\n",
    "\tdf1 = pd.DataFrame(data)\n",
    "\tcols = list()\n",
    "\t# input sequence (t-n, ... t-1)\n",
    "\tfor i in range(n_in, 0, -1):\n",
    "\t\tcols.append(df1.shift(i))\n",
    "\t# forecast sequence (t, t+1, ... t+n)\n",
    "\tfor i in range(0, n_out):\n",
    "\t\tcols.append(df1.shift(-i))\n",
    "\t# put it all together\n",
    "\tagg = pd.concat(cols, axis=1)\n",
    "\t# drop rows with NaN values\n",
    "\tif dropnan:\n",
    "\t\tagg.dropna(inplace=True)\n",
    "\treturn agg.values"
   ]
  },
  {
   "cell_type": "markdown",
   "id": "c61ae6cd-86a4-4c06-9e49-71a79253207a",
   "metadata": {},
   "source": [
    "### 1.4.2 Functions: walk_forward_validation<a id='1.4.2_Functions:_walk_forward_validation'></a>"
   ]
  },
  {
   "cell_type": "code",
   "execution_count": 118,
   "id": "0859c7ae-1ab6-4d2e-ba16-61f5ed81b48c",
   "metadata": {},
   "outputs": [],
   "source": [
    "def walk_forward_validation(data, n_test, n_out=1):\n",
    "    predictions = list()\n",
    "\t# split dataset\n",
    "    train, test = train_test_split(data, n_test) # np arrays\n",
    "\t# seed history with training dataset\n",
    "    history = [x for x in train] # array to list (why list? Easier to append?)\n",
    "\t# step over each time-step in the test set\n",
    "    for i in range(len(test)):\n",
    "\t\t# split test row into input and output columns\n",
    "        testX, testy = test[i, :-n_out], test[i, -n_out:]\n",
    "\t\t# fit model on history and make a prediction\n",
    "        yhat, modelRF = random_forest_forecast(history, testX, n_out)\n",
    "\t\t# store forecast in list of predictions\n",
    "        predictions.append(yhat)\n",
    "\t\t# add actual observation to history for the next loop\n",
    "        history.append(test[i])\n",
    "\t\t# summarize progress\n",
    "        print('>expected=%.1f, predicted=%.1f' % (np.mean(testy), np.mean(yhat)))\t\n",
    "    # estimate prediction error\n",
    "    error = mean_absolute_error(test[:, -n_out:], predictions)\n",
    "    return error, test[:, -n_out:], predictions, modelRF"
   ]
  },
  {
   "cell_type": "markdown",
   "id": "77f53113-99d2-4d32-9433-abf9aeb7aca4",
   "metadata": {},
   "source": [
    "### 1.4.3 Functions: random_forest_forecast<a id='1.4.3_Functions:_random_forest_forecast'></a>"
   ]
  },
  {
   "cell_type": "code",
   "execution_count": 119,
   "id": "ab0f6c53-6c02-4547-8635-a31f9e461929",
   "metadata": {},
   "outputs": [],
   "source": [
    "# fit an random forest model and make a one step prediction\n",
    "def random_forest_forecast(train, testX, n_out=1):\n",
    "\t# transform list into array\n",
    "\ttrain = np.asarray(train)\n",
    "\t# split into input and output columns\n",
    "\ttrainX, trainy = train[:, :-n_out], train[:, -n_out:]\n",
    "\t# fit model\n",
    "\tmodel = RandomForestRegressor(n_estimators=1000)\n",
    "\tmodel.fit(trainX, trainy)\n",
    "\t# make a one-step prediction\n",
    "\tyhat = model.predict([testX])\n",
    "\treturn yhat[0], model"
   ]
  },
  {
   "cell_type": "markdown",
   "id": "0f915140-aba7-47aa-8624-a7a5b611f43a",
   "metadata": {},
   "source": [
    "### 1.4.4 Functions: train_test_split<a id='1.4.4_Functions:_train_test_split'></a>"
   ]
  },
  {
   "cell_type": "code",
   "execution_count": 120,
   "id": "72f8b716-a6d5-4e79-a423-afd0b75bffb6",
   "metadata": {},
   "outputs": [],
   "source": [
    "def train_test_split(data, n_test):\n",
    "    return data[:-n_test,:], data[-n_test:,:]"
   ]
  },
  {
   "cell_type": "markdown",
   "id": "c52f0cf5-7ca3-4500-8c1d-040f6223f022",
   "metadata": {},
   "source": [
    "### 1.4.5 Functions: create_lagged_df<a id='1.4.5_Functions:_create_lagged_df'></a>"
   ]
  },
  {
   "cell_type": "code",
   "execution_count": 122,
   "id": "e74ac416-b504-4c70-8e64-ad47e5cb7d47",
   "metadata": {},
   "outputs": [],
   "source": [
    "def create_lagged_df(dataframeToLag, n_in=1, n_out=1, dropnan=False):\n",
    "    dataframeToLag = pd.DataFrame(dataframeToLag)\n",
    "    df_lagged = pd.DataFrame()\n",
    "    df_lagged['date'] = dataframeToLag.index\n",
    "    for col in dataframeToLag.columns:\n",
    "        lag_arr = series_to_supervised(dataframeToLag[col], n_in, n_out, dropnan=False)\n",
    "        lag_columns = [(col+'_'+str(lag)) for lag in range(n_in,-n_out,-1)]\n",
    "        for lag in range(0,n_in+n_out):\n",
    "            df_lagged[lag_columns[lag]]=lag_arr[:,lag]\n",
    "    df_lagged.set_index('date', inplace=True)\n",
    "    return df_lagged"
   ]
  },
  {
   "cell_type": "markdown",
   "id": "ef808a86-4f33-4479-8029-95b1e8f604c1",
   "metadata": {},
   "source": [
    "## 1.5 Load Data<a id='1.5_Load_Data'></a>"
   ]
  },
  {
   "cell_type": "code",
   "execution_count": 138,
   "id": "fad3e685-244d-4b55-87cd-f478b1ec712f",
   "metadata": {},
   "outputs": [],
   "source": [
    "# load the saved dictionary from pickle file\n",
    "filePath_pickle = Path('/Users/parkj/Documents/pyDat/dataSet/covid_countryData.pickle')\n",
    "pickle_in = open(filePath_pickle, 'rb')\n",
    "country_dict = pickle.load(pickle_in)\n",
    "df = country_dict['United States']"
   ]
  },
  {
   "cell_type": "markdown",
   "id": "a908efd4-51d5-4982-af4b-c37852bcf863",
   "metadata": {},
   "source": [
    "## 1.6 Organize Features and Targets with Lagging<a id='1.6_Organize_Features_and_Targets_with_Lagging'></a>"
   ]
  },
  {
   "cell_type": "code",
   "execution_count": 143,
   "id": "7b04f051-12fc-4a8b-883c-c10fbb83c890",
   "metadata": {},
   "outputs": [],
   "source": [
    "# time series features \n",
    "features_lag = ['rtrc', 'grph', 'prks', 'tran', 'work', 'resi', 'vac', 'dayow']\n",
    "# create a dataframe with lagged features (mobility and vaccination data) \n",
    "df_feat_lag = create_lagged_df(df.loc[:,features_lag], n_in=7, n_out=0, dropnan=False)\n",
    "# create a dataframe with lagged target (case)\n",
    "df_targ_lag = create_lagged_df(df.case_mil_percMax, n_in=7, n_out=2, dropnan=False)\n",
    "# join the feature and target data frames \n",
    "df_feat_targ = df_feat_lag.join(df_targ_lag, on='date', how='left')\n",
    "# drop NaNs\n",
    "df_feat_targ.dropna(inplace=True)"
   ]
  },
  {
   "cell_type": "markdown",
   "id": "8b8af4ca-ef79-4338-9ddd-7bb524f60c15",
   "metadata": {},
   "source": [
    "## 1.7 Fit and Evaluate the Model<a id='1.7_Fit_and_Evaluate_the_Model'></a>"
   ]
  },
  {
   "cell_type": "code",
   "execution_count": 153,
   "id": "21ea000e-7bcd-43e5-9f9c-74597af518e0",
   "metadata": {},
   "outputs": [
    {
     "data": {
      "image/png": "[encoded data removed]",
      "text/plain": [
       "<Figure size 432x288 with 1 Axes>"
      ]
     },
     "metadata": {
      "needs_background": "light"
     },
     "output_type": "display_data"
    }
   ],
   "source": [
    "# evaluate\n",
    "error, y, yhat, modelRF = walk_forward_validation(df_feat_targ.values, n_test=100, n_out=2) # n_test = 100\n",
    "# plot expected vs predicted\n",
    "plt.plot(y, label='Expected')\n",
    "plt.plot(yhat, label='Predicted')\n",
    "plt.legend()\n",
    "plt.show()\n",
    "#modelRF.feature_importances_[:-7]"
   ]
  },
  {
   "cell_type": "markdown",
   "id": "c242a300-fb50-481d-822b-5c269478c5d0",
   "metadata": {},
   "source": [
    "## 1.8 Visualize Model Performance<a id='1.8_Visualize_Model_Performance'></a>"
   ]
  },
  {
   "cell_type": "code",
   "execution_count": null,
   "id": "512d5538-5537-48e9-b565-bcb6ed24bb9f",
   "metadata": {},
   "outputs": [],
   "source": []
  },
  {
   "cell_type": "markdown",
   "id": "8382c82c-34c9-40db-9828-645182cc8094",
   "metadata": {},
   "source": [
    "## 1.9 Save the Model<a id='1.9_Save_the_Model'></a>"
   ]
  },
  {
   "cell_type": "code",
   "execution_count": 172,
   "id": "412fd029-8a35-480f-a2e3-c5beac5ad8dc",
   "metadata": {},
   "outputs": [],
   "source": [
    "# save the model\n",
    "filePath_pickle = Path('/Users/parkj/Documents/pyDat/pyDatCode/covid19/covid19_case_timeSeries_modelRF.pkl')\n",
    "pickle_out = open(filePath_pickle, 'wb') # open to write binary\n",
    "pickle.dump(modelRF, pickle_out)\n",
    "pickle_out.close()"
   ]
  },
  {
   "cell_type": "code",
   "execution_count": 13,
   "id": "3663202c-d906-40b6-bc7f-4fcf39e88ba1",
   "metadata": {},
   "outputs": [],
   "source": [
    "# load the model\n",
    "filePath_pickle = Path('/Users/parkj/Documents/pyDat/pyDatCode/covid19/covid19_case_timeSeries_modelRF.pkl')\n",
    "pickle_in = open(filePath_pickle, 'rb') # open to read binary\n",
    "modelRF = pickle.load(pickle_in)\n",
    "pickle_in.close()"
   ]
  },
  {
   "cell_type": "code",
   "execution_count": 15,
   "id": "6d605b54-a365-4616-b026-8f1d66d2d223",
   "metadata": {
    "tags": []
   },
   "outputs": [
    {
     "ename": "NameError",
     "evalue": "name 'df_feat_targ' is not defined",
     "output_type": "error",
     "traceback": [
      "\u001b[0;31m---------------------------------------------------------------------------\u001b[0m",
      "\u001b[0;31mNameError\u001b[0m                                 Traceback (most recent call last)",
      "\u001b[0;32m<ipython-input-15-06505d690679>\u001b[0m in \u001b[0;36m<module>\u001b[0;34m\u001b[0m\n\u001b[1;32m      1\u001b[0m \u001b[0;31m# visualize a decision tree of the random forest using 'export_graphviz' and 'graphviz'\u001b[0m\u001b[0;34m\u001b[0m\u001b[0;34m\u001b[0m\u001b[0;34m\u001b[0m\u001b[0m\n\u001b[1;32m      2\u001b[0m tree_data = export_graphviz(modelRF.estimators_[0], \n\u001b[0;32m----> 3\u001b[0;31m                            \u001b[0mfeature_names\u001b[0m\u001b[0;34m=\u001b[0m\u001b[0mlist\u001b[0m\u001b[0;34m(\u001b[0m\u001b[0mdf_feat_targ\u001b[0m\u001b[0;34m.\u001b[0m\u001b[0mcolumns\u001b[0m\u001b[0;34m[\u001b[0m\u001b[0;34m:\u001b[0m\u001b[0;34m-\u001b[0m\u001b[0;36m2\u001b[0m\u001b[0;34m]\u001b[0m\u001b[0;34m)\u001b[0m\u001b[0;34m,\u001b[0m\u001b[0;34m\u001b[0m\u001b[0;34m\u001b[0m\u001b[0m\n\u001b[0m\u001b[1;32m      4\u001b[0m                            \u001b[0mfilled\u001b[0m\u001b[0;34m=\u001b[0m\u001b[0;32mTrue\u001b[0m\u001b[0;34m,\u001b[0m \u001b[0mimpurity\u001b[0m\u001b[0;34m=\u001b[0m\u001b[0;32mTrue\u001b[0m\u001b[0;34m,\u001b[0m\u001b[0;34m\u001b[0m\u001b[0;34m\u001b[0m\u001b[0m\n\u001b[1;32m      5\u001b[0m                            rounded=True)\n",
      "\u001b[0;31mNameError\u001b[0m: name 'df_feat_targ' is not defined"
     ]
    }
   ],
   "source": [
    "# visualize a decision tree of the random forest using 'export_graphviz' and 'graphviz'\n",
    "tree_data = export_graphviz(modelRF.estimators_[0], \n",
    "                           feature_names=list(df_feat_targ.columns[:-2]),\n",
    "                           filled=True, impurity=True, \n",
    "                           rounded=True)\n",
    "graph = graphviz.Source(tree_data, format='pdf')\n",
    "# render and save the figure \n",
    "graph.render('/Users/parkj/Documents/pyDat/pyDatCode/covid19/modelRF_exampleTree', view=True) "
   ]
  },
  {
   "cell_type": "code",
   "execution_count": 14,
   "id": "0df9f4f7-cb28-422d-8c2d-b2ee22198760",
   "metadata": {},
   "outputs": [
    {
     "data": {
      "text/plain": [
       "RandomForestRegressor(n_estimators=1000)"
      ]
     },
     "execution_count": 14,
     "metadata": {},
     "output_type": "execute_result"
    }
   ],
   "source": [
    "modelRF"
   ]
  },
  {
   "cell_type": "code",
   "execution_count": null,
   "id": "151dd2a5-1d39-4665-bc2f-0379552697fa",
   "metadata": {},
   "outputs": [],
   "source": []
  }
 ],
 "metadata": {
  "kernelspec": {
   "display_name": "Python 3",
   "language": "python",
   "name": "python3"
  },
  "language_info": {
   "codemirror_mode": {
    "name": "ipython",
    "version": 3
   },
   "file_extension": ".py",
   "mimetype": "text/x-python",
   "name": "python",
   "nbconvert_exporter": "python",
   "pygments_lexer": "ipython3",
   "version": "3.8.10"
  }
 },
 "nbformat": 4,
 "nbformat_minor": 5
}
