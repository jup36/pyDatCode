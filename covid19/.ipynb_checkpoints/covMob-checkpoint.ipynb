{
 "cells": [
  {
   "cell_type": "code",
   "execution_count": 187,
   "id": "970472e3-316b-43c9-a7d1-4d81a6d72368",
   "metadata": {},
   "outputs": [],
   "source": [
    "from collections import defaultdict\n",
    "from pathlib import Path\n",
    "import numpy as np\n",
    "import pandas as pd\n",
    "import seaborn as sns\n",
    "import matplotlib.pyplot as plt\n",
    "import pickle\n",
    "from pathlib import Path\n",
    "from deepdiff import DeepDiff\n",
    "%matplotlib inline"
   ]
  },
  {
   "cell_type": "code",
   "execution_count": 152,
   "id": "70e09a13-9549-48e8-b97e-b7b8d0322410",
   "metadata": {},
   "outputs": [],
   "source": [
    "# load mobility data\n",
    "df_mob = pd.read_csv('/Users/parkj/Documents/pyDat/dataSet/COVID19_community_mobility_reports/Global_Mobility_Report_asof052021.csv', low_memory=False)\n",
    "# load new cases data \n",
    "df_case = pd.read_csv('/Users/parkj/Documents/pyDat/dataSet/covid_19_data_OWID/covid-19-data-master/public/data/jhu/new_cases_per_million.csv', low_memory=False)\n",
    "# load vaccination data \n",
    "df_vac = pd.read_csv('/Users/parkj/Documents/pyDat/dataSet/covid_19_data_OWID/covid-19-data-master/public/data/vaccinations/vaccinations.csv', low_memory=False)"
   ]
  },
  {
   "cell_type": "code",
   "execution_count": 153,
   "id": "2fd8714d-8112-4843-bc7d-3e946486ee19",
   "metadata": {},
   "outputs": [],
   "source": [
    "# Rename the mobility time series column names\n",
    "df_mob = df_mob.rename(columns = {'retail_and_recreation_percent_change_from_baseline': 'rtrc', \n",
    "                                  'grocery_and_pharmacy_percent_change_from_baseline': 'grph',\n",
    "                                  'parks_percent_change_from_baseline': 'prks',\n",
    "                                  'transit_stations_percent_change_from_baseline': 'tran', \n",
    "                                  'workplaces_percent_change_from_baseline': 'work',\n",
    "                                  'residential_percent_change_from_baseline': 'resi'}, inplace = False)"
   ]
  },
  {
   "cell_type": "code",
   "execution_count": 8,
   "id": "af28783d-19d2-40fa-808f-b14e7bb2cc0b",
   "metadata": {},
   "outputs": [],
   "source": [
    "def matchDate(refDate,dateList):\n",
    "    \"\"\"This is a helper function to align two sets of dates\"\"\"\n",
    "    rL = list(refDate) \n",
    "    dL = list(dateList)\n",
    "    \n",
    "    dL_I = []\n",
    "    rL_I = []\n",
    "    for i in dL:\n",
    "        if i in rL:\n",
    "            dL_I.append(i) # just get the dates per se \n",
    "            rL_I.append(i)\n",
    "            #dL_I.append(dL.index(i))\n",
    "            #rL_I.append(rL.index(i))\n",
    "    return rL_I, dL_I   "
   ]
  },
  {
   "cell_type": "code",
   "execution_count": 161,
   "id": "37d772f4-99a7-4b85-9be7-00c247ac10db",
   "metadata": {},
   "outputs": [],
   "source": [
    "# organize data in Global Mobility Report \n",
    "places_id = df_mob.place_id.unique() # unique place ids\n",
    "grouped = df_mob.groupby(df_mob.place_id)\n",
    "dict_country = {} # country dict to contain the national-level data (ignore local regions)\n",
    "country_label = defaultdict(list)\n",
    "for place in places_id:\n",
    "    if pd.isna(place)==False:\n",
    "        df_place = grouped.get_group(place).set_index(\"date\") # DataFrame per place\n",
    "        countryId = df_place[\"country_region\"].unique()[0]            \n",
    "        if countryId not in country_label.keys(): # 1st occurrence of country contains national data\n",
    "            # vaccination data\n",
    "            df_place[\"vac\"]=np.nan\n",
    "            if countryId in set(df_vac[\"location\"]):\n",
    "                df_place_vac = df_vac.loc[df_vac[\"location\"]==countryId].set_index(\"date\")    \n",
    "                mobI, vacI = matchDate(df_place.index,df_place_vac.index) # match dates   \n",
    "                df_place.loc[mobI,\"vac\"] = df_place_vac.loc[vacI,\"total_vaccinations_per_hundred\"]\n",
    "                if np.isnan(df_place[\"vac\"][0]): # if the initial value is NaN, put 0\n",
    "                    df_place.loc[df_place.index[0],\"vac\"]=0\n",
    "                    df_place.loc[:,\"vac\"] = df_place[\"vac\"].fillna(method='ffill') # must assign the filled list to the \"vac\" column\n",
    "        \n",
    "            # case (per million) data\n",
    "            df_place[\"case_mil\"]=np.nan\n",
    "            if countryId in set(df_case.columns):\n",
    "                df_place_case = df_case.loc[:,[\"date\",countryId]].set_index(\"date\") \n",
    "                mobI, caseI = matchDate(df_place.index,df_place_case.index) # match dates   \n",
    "                df_place.loc[mobI,\"case_mil\"] = df_place_case.loc[caseI,countryId]\n",
    "                if np.isnan(df_place[\"case_mil\"][0]): # if the initial value is NaN, put 0\n",
    "                    df_place.loc[df_place.index[0],\"case_mil\"]=0\n",
    "                    df_place.loc[:,\"case_mil\"] = df_place[\"case_mil\"].fillna(method='ffill') # must assign the filled list to the \"vac\" column\n",
    "      \n",
    "            #if countryId not in country_label.keys(): # 1st occurrence of country contains national data\n",
    "            dict_country.update({countryId : df_place}) # the value of countryId is the nested dict mob_thisPlace\n",
    "            country_label[countryId] = 0"
   ]
  },
  {
   "cell_type": "code",
   "execution_count": 200,
   "id": "087f23e6-95c0-41b9-8e33-c7584a739df4",
   "metadata": {},
   "outputs": [],
   "source": [
    "# save data as pickle - a dictionary (dict_country)\n",
    "filePath_pickle = Path('/Users/parkj/Documents/pyDat/dataSet/covid_countryData.pickle')\n",
    "pickle_out = open(filePath_pickle, 'wb')\n",
    "pickle.dump(dict_country, pickle_out)\n",
    "pickle_out.close()"
   ]
  },
  {
   "cell_type": "code",
   "execution_count": 201,
   "id": "cd785a0d-5bfb-4eca-a882-aedb881a0623",
   "metadata": {},
   "outputs": [],
   "source": [
    "# create new dictionary from pickle file\n",
    "filePath_pickle = Path('/Users/parkj/Documents/pyDat/dataSet/covid_countryData.pickle')\n",
    "pickle_in = open(filePath_pickle, 'rb')\n",
    "country_dict = pickle.load(pickle_in)\n",
    "#diff = DeepDiff(dict_country, country_dict) # note that '==' does not work to compare the two dictionaries here! Use DeepDiff instead\n",
    "#diff"
   ]
  }
 ],
 "metadata": {
  "kernelspec": {
   "display_name": "Python 3",
   "language": "python",
   "name": "python3"
  },
  "language_info": {
   "codemirror_mode": {
    "name": "ipython",
    "version": 3
   },
   "file_extension": ".py",
   "mimetype": "text/x-python",
   "name": "python",
   "nbconvert_exporter": "python",
   "pygments_lexer": "ipython3",
   "version": "3.8.10"
  }
 },
 "nbformat": 4,
 "nbformat_minor": 5
}
