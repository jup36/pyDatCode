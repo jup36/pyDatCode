{
 "cells": [
  {
   "cell_type": "markdown",
   "id": "637eaab4-684b-482a-8e40-9e122bfae4f8",
   "metadata": {},
   "source": [
    "## 1.1 Contents<a id='1.1_contents'></a>\n",
    "* [1 Time Series 7-Day Forecasting with XGBoost individual countries](#1_time_series_7-day_forecasting_with_xbgoost)\n",
    "  * [1.1 Contents](#1.1_contents)  \n",
    "  * [1.2 Import](#1.2_import)\n",
    "  * [1.3 Function](#1.3_function) \n",
    "      * [1.3.1 Functions: feature_list](#1.3.1_feature_list)\n",
    "      * [1.3.2 Functions: split_sequences](#1.3.2_split_sequences)\n",
    "      * [1.3.3 Functions: plot_actual_predicted](#1.3.3_plot_actual_predicted)\n",
    "      * [1.3.4 Functions: split_sequence_features](#1.3.4_split_sequence_features)\n",
    "      * [1.3.5 Functions: rmse_y_y_pred](#1.3.5_rmse_y_y_pred)\n",
    "      * [1.3.6 Functions: rmse_y_y_pred_country](#1.3.6_rmse_y_y_pred_country)\n",
    "  * [1.4 Load data](#1.4_load_data)\n",
    "  * [1.5 Preprocessing](#1.5_preprocessing)\n",
    "      * [1.5.1 Preprocessing: get feature and target for model training and testing with cross-validation](#1.5.1_get_feature_target)\n",
    "      * [1.5.2 Preprocessing: scale feature and target variables](#1.5.2_scale_feature_target)\n",
    "  * [1.6 Train and test the XGBoost model](#1.6_train_test_xgboost_model)\n",
    "  * [1.7 Organize and evaluate model performance](#1.7_organize_evaludate_model)"
   ]
  },
  {
   "cell_type": "markdown",
   "id": "72101c39-d750-4493-898a-cc3b57f9cb86",
   "metadata": {},
   "source": [
    "## 1.4 Load data<a id='1.4_load_data'></a>"
   ]
  },
  {
   "cell_type": "code",
   "execution_count": null,
   "id": "88231103-5bce-4645-b7fc-2cb7ccb24b96",
   "metadata": {},
   "outputs": [],
   "source": []
  }
 ],
 "metadata": {
  "kernelspec": {
   "display_name": "Python 3",
   "language": "python",
   "name": "python3"
  },
  "language_info": {
   "codemirror_mode": {
    "name": "ipython",
    "version": 3
   },
   "file_extension": ".py",
   "mimetype": "text/x-python",
   "name": "python",
   "nbconvert_exporter": "python",
   "pygments_lexer": "ipython3",
   "version": "3.9.4"
  }
 },
 "nbformat": 4,
 "nbformat_minor": 5
}
