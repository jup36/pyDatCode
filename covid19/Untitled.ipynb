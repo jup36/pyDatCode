{
 "cells": [
  {
   "cell_type": "markdown",
   "id": "51fa7107-cc62-43eb-b876-e5f63e77fae1",
   "metadata": {},
   "source": [
    "## 1.1 Contents<a id='1.1_Contents'></a>\n",
    "* [1 Time_Series_Forecasting_with_persistence_model](#1_Time_Series_Forecasting_with_persistence_model)\n",
    "  * [1.1 Contents](#1.1_Contents)\n",
    "  * [1.2 Overview](#1.2_Overview)\n",
    "  * [1.3 Imports](#1.3_Imports)\n",
    "  * [1.4 Functions](#1.4_Functions)\n",
    "     * [1.4.1 Functions:_series_to_supervised](#1.4.1_Functions:_series_to_superviesed)\n",
    "     * [1.4.2 Functions: walk_forward_validation](#1.4.2_Functions:_walk_forward_validation)\n",
    "     * [1.4.4 Functions: train_test_split](#1.4.4_Functions:_train_test_split)\n",
    "     * [1.4.5 Functions: create_lagged_df](#1.4.5_Functions:_create_lagged_df)\n",
    "  * [1.5 Load Data](#1.5_Load_Data)\n",
    "  * [1.6 Organize Features and Targets with Lagging](#1.6_Organize_Features_and_Targets_with_Lagging) \n",
    "  * [1.7 Fit and Evaluate the Model](#1.7_Fit_and_Evaluate_the_Model)\n",
    "  * [1.8 Visualize Model Performance](#1.8_Visualize_Model_Performance)\n",
    "     * [1.8.1 Plot Actual and Predicted Cases](#1.8.1_Plot_Actual_and_Predicted_Cases)\n",
    "     * [1.8.2 Bar Plot the Mean Absolute Errors](#1.8.2_Bar_Plot_MAE)\n",
    "     * [1.8.3 Horizontal Bar Plot for Feature Importances](#1.8.3_Horizontal_Bar_Plot_Feature_Importances)\n",
    "  * [1.9 Save the Model](#1.9_Save_the_Model)"
   ]
  },
  {
   "cell_type": "markdown",
   "id": "fd80bea9-d1c2-40a4-bca8-c01c1b9a254a",
   "metadata": {},
   "source": []
  }
 ],
 "metadata": {
  "kernelspec": {
   "display_name": "Python 3.8 (XPython)",
   "language": "python",
   "name": "xpython"
  },
  "language_info": {
   "file_extension": ".py",
   "mimetype": "text/x-python",
   "name": "python",
   "version": "3.8.10"
  }
 },
 "nbformat": 4,
 "nbformat_minor": 5
}
