{
 "cells": [
  {
   "cell_type": "code",
   "execution_count": null,
   "id": "eda54196-4dfd-4a41-90c5-6bf7a6ba51e6",
   "metadata": {},
   "outputs": [],
   "source": [
    "rez_MLP_7d_val = {}\n",
    "val_set_idx = np.isnan(val_y_pred).sum(axis=1)==0\n",
    "rez_MLP_7d_val['timestamp'] = [train_timestamp[i] for i, logic in enumerate(val_set_idx) if logic ==True]\n",
    "rez_MLP_7d_val['country'] = [train_country[i] for i, logic in enumerate(val_set_idx) if logic ==True]\n",
    "rez_MLP_7d_val['X'] = train_X[val_set_idx,:] # note that variables are scaled and preprocessed for embedding \n",
    "rez_MLP_7d_val['y'] = scaler_y.inverse_transform(train_y)[val_set_idx,:] # back to the original unit (cases per million)\n",
    "rez_MLP_7d_val['y_pred'] = scaler_y.inverse_transform(val_y_pred)[val_set_idx,:] "
   ]
  }
 ],
 "metadata": {
  "kernelspec": {
   "display_name": "Python 3",
   "language": "python",
   "name": "python3"
  },
  "language_info": {
   "codemirror_mode": {
    "name": "ipython",
    "version": 3
   },
   "file_extension": ".py",
   "mimetype": "text/x-python",
   "name": "python",
   "nbconvert_exporter": "python",
   "pygments_lexer": "ipython3",
   "version": "3.9.6"
  }
 },
 "nbformat": 4,
 "nbformat_minor": 5
}
