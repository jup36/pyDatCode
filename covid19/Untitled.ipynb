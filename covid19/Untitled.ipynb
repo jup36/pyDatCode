{
 "cells": [
  {
   "cell_type": "code",
   "execution_count": 45,
   "id": "c90c2883-67ee-459a-b0ca-3bafc79ef705",
   "metadata": {},
   "outputs": [],
   "source": [
    "nums = [1,2,-2,-1]\n",
    "triple_sum_zero = []\n",
    "triplets = []\n",
    "# exceptions\n",
    "if len(nums) < 3:\n",
    "    triple_sum_zero = []\n",
    "else: \n",
    "    for i in range(len(nums)): \n",
    "          for ii in range(i+1,len(nums)):\n",
    "                for iii in range(ii+1,len(nums)):\n",
    "                        triplet = sorted([nums[i],nums[ii],nums[iii]])\n",
    "                        triplets.append([i, ii, iii])\n",
    "                        if sum(triplet)==0 and triplet not in triple_sum_zero:\n",
    "                             triple_sum_zero.append(triplet)"
   ]
  },
  {
   "cell_type": "code",
   "execution_count": null,
   "id": "2b8a3cf8-b8ec-4ccf-b947-adae67a68e69",
   "metadata": {},
   "outputs": [],
   "source": []
  }
 ],
 "metadata": {
  "kernelspec": {
   "display_name": "Python 3",
   "language": "python",
   "name": "python3"
  },
  "language_info": {
   "codemirror_mode": {
    "name": "ipython",
    "version": 3
   },
   "file_extension": ".py",
   "mimetype": "text/x-python",
   "name": "python",
   "nbconvert_exporter": "python",
   "pygments_lexer": "ipython3",
   "version": "3.9.4"
  }
 },
 "nbformat": 4,
 "nbformat_minor": 5
}
