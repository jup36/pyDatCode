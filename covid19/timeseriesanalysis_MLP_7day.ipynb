{
 "cells": [
  {
   "cell_type": "markdown",
   "id": "3b46e110-952d-4d0f-915f-f89cd51eadc5",
   "metadata": {},
   "source": [
    "# 1 Time Series 7-Day Forecasting with multi-layer perceptron<a id='1_time_series_7-day_forecasting_with_mlp'></a>"
   ]
  },
  {
   "cell_type": "markdown",
   "id": "98193852-5de8-4969-9063-43fff59372ce",
   "metadata": {},
   "source": [
    "## 1.1 Contents<a id='1.1_contents'></a>\n",
    "* [1 Covid-19 Data Collection and Wrangling](#1_data_collection_wrangling)\n",
    "  * [1.1 Contents](#1.1_contents)  \n",
    "  * [1.2 Imports](#1.2_imports)\n",
    "  * [1.3 Functions](#1.3_functions)\n",
    "      * [1.3.1 Function: ](#1.3.1_)"
   ]
  },
  {
   "cell_type": "code",
   "execution_count": 2,
   "id": "fae64b89-8f78-4539-844d-40bd9ba71003",
   "metadata": {},
   "outputs": [],
   "source": [
    "import pickle\n",
    "from pathlib import Path\n",
    "from datetime import datetime\n",
    "from isoweek import Week\n",
    "import math"
   ]
  },
  {
   "cell_type": "code",
   "execution_count": 3,
   "id": "5fa522d4-f87d-4111-bbc3-763ccb447177",
   "metadata": {},
   "outputs": [],
   "source": [
    "# load the saved dictionary from pickle file\n",
    "filePath_pickle = Path('/Users/parkj/Documents/pyDat/dataSet/covid_country_data.pickle')\n",
    "with open(filePath_pickle, 'rb') as f:\n",
    "    dict_country = pickle.load(f)"
   ]
  },
  {
   "cell_type": "code",
   "execution_count": null,
   "id": "5e0d7253-635a-4fa5-8707-454622d86931",
   "metadata": {},
   "outputs": [],
   "source": []
  },
  {
   "cell_type": "code",
   "execution_count": 51,
   "id": "3d8e919e-7f9d-4b3d-9c26-e468d0581e90",
   "metadata": {},
   "outputs": [],
   "source": [
    "def feature_list(dict_country): \n",
    "    for i, country_key in enumerate(dict_country.keys()):\n",
    "        df_country = dict_country[country_key]\n",
    "        for row in df_country.iterrows():\n",
    "            dt = row[0].to_pydatetime()\n",
    "            year = dt.year\n",
    "            month = dt.month\n",
    "            day = dt.day\n",
    "            week_of_year = dt.isocalendar()[1]\n",
    "            day_of_week = row[1].dayow\n",
    "            \n",
    "    \n",
    "    return "
   ]
  },
  {
   "cell_type": "code",
   "execution_count": 13,
   "id": "39d08d00-f3bd-4c50-a7dd-7ef9010d4c80",
   "metadata": {},
   "outputs": [],
   "source": []
  },
  {
   "cell_type": "code",
   "execution_count": null,
   "id": "898e2a0c-aeeb-4f96-991d-56ec83482893",
   "metadata": {},
   "outputs": [],
   "source": []
  }
 ],
 "metadata": {
  "kernelspec": {
   "display_name": "Python 3",
   "language": "python",
   "name": "python3"
  },
  "language_info": {
   "codemirror_mode": {
    "name": "ipython",
    "version": 3
   },
   "file_extension": ".py",
   "mimetype": "text/x-python",
   "name": "python",
   "nbconvert_exporter": "python",
   "pygments_lexer": "ipython3",
   "version": "3.9.6"
  }
 },
 "nbformat": 4,
 "nbformat_minor": 5
}
