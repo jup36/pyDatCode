{
 "cells": [
  {
   "cell_type": "code",
   "execution_count": 5,
   "id": "328dd6c7-6e01-40e3-a524-0dee76c630b1",
   "metadata": {},
   "outputs": [
    {
     "name": "stdout",
     "output_type": "stream",
     "text": [
      "ellohay owhay reaay ouyay\n"
     ]
    }
   ],
   "source": [
    "def pig_latin(text): \n",
    "    words = text.split()\n",
    "    pigged_text = []\n",
    "    for word in words:\n",
    "        word = word[1:]+word[0]+'ay'\n",
    "        pigged_text.append(word)\n",
    "    return ' '.join(pigged_text)\n",
    "    \n",
    "print(pig_latin(\"hello how are you\"))"
   ]
  },
  {
   "cell_type": "code",
   "execution_count": null,
   "id": "c66e5808-5f09-4519-8c4b-b6f5b5ad958e",
   "metadata": {},
   "outputs": [],
   "source": []
  }
 ],
 "metadata": {
  "kernelspec": {
   "display_name": "Python 3",
   "language": "python",
   "name": "python3"
  },
  "language_info": {
   "codemirror_mode": {
    "name": "ipython",
    "version": 3
   },
   "file_extension": ".py",
   "mimetype": "text/x-python",
   "name": "python",
   "nbconvert_exporter": "python",
   "pygments_lexer": "ipython3",
   "version": "3.8.8"
  }
 },
 "nbformat": 4,
 "nbformat_minor": 5
}
